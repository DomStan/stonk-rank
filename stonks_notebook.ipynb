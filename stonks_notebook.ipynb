{
 "cells": [
  {
   "cell_type": "markdown",
   "metadata": {},
   "source": [
    "# Imports"
   ]
  },
  {
   "cell_type": "code",
   "execution_count": 2,
   "metadata": {},
   "outputs": [],
   "source": [
    "# Data management\n",
    "import numpy as np\n",
    "import pandas as pd\n",
    "\n",
    "# Data fetching\n",
    "import yfinance as yf\n",
    "\n",
    "# Spread generation\n",
    "from sklearn.linear_model import LinearRegression\n",
    "\n",
    "# Backtesting\n",
    "\n",
    "# ML\n",
    "\n",
    "# Utils\n",
    "from datetime import datetime\n",
    "from datetime import timedelta\n",
    "import os"
   ]
  },
  {
   "cell_type": "markdown",
   "metadata": {},
   "source": [
    "# Utils"
   ]
  },
  {
   "cell_type": "markdown",
   "metadata": {},
   "source": [
    "## Data fetch"
   ]
  },
  {
   "cell_type": "code",
   "execution_count": 14,
   "metadata": {},
   "outputs": [],
   "source": [
    "def get_stonk_data(stonk_list, period_years=3, date_from=None, date_to=datetime.now(), interval='1d', source='yfinance', data_dir='data', file_prefix='stonks', proxy=False):    \n",
    "    '''\n",
    "    Returns historical price data for the selected stonks.\n",
    "\n",
    "        Parameters:\n",
    "            Required:\n",
    "                stonk_list (string, list):\n",
    "                    List of stonk identifiers as strings, case unsensitive\n",
    "                period_years (float):\n",
    "                    How many years of data to download until date_to, can be a floating point number\n",
    "            Optional:\n",
    "                date_from (datetime):\n",
    "                    Start date for stonk data (use instead of period_years)\n",
    "                date_to (datetime):\n",
    "                    End date for stonk data\n",
    "                interval (string):\n",
    "                    Valid intervals: 1m,2m,5m,15m,30m,60m,90m,1h,1d,5d,1wk,1mo,3mo\n",
    "                source (string):\n",
    "                    Where to source data from. Valid sources: yfinance\n",
    "                data_dir (string):\n",
    "                    Folder name where to output downloaded data\n",
    "                file_prefix (string):\n",
    "                    Prefix of CSV file containing downloaded data inside data_dir\n",
    "                proxy (boolean):\n",
    "                    Whether to use a proxy connection to avoid API limits/blocks\n",
    "                \n",
    "        Returns:\n",
    "            stonk_data (Pandas Dataframe): Pandas Dataframe containing requested data\n",
    "    '''\n",
    "    \n",
    "    if date_from is None:\n",
    "        date_from = date_to-(timedelta(days=int(365*period_years)))\n",
    "        \n",
    "    if source.lower() == 'yfinance':\n",
    "        stonks = yf.download(list(stonk_list), start=date_from, end=date_to, interval=interval, group_by='column', threads=True, rounding=True)['Adj Close']\n",
    "        stonks.dropna(axis=0, how='all', thresh=len(stonks.columns) // 2, inplace=True)\n",
    "        stonks.dropna(axis=1, how='any', inplace=True)\n",
    "    else:\n",
    "        raise ValueError('Unsupported data source')\n",
    "        \n",
    "    from_date_string = stonks.index[0].strftime('%Y-%m-%d')\n",
    "    to_date_string = stonks.index[-1].strftime('%Y-%m-%d')\n",
    "    \n",
    "    filename = '{prefix}_{from_date}_to_{to_date}.csv'.format(prefix=file_prefix, from_date=from_date_string, to_date=to_date_string)\n",
    "    file_path = os.path.join(data_dir, filename)\n",
    "    \n",
    "    stonks.to_csv(path_or_buf=file_path, header=True, index=True)\n",
    "    \n",
    "    return stonks"
   ]
  },
  {
   "cell_type": "code",
   "execution_count": 7,
   "metadata": {},
   "outputs": [
    {
     "name": "stdout",
     "output_type": "stream",
     "text": [
      "[*********************100%***********************]  3 of 3 completed\n",
      "\n",
      "1 Failed download:\n",
      "- FFS: No data found for this date range, symbol may be delisted\n"
     ]
    }
   ],
   "source": [
    "stonks = yf.download([\"googl\", \"tsla\", \"ffs\"], period='2d', interval='1d', group_by='column', threads=True, rounding=True)"
   ]
  },
  {
   "cell_type": "code",
   "execution_count": 20,
   "metadata": {},
   "outputs": [
    {
     "name": "stdout",
     "output_type": "stream",
     "text": [
      "[*********************100%***********************]  3 of 3 completed\n",
      "\n",
      "1 Failed download:\n",
      "- FFS: No data found for this date range, symbol may be delisted\n"
     ]
    }
   ],
   "source": [
    "stonks = get_stonk_data([\"googl\", \"tsla\", \"ffs\"], period_years=0.01)"
   ]
  },
  {
   "cell_type": "code",
   "execution_count": 3,
   "metadata": {},
   "outputs": [],
   "source": [
    "stonks = pd.read_csv('data/stonks_2022-02-15_to_2022-02-18.csv')"
   ]
  },
  {
   "cell_type": "code",
   "execution_count": 7,
   "metadata": {},
   "outputs": [
    {
     "data": {
      "text/html": [
       "<div>\n",
       "<style scoped>\n",
       "    .dataframe tbody tr th:only-of-type {\n",
       "        vertical-align: middle;\n",
       "    }\n",
       "\n",
       "    .dataframe tbody tr th {\n",
       "        vertical-align: top;\n",
       "    }\n",
       "\n",
       "    .dataframe thead th {\n",
       "        text-align: right;\n",
       "    }\n",
       "</style>\n",
       "<table border=\"1\" class=\"dataframe\">\n",
       "  <thead>\n",
       "    <tr style=\"text-align: right;\">\n",
       "      <th></th>\n",
       "      <th>Date</th>\n",
       "      <th>A</th>\n",
       "      <th>AA</th>\n",
       "      <th>AAL</th>\n",
       "      <th>AAON</th>\n",
       "      <th>AAP</th>\n",
       "      <th>AAPL</th>\n",
       "      <th>AAWW</th>\n",
       "      <th>AAXJ</th>\n",
       "      <th>AB</th>\n",
       "      <th>...</th>\n",
       "      <th>ZIONP</th>\n",
       "      <th>ZIP</th>\n",
       "      <th>ZM</th>\n",
       "      <th>ZNGA</th>\n",
       "      <th>ZNTL</th>\n",
       "      <th>ZS</th>\n",
       "      <th>ZTS</th>\n",
       "      <th>ZUMZ</th>\n",
       "      <th>ZUO</th>\n",
       "      <th>ZWS</th>\n",
       "    </tr>\n",
       "  </thead>\n",
       "  <tbody>\n",
       "    <tr>\n",
       "      <th>0</th>\n",
       "      <td>2022-02-15</td>\n",
       "      <td>NaN</td>\n",
       "      <td>NaN</td>\n",
       "      <td>NaN</td>\n",
       "      <td>NaN</td>\n",
       "      <td>NaN</td>\n",
       "      <td>NaN</td>\n",
       "      <td>NaN</td>\n",
       "      <td>NaN</td>\n",
       "      <td>NaN</td>\n",
       "      <td>...</td>\n",
       "      <td>NaN</td>\n",
       "      <td>NaN</td>\n",
       "      <td>NaN</td>\n",
       "      <td>NaN</td>\n",
       "      <td>NaN</td>\n",
       "      <td>NaN</td>\n",
       "      <td>NaN</td>\n",
       "      <td>NaN</td>\n",
       "      <td>NaN</td>\n",
       "      <td>NaN</td>\n",
       "    </tr>\n",
       "    <tr>\n",
       "      <th>1</th>\n",
       "      <td>2022-02-16</td>\n",
       "      <td>135.15</td>\n",
       "      <td>77.84</td>\n",
       "      <td>18.82</td>\n",
       "      <td>59.69</td>\n",
       "      <td>222.39</td>\n",
       "      <td>172.55</td>\n",
       "      <td>79.07</td>\n",
       "      <td>82.76</td>\n",
       "      <td>46.46</td>\n",
       "      <td>...</td>\n",
       "      <td>22.56</td>\n",
       "      <td>21.49</td>\n",
       "      <td>138.51</td>\n",
       "      <td>8.90</td>\n",
       "      <td>51.57</td>\n",
       "      <td>280.87</td>\n",
       "      <td>195.09</td>\n",
       "      <td>45.89</td>\n",
       "      <td>16.34</td>\n",
       "      <td>34.69</td>\n",
       "    </tr>\n",
       "    <tr>\n",
       "      <th>2</th>\n",
       "      <td>2022-02-17</td>\n",
       "      <td>130.25</td>\n",
       "      <td>76.47</td>\n",
       "      <td>18.22</td>\n",
       "      <td>58.14</td>\n",
       "      <td>220.41</td>\n",
       "      <td>168.88</td>\n",
       "      <td>77.10</td>\n",
       "      <td>82.01</td>\n",
       "      <td>45.25</td>\n",
       "      <td>...</td>\n",
       "      <td>23.00</td>\n",
       "      <td>20.56</td>\n",
       "      <td>129.38</td>\n",
       "      <td>8.88</td>\n",
       "      <td>49.57</td>\n",
       "      <td>261.94</td>\n",
       "      <td>193.07</td>\n",
       "      <td>43.82</td>\n",
       "      <td>15.22</td>\n",
       "      <td>33.88</td>\n",
       "    </tr>\n",
       "    <tr>\n",
       "      <th>3</th>\n",
       "      <td>2022-02-18</td>\n",
       "      <td>132.05</td>\n",
       "      <td>78.20</td>\n",
       "      <td>17.87</td>\n",
       "      <td>58.22</td>\n",
       "      <td>218.80</td>\n",
       "      <td>167.30</td>\n",
       "      <td>78.47</td>\n",
       "      <td>81.33</td>\n",
       "      <td>44.99</td>\n",
       "      <td>...</td>\n",
       "      <td>23.00</td>\n",
       "      <td>19.77</td>\n",
       "      <td>126.96</td>\n",
       "      <td>8.84</td>\n",
       "      <td>47.66</td>\n",
       "      <td>255.22</td>\n",
       "      <td>191.32</td>\n",
       "      <td>43.98</td>\n",
       "      <td>14.62</td>\n",
       "      <td>33.37</td>\n",
       "    </tr>\n",
       "  </tbody>\n",
       "</table>\n",
       "<p>4 rows × 2284 columns</p>\n",
       "</div>"
      ],
      "text/plain": [
       "         Date       A     AA    AAL   AAON     AAP    AAPL   AAWW   AAXJ  \\\n",
       "0  2022-02-15     NaN    NaN    NaN    NaN     NaN     NaN    NaN    NaN   \n",
       "1  2022-02-16  135.15  77.84  18.82  59.69  222.39  172.55  79.07  82.76   \n",
       "2  2022-02-17  130.25  76.47  18.22  58.14  220.41  168.88  77.10  82.01   \n",
       "3  2022-02-18  132.05  78.20  17.87  58.22  218.80  167.30  78.47  81.33   \n",
       "\n",
       "      AB  ...  ZIONP    ZIP      ZM  ZNGA   ZNTL      ZS     ZTS   ZUMZ  \\\n",
       "0    NaN  ...    NaN    NaN     NaN   NaN    NaN     NaN     NaN    NaN   \n",
       "1  46.46  ...  22.56  21.49  138.51  8.90  51.57  280.87  195.09  45.89   \n",
       "2  45.25  ...  23.00  20.56  129.38  8.88  49.57  261.94  193.07  43.82   \n",
       "3  44.99  ...  23.00  19.77  126.96  8.84  47.66  255.22  191.32  43.98   \n",
       "\n",
       "     ZUO    ZWS  \n",
       "0    NaN    NaN  \n",
       "1  16.34  34.69  \n",
       "2  15.22  33.88  \n",
       "3  14.62  33.37  \n",
       "\n",
       "[4 rows x 2284 columns]"
      ]
     },
     "execution_count": 7,
     "metadata": {},
     "output_type": "execute_result"
    }
   ],
   "source": [
    "stonks"
   ]
  },
  {
   "cell_type": "code",
   "execution_count": 18,
   "metadata": {},
   "outputs": [
    {
     "data": {
      "text/plain": [
       "'2022-02-16'"
      ]
     },
     "execution_count": 18,
     "metadata": {},
     "output_type": "execute_result"
    }
   ],
   "source": [
    "stonks.index[0].strftime('%Y-%m-%d')"
   ]
  },
  {
   "cell_type": "code",
   "execution_count": 11,
   "metadata": {},
   "outputs": [],
   "source": [
    "stonk_list = pd.read_csv('data/stonk_list.csv')"
   ]
  },
  {
   "cell_type": "code",
   "execution_count": 12,
   "metadata": {},
   "outputs": [
    {
     "data": {
      "text/html": [
       "<div>\n",
       "<style scoped>\n",
       "    .dataframe tbody tr th:only-of-type {\n",
       "        vertical-align: middle;\n",
       "    }\n",
       "\n",
       "    .dataframe tbody tr th {\n",
       "        vertical-align: top;\n",
       "    }\n",
       "\n",
       "    .dataframe thead th {\n",
       "        text-align: right;\n",
       "    }\n",
       "</style>\n",
       "<table border=\"1\" class=\"dataframe\">\n",
       "  <thead>\n",
       "    <tr style=\"text-align: right;\">\n",
       "      <th></th>\n",
       "      <th>ticker</th>\n",
       "      <th>subindustry</th>\n",
       "    </tr>\n",
       "  </thead>\n",
       "  <tbody>\n",
       "    <tr>\n",
       "      <th>30</th>\n",
       "      <td>PFE</td>\n",
       "      <td>pharmaceuticals_biotechnology_and_life_sciences</td>\n",
       "    </tr>\n",
       "    <tr>\n",
       "      <th>31</th>\n",
       "      <td>PFE.VI</td>\n",
       "      <td>pharmaceuticals_biotechnology_and_life_sciences</td>\n",
       "    </tr>\n",
       "  </tbody>\n",
       "</table>\n",
       "</div>"
      ],
      "text/plain": [
       "    ticker                                      subindustry\n",
       "30     PFE  pharmaceuticals_biotechnology_and_life_sciences\n",
       "31  PFE.VI  pharmaceuticals_biotechnology_and_life_sciences"
      ]
     },
     "execution_count": 12,
     "metadata": {},
     "output_type": "execute_result"
    }
   ],
   "source": [
    "stonk_list[stonk_list['ticker'].str.contains('PFE')]"
   ]
  },
  {
   "cell_type": "code",
   "execution_count": 15,
   "metadata": {},
   "outputs": [
    {
     "name": "stdout",
     "output_type": "stream",
     "text": [
      "[*********************100%***********************]  2283 of 2283 completed\n",
      "\n",
      "11 Failed downloads:\n",
      "- SNX.VI: No data found, symbol may be delisted\n",
      "- FHN PRA: No data found, symbol may be delisted\n",
      "- NRZ-PD: No data found for this date range, symbol may be delisted\n",
      "- WFC PRN: No data found, symbol may be delisted\n",
      "- FTAI-PA: No data found for this date range, symbol may be delisted\n",
      "- ET-PC: No data found for this date range, symbol may be delisted\n",
      "- ET-PE: No data found for this date range, symbol may be delisted\n",
      "- WCC-PA: No data found for this date range, symbol may be delisted\n",
      "- ET-PD: No data found for this date range, symbol may be delisted\n",
      "- ALL-PB: No data found for this date range, symbol may be delisted\n",
      "- RXN.VI: No data found, symbol may be delisted\n"
     ]
    }
   ],
   "source": [
    "df = get_stonk_data(stonk_list['ticker'], period_years=0.01)"
   ]
  },
  {
   "cell_type": "code",
   "execution_count": null,
   "metadata": {},
   "outputs": [],
   "source": []
  },
  {
   "cell_type": "code",
   "execution_count": 11,
   "metadata": {},
   "outputs": [
    {
     "name": "stdout",
     "output_type": "stream",
     "text": [
      "Help on function download in module yfinance.multi:\n",
      "\n",
      "download(tickers, start=None, end=None, actions=False, threads=True, group_by='column', auto_adjust=False, back_adjust=False, progress=True, period='max', show_errors=True, interval='1d', prepost=False, proxy=None, rounding=False, timeout=None, **kwargs)\n",
      "    Download yahoo tickers\n",
      "    :Parameters:\n",
      "        tickers : str, list\n",
      "            List of tickers to download\n",
      "        period : str\n",
      "            Valid periods: 1d,5d,1mo,3mo,6mo,1y,2y,5y,10y,ytd,max\n",
      "            Either Use period parameter or use start and end\n",
      "        interval : str\n",
      "            Valid intervals: 1m,2m,5m,15m,30m,60m,90m,1h,1d,5d,1wk,1mo,3mo\n",
      "            Intraday data cannot extend last 60 days\n",
      "        start: str\n",
      "            Download start date string (YYYY-MM-DD) or _datetime.\n",
      "            Default is 1900-01-01\n",
      "        end: str\n",
      "            Download end date string (YYYY-MM-DD) or _datetime.\n",
      "            Default is now\n",
      "        group_by : str\n",
      "            Group by 'ticker' or 'column' (default)\n",
      "        prepost : bool\n",
      "            Include Pre and Post market data in results?\n",
      "            Default is False\n",
      "        auto_adjust: bool\n",
      "            Adjust all OHLC automatically? Default is False\n",
      "        actions: bool\n",
      "            Download dividend + stock splits data. Default is False\n",
      "        threads: bool / int\n",
      "            How many threads to use for mass downloading. Default is True\n",
      "        proxy: str\n",
      "            Optional. Proxy server URL scheme. Default is None\n",
      "        rounding: bool\n",
      "            Optional. Round values to 2 decimal places?\n",
      "        show_errors: bool\n",
      "            Optional. Doesn't print errors if True\n",
      "        timeout: None or float\n",
      "            If not None stops waiting for a response after given number of\n",
      "            seconds. (Can also be a fraction of a second e.g. 0.01)\n",
      "\n"
     ]
    }
   ],
   "source": [
    "help(yf.download)"
   ]
  },
  {
   "cell_type": "code",
   "execution_count": 8,
   "metadata": {},
   "outputs": [
    {
     "name": "stdout",
     "output_type": "stream",
     "text": [
      "Help on class Ticker in module yfinance.ticker:\n",
      "\n",
      "class Ticker(yfinance.base.TickerBase)\n",
      " |  Ticker(ticker, session=None)\n",
      " |  \n",
      " |  Method resolution order:\n",
      " |      Ticker\n",
      " |      yfinance.base.TickerBase\n",
      " |      builtins.object\n",
      " |  \n",
      " |  Methods defined here:\n",
      " |  \n",
      " |  __repr__(self)\n",
      " |      Return repr(self).\n",
      " |  \n",
      " |  option_chain(self, date=None, proxy=None, tz=None)\n",
      " |  \n",
      " |  ----------------------------------------------------------------------\n",
      " |  Readonly properties defined here:\n",
      " |  \n",
      " |  actions\n",
      " |  \n",
      " |  analysis\n",
      " |  \n",
      " |  balance_sheet\n",
      " |  \n",
      " |  balancesheet\n",
      " |  \n",
      " |  calendar\n",
      " |  \n",
      " |  cashflow\n",
      " |  \n",
      " |  dividends\n",
      " |  \n",
      " |  earnings\n",
      " |  \n",
      " |  financials\n",
      " |  \n",
      " |  info\n",
      " |  \n",
      " |  institutional_holders\n",
      " |  \n",
      " |  isin\n",
      " |  \n",
      " |  major_holders\n",
      " |  \n",
      " |  mutualfund_holders\n",
      " |  \n",
      " |  news\n",
      " |  \n",
      " |  options\n",
      " |  \n",
      " |  quarterly_balance_sheet\n",
      " |  \n",
      " |  quarterly_balancesheet\n",
      " |  \n",
      " |  quarterly_cashflow\n",
      " |  \n",
      " |  quarterly_earnings\n",
      " |  \n",
      " |  quarterly_financials\n",
      " |  \n",
      " |  recommendations\n",
      " |  \n",
      " |  shares\n",
      " |  \n",
      " |  splits\n",
      " |  \n",
      " |  sustainability\n",
      " |  \n",
      " |  ----------------------------------------------------------------------\n",
      " |  Methods inherited from yfinance.base.TickerBase:\n",
      " |  \n",
      " |  __init__(self, ticker, session=None)\n",
      " |      Initialize self.  See help(type(self)) for accurate signature.\n",
      " |  \n",
      " |  get_actions(self, proxy=None)\n",
      " |  \n",
      " |  get_analysis(self, proxy=None, as_dict=False, *args, **kwargs)\n",
      " |  \n",
      " |  get_balance_sheet(self, proxy=None, as_dict=False, freq='yearly')\n",
      " |  \n",
      " |  get_balancesheet(self, proxy=None, as_dict=False, freq='yearly')\n",
      " |  \n",
      " |  get_calendar(self, proxy=None, as_dict=False, *args, **kwargs)\n",
      " |  \n",
      " |  get_cashflow(self, proxy=None, as_dict=False, freq='yearly')\n",
      " |  \n",
      " |  get_dividends(self, proxy=None)\n",
      " |  \n",
      " |  get_earnings(self, proxy=None, as_dict=False, freq='yearly')\n",
      " |  \n",
      " |  get_financials(self, proxy=None, as_dict=False, freq='yearly')\n",
      " |  \n",
      " |  get_info(self, proxy=None, as_dict=False, *args, **kwargs)\n",
      " |  \n",
      " |  get_institutional_holders(self, proxy=None, as_dict=False, *args, **kwargs)\n",
      " |  \n",
      " |  get_isin(self, proxy=None)\n",
      " |  \n",
      " |  get_major_holders(self, proxy=None, as_dict=False, *args, **kwargs)\n",
      " |  \n",
      " |  get_mutualfund_holders(self, proxy=None, as_dict=False, *args, **kwargs)\n",
      " |  \n",
      " |  get_news(self, proxy=None)\n",
      " |  \n",
      " |  get_recommendations(self, proxy=None, as_dict=False, *args, **kwargs)\n",
      " |  \n",
      " |  get_shares(self, proxy=None, as_dict=False, *args, **kwargs)\n",
      " |  \n",
      " |  get_splits(self, proxy=None)\n",
      " |  \n",
      " |  get_sustainability(self, proxy=None, as_dict=False, *args, **kwargs)\n",
      " |  \n",
      " |  history(self, period='1mo', interval='1d', start=None, end=None, prepost=False, actions=True, auto_adjust=True, back_adjust=False, proxy=None, rounding=False, tz=None, timeout=None, **kwargs)\n",
      " |      :Parameters:\n",
      " |          period : str\n",
      " |              Valid periods: 1d,5d,1mo,3mo,6mo,1y,2y,5y,10y,ytd,max\n",
      " |              Either Use period parameter or use start and end\n",
      " |          interval : str\n",
      " |              Valid intervals: 1m,2m,5m,15m,30m,60m,90m,1h,1d,5d,1wk,1mo,3mo\n",
      " |              Intraday data cannot extend last 60 days\n",
      " |          start: str\n",
      " |              Download start date string (YYYY-MM-DD) or _datetime.\n",
      " |              Default is 1900-01-01\n",
      " |          end: str\n",
      " |              Download end date string (YYYY-MM-DD) or _datetime.\n",
      " |              Default is now\n",
      " |          prepost : bool\n",
      " |              Include Pre and Post market data in results?\n",
      " |              Default is False\n",
      " |          auto_adjust: bool\n",
      " |              Adjust all OHLC automatically? Default is True\n",
      " |          back_adjust: bool\n",
      " |              Back-adjusted data to mimic true historical prices\n",
      " |          proxy: str\n",
      " |              Optional. Proxy server URL scheme. Default is None\n",
      " |          rounding: bool\n",
      " |              Round values to 2 decimal places?\n",
      " |              Optional. Default is False = precision suggested by Yahoo!\n",
      " |          tz: str\n",
      " |              Optional timezone locale for dates.\n",
      " |              (default data is returned as non-localized dates)\n",
      " |          timeout: None or float\n",
      " |              If not None stops waiting for a response after given number of\n",
      " |              seconds. (Can also be a fraction of a second e.g. 0.01)\n",
      " |              Default is None.\n",
      " |          **kwargs: dict\n",
      " |              debug: bool\n",
      " |                  Optional. If passed as False, will suppress\n",
      " |                  error message printing to console.\n",
      " |  \n",
      " |  stats(self, proxy=None)\n",
      " |  \n",
      " |  ----------------------------------------------------------------------\n",
      " |  Data descriptors inherited from yfinance.base.TickerBase:\n",
      " |  \n",
      " |  __dict__\n",
      " |      dictionary for instance variables (if defined)\n",
      " |  \n",
      " |  __weakref__\n",
      " |      list of weak references to the object (if defined)\n",
      "\n"
     ]
    }
   ],
   "source": [
    "help(yf.Ticker)"
   ]
  },
  {
   "cell_type": "markdown",
   "metadata": {},
   "source": [
    "## Backtesting"
   ]
  },
  {
   "cell_type": "markdown",
   "metadata": {},
   "source": [
    "## Stock list preprocessing"
   ]
  },
  {
   "cell_type": "code",
   "execution_count": 9,
   "metadata": {},
   "outputs": [],
   "source": [
    "def preprocess_stock_list(raw_data_path='data/raw_stock_list.xls', output_path='data/stonk_list.csv'):\n",
    "    '''\n",
    "    Parses a raw excel file from CapitalIQ containing ticker names and their subindustries, validates\n",
    "    unusual ticker names with Yahoo Finance, saving the processed data in CSV format.\n",
    "\n",
    "        Parameters:\n",
    "            Required:\n",
    "                raw_data_path (string):\n",
    "                    Path to the raw excel file.\n",
    "                output_path (string):\n",
    "                    Path where to save the parsed data.\n",
    "                \n",
    "        Returns:\n",
    "            Nothing\n",
    "    '''\n",
    "    \n",
    "    df = pd.read_excel(io=raw_data_path)\n",
    "    \n",
    "    # Drop NA rows\n",
    "    df.dropna(axis=0, inplace=True)\n",
    "    \n",
    "    # Reset index and drop the first row\n",
    "    df.reset_index(inplace=True, drop=True)\n",
    "    df.drop(index=0, axis=0, inplace=True)\n",
    "    \n",
    "    # Drop unwanted columns\n",
    "    df.drop(columns=df.columns[[1, 2, 3, 4, 5, 7, 8, 9]], inplace=True)\n",
    "    \n",
    "    # Rename remaining columns\n",
    "    df.columns = ['ticker', 'subindustry']\n",
    "    \n",
    "    # Remove the '(Primary)' tag from subindustries\n",
    "    df['subindustry'] = df['subindustry'].str.replace(r' \\(Primary\\)', '')\n",
    "    \n",
    "    # Remove everything until (and including) the semicolon for tickers\n",
    "    df['ticker'] = df['ticker'].str.replace(r'(.*:)', '')\n",
    "    \n",
    "    df['ticker'] = df['ticker'].str.replace(r' WI', '.VI')\n",
    "    df['ticker'] = df['ticker'].str.replace(r'\\.WI', '.VI')\n",
    "    \n",
    "    # Replace the ticker endings for a Yahoo finance supported format\n",
    "    df['ticker'] = df['ticker'].str.replace(r'\\.PR', '-P')\n",
    "    \n",
    "#     # Drop tickers with two letters after a dot, unavailable in Yahoo finance\n",
    "#     df = df[~df['ticker'].str.fullmatch(r'[A-Z]*\\.[A-Z]{2}')]\n",
    "    \n",
    "    # Take all remaining tickers that have a dot\n",
    "    dotted = df[df['ticker'].str.fullmatch(r'[A-Z]*\\.[A-Z]')]\n",
    "    \n",
    "    # Replace the dots with dashes\n",
    "    dashed = dotted.copy()\n",
    "    dashed['ticker'] = dashed['ticker'].str.replace(r'\\.', '-')\n",
    "    \n",
    "    # Remove the dots\n",
    "    undotted = dotted.copy()\n",
    "    undotted['ticker'] = undotted['ticker'].str.replace(r'\\.', '')\n",
    "\n",
    "    # Combine all variantas together\n",
    "    all_variants = pd.concat([dotted, dashed, undotted])\n",
    "    \n",
    "    # Run all of these through Yahoo finance, get last day's price\n",
    "    stonks = yf.download(list(all_variants['ticker'].astype('string').values), period='1m', interval='1d', group_by='column')\n",
    "    \n",
    "    # Drop all NA tickers (that failed to download)\n",
    "    valid_tickers = stonks['Adj Close'].iloc[-1].dropna(axis=0).to_frame().reset_index()\n",
    "    \n",
    "    # Rename columns\n",
    "    valid_tickers.columns = ['ticker', 'price']\n",
    "    \n",
    "    # Add subindustries to the remaining valid tickers\n",
    "    valid_tickers = valid_tickers.join(all_variants.set_index('ticker'), on='ticker')\n",
    "    \n",
    "    # Drop the price column\n",
    "    valid_tickers.drop(columns=valid_tickers.columns[[1]], inplace=True)\n",
    "    \n",
    "    # Remove all tickers that have a dot from main dataframe\n",
    "    df = df[~df['ticker'].str.fullmatch(r'[A-Z]*\\.[A-Z]')]\n",
    "    \n",
    "    # Add the validated tickers back\n",
    "    df = pd.concat([df, valid_tickers], axis=0, ignore_index=True)\n",
    "    \n",
    "    # Make the subindustry strings more code friendly\n",
    "    df['subindustry'] = df['subindustry'].str.replace(' ', '_')\n",
    "    df['subindustry'] = df['subindustry'].str.lower()\n",
    "    df['subindustry'] = df['subindustry'].str.replace(',', '')\n",
    "    \n",
    "    df.to_csv(path_or_buf=output_path, header=True, index=False)\n",
    "    "
   ]
  },
  {
   "cell_type": "code",
   "execution_count": 9,
   "metadata": {},
   "outputs": [],
   "source": [
    "pd.set_option('display.max_rows', None)"
   ]
  },
  {
   "cell_type": "markdown",
   "metadata": {},
   "source": [
    "## Linear regression residuals"
   ]
  },
  {
   "cell_type": "code",
   "execution_count": 78,
   "metadata": {},
   "outputs": [],
   "source": [
    "def get_residuals(X, Y):\n",
    "    X = X.T\n",
    "    W = Y.dot(np.linalg.inv(X.dot(X.T)).dot(X))\n",
    "    return W"
   ]
  },
  {
   "cell_type": "code",
   "execution_count": 21,
   "metadata": {},
   "outputs": [],
   "source": [
    "stonks = pd.read_csv('data/stonks_2022-02-15_to_2022-02-18.csv', index_col=0)"
   ]
  },
  {
   "cell_type": "code",
   "execution_count": 22,
   "metadata": {},
   "outputs": [
    {
     "data": {
      "text/html": [
       "<div>\n",
       "<style scoped>\n",
       "    .dataframe tbody tr th:only-of-type {\n",
       "        vertical-align: middle;\n",
       "    }\n",
       "\n",
       "    .dataframe tbody tr th {\n",
       "        vertical-align: top;\n",
       "    }\n",
       "\n",
       "    .dataframe thead th {\n",
       "        text-align: right;\n",
       "    }\n",
       "</style>\n",
       "<table border=\"1\" class=\"dataframe\">\n",
       "  <thead>\n",
       "    <tr style=\"text-align: right;\">\n",
       "      <th></th>\n",
       "      <th>A</th>\n",
       "      <th>AA</th>\n",
       "      <th>AAL</th>\n",
       "      <th>AAON</th>\n",
       "      <th>AAP</th>\n",
       "      <th>AAPL</th>\n",
       "      <th>AAWW</th>\n",
       "      <th>AAXJ</th>\n",
       "      <th>AB</th>\n",
       "      <th>ABBV</th>\n",
       "      <th>...</th>\n",
       "      <th>ZIONP</th>\n",
       "      <th>ZIP</th>\n",
       "      <th>ZM</th>\n",
       "      <th>ZNGA</th>\n",
       "      <th>ZNTL</th>\n",
       "      <th>ZS</th>\n",
       "      <th>ZTS</th>\n",
       "      <th>ZUMZ</th>\n",
       "      <th>ZUO</th>\n",
       "      <th>ZWS</th>\n",
       "    </tr>\n",
       "    <tr>\n",
       "      <th>Date</th>\n",
       "      <th></th>\n",
       "      <th></th>\n",
       "      <th></th>\n",
       "      <th></th>\n",
       "      <th></th>\n",
       "      <th></th>\n",
       "      <th></th>\n",
       "      <th></th>\n",
       "      <th></th>\n",
       "      <th></th>\n",
       "      <th></th>\n",
       "      <th></th>\n",
       "      <th></th>\n",
       "      <th></th>\n",
       "      <th></th>\n",
       "      <th></th>\n",
       "      <th></th>\n",
       "      <th></th>\n",
       "      <th></th>\n",
       "      <th></th>\n",
       "      <th></th>\n",
       "    </tr>\n",
       "  </thead>\n",
       "  <tbody>\n",
       "    <tr>\n",
       "      <th>2022-02-15</th>\n",
       "      <td>NaN</td>\n",
       "      <td>NaN</td>\n",
       "      <td>NaN</td>\n",
       "      <td>NaN</td>\n",
       "      <td>NaN</td>\n",
       "      <td>NaN</td>\n",
       "      <td>NaN</td>\n",
       "      <td>NaN</td>\n",
       "      <td>NaN</td>\n",
       "      <td>NaN</td>\n",
       "      <td>...</td>\n",
       "      <td>NaN</td>\n",
       "      <td>NaN</td>\n",
       "      <td>NaN</td>\n",
       "      <td>NaN</td>\n",
       "      <td>NaN</td>\n",
       "      <td>NaN</td>\n",
       "      <td>NaN</td>\n",
       "      <td>NaN</td>\n",
       "      <td>NaN</td>\n",
       "      <td>NaN</td>\n",
       "    </tr>\n",
       "    <tr>\n",
       "      <th>2022-02-16</th>\n",
       "      <td>135.15</td>\n",
       "      <td>77.84</td>\n",
       "      <td>18.82</td>\n",
       "      <td>59.69</td>\n",
       "      <td>222.39</td>\n",
       "      <td>172.55</td>\n",
       "      <td>79.07</td>\n",
       "      <td>82.76</td>\n",
       "      <td>46.46</td>\n",
       "      <td>145.87</td>\n",
       "      <td>...</td>\n",
       "      <td>22.56</td>\n",
       "      <td>21.49</td>\n",
       "      <td>138.51</td>\n",
       "      <td>8.90</td>\n",
       "      <td>51.57</td>\n",
       "      <td>280.87</td>\n",
       "      <td>195.09</td>\n",
       "      <td>45.89</td>\n",
       "      <td>16.34</td>\n",
       "      <td>34.69</td>\n",
       "    </tr>\n",
       "    <tr>\n",
       "      <th>2022-02-17</th>\n",
       "      <td>130.25</td>\n",
       "      <td>76.47</td>\n",
       "      <td>18.22</td>\n",
       "      <td>58.14</td>\n",
       "      <td>220.41</td>\n",
       "      <td>168.88</td>\n",
       "      <td>77.10</td>\n",
       "      <td>82.01</td>\n",
       "      <td>45.25</td>\n",
       "      <td>144.97</td>\n",
       "      <td>...</td>\n",
       "      <td>23.00</td>\n",
       "      <td>20.56</td>\n",
       "      <td>129.38</td>\n",
       "      <td>8.88</td>\n",
       "      <td>49.57</td>\n",
       "      <td>261.94</td>\n",
       "      <td>193.07</td>\n",
       "      <td>43.82</td>\n",
       "      <td>15.22</td>\n",
       "      <td>33.88</td>\n",
       "    </tr>\n",
       "    <tr>\n",
       "      <th>2022-02-18</th>\n",
       "      <td>132.05</td>\n",
       "      <td>78.20</td>\n",
       "      <td>17.87</td>\n",
       "      <td>58.22</td>\n",
       "      <td>218.80</td>\n",
       "      <td>167.30</td>\n",
       "      <td>78.47</td>\n",
       "      <td>81.33</td>\n",
       "      <td>44.99</td>\n",
       "      <td>144.03</td>\n",
       "      <td>...</td>\n",
       "      <td>23.00</td>\n",
       "      <td>19.77</td>\n",
       "      <td>126.96</td>\n",
       "      <td>8.84</td>\n",
       "      <td>47.66</td>\n",
       "      <td>255.22</td>\n",
       "      <td>191.32</td>\n",
       "      <td>43.98</td>\n",
       "      <td>14.62</td>\n",
       "      <td>33.37</td>\n",
       "    </tr>\n",
       "  </tbody>\n",
       "</table>\n",
       "<p>4 rows × 2283 columns</p>\n",
       "</div>"
      ],
      "text/plain": [
       "                 A     AA    AAL   AAON     AAP    AAPL   AAWW   AAXJ     AB  \\\n",
       "Date                                                                           \n",
       "2022-02-15     NaN    NaN    NaN    NaN     NaN     NaN    NaN    NaN    NaN   \n",
       "2022-02-16  135.15  77.84  18.82  59.69  222.39  172.55  79.07  82.76  46.46   \n",
       "2022-02-17  130.25  76.47  18.22  58.14  220.41  168.88  77.10  82.01  45.25   \n",
       "2022-02-18  132.05  78.20  17.87  58.22  218.80  167.30  78.47  81.33  44.99   \n",
       "\n",
       "              ABBV  ...  ZIONP    ZIP      ZM  ZNGA   ZNTL      ZS     ZTS  \\\n",
       "Date                ...                                                      \n",
       "2022-02-15     NaN  ...    NaN    NaN     NaN   NaN    NaN     NaN     NaN   \n",
       "2022-02-16  145.87  ...  22.56  21.49  138.51  8.90  51.57  280.87  195.09   \n",
       "2022-02-17  144.97  ...  23.00  20.56  129.38  8.88  49.57  261.94  193.07   \n",
       "2022-02-18  144.03  ...  23.00  19.77  126.96  8.84  47.66  255.22  191.32   \n",
       "\n",
       "             ZUMZ    ZUO    ZWS  \n",
       "Date                             \n",
       "2022-02-15    NaN    NaN    NaN  \n",
       "2022-02-16  45.89  16.34  34.69  \n",
       "2022-02-17  43.82  15.22  33.88  \n",
       "2022-02-18  43.98  14.62  33.37  \n",
       "\n",
       "[4 rows x 2283 columns]"
      ]
     },
     "execution_count": 22,
     "metadata": {},
     "output_type": "execute_result"
    }
   ],
   "source": [
    "stonks"
   ]
  },
  {
   "cell_type": "code",
   "execution_count": 23,
   "metadata": {},
   "outputs": [],
   "source": [
    "stonks.dropna(axis=0, how='all', thresh=len(stonks.columns) // 2, inplace=True)\n",
    "stonks.dropna(axis=1, how='any', inplace=True)"
   ]
  },
  {
   "cell_type": "code",
   "execution_count": 24,
   "metadata": {},
   "outputs": [
    {
     "data": {
      "text/html": [
       "<div>\n",
       "<style scoped>\n",
       "    .dataframe tbody tr th:only-of-type {\n",
       "        vertical-align: middle;\n",
       "    }\n",
       "\n",
       "    .dataframe tbody tr th {\n",
       "        vertical-align: top;\n",
       "    }\n",
       "\n",
       "    .dataframe thead th {\n",
       "        text-align: right;\n",
       "    }\n",
       "</style>\n",
       "<table border=\"1\" class=\"dataframe\">\n",
       "  <thead>\n",
       "    <tr style=\"text-align: right;\">\n",
       "      <th></th>\n",
       "      <th>A</th>\n",
       "      <th>AA</th>\n",
       "      <th>AAL</th>\n",
       "      <th>AAON</th>\n",
       "      <th>AAP</th>\n",
       "      <th>AAPL</th>\n",
       "      <th>AAWW</th>\n",
       "      <th>AAXJ</th>\n",
       "      <th>AB</th>\n",
       "      <th>ABBV</th>\n",
       "      <th>...</th>\n",
       "      <th>ZIONP</th>\n",
       "      <th>ZIP</th>\n",
       "      <th>ZM</th>\n",
       "      <th>ZNGA</th>\n",
       "      <th>ZNTL</th>\n",
       "      <th>ZS</th>\n",
       "      <th>ZTS</th>\n",
       "      <th>ZUMZ</th>\n",
       "      <th>ZUO</th>\n",
       "      <th>ZWS</th>\n",
       "    </tr>\n",
       "    <tr>\n",
       "      <th>Date</th>\n",
       "      <th></th>\n",
       "      <th></th>\n",
       "      <th></th>\n",
       "      <th></th>\n",
       "      <th></th>\n",
       "      <th></th>\n",
       "      <th></th>\n",
       "      <th></th>\n",
       "      <th></th>\n",
       "      <th></th>\n",
       "      <th></th>\n",
       "      <th></th>\n",
       "      <th></th>\n",
       "      <th></th>\n",
       "      <th></th>\n",
       "      <th></th>\n",
       "      <th></th>\n",
       "      <th></th>\n",
       "      <th></th>\n",
       "      <th></th>\n",
       "      <th></th>\n",
       "    </tr>\n",
       "  </thead>\n",
       "  <tbody>\n",
       "    <tr>\n",
       "      <th>2022-02-16</th>\n",
       "      <td>135.15</td>\n",
       "      <td>77.84</td>\n",
       "      <td>18.82</td>\n",
       "      <td>59.69</td>\n",
       "      <td>222.39</td>\n",
       "      <td>172.55</td>\n",
       "      <td>79.07</td>\n",
       "      <td>82.76</td>\n",
       "      <td>46.46</td>\n",
       "      <td>145.87</td>\n",
       "      <td>...</td>\n",
       "      <td>22.56</td>\n",
       "      <td>21.49</td>\n",
       "      <td>138.51</td>\n",
       "      <td>8.90</td>\n",
       "      <td>51.57</td>\n",
       "      <td>280.87</td>\n",
       "      <td>195.09</td>\n",
       "      <td>45.89</td>\n",
       "      <td>16.34</td>\n",
       "      <td>34.69</td>\n",
       "    </tr>\n",
       "    <tr>\n",
       "      <th>2022-02-17</th>\n",
       "      <td>130.25</td>\n",
       "      <td>76.47</td>\n",
       "      <td>18.22</td>\n",
       "      <td>58.14</td>\n",
       "      <td>220.41</td>\n",
       "      <td>168.88</td>\n",
       "      <td>77.10</td>\n",
       "      <td>82.01</td>\n",
       "      <td>45.25</td>\n",
       "      <td>144.97</td>\n",
       "      <td>...</td>\n",
       "      <td>23.00</td>\n",
       "      <td>20.56</td>\n",
       "      <td>129.38</td>\n",
       "      <td>8.88</td>\n",
       "      <td>49.57</td>\n",
       "      <td>261.94</td>\n",
       "      <td>193.07</td>\n",
       "      <td>43.82</td>\n",
       "      <td>15.22</td>\n",
       "      <td>33.88</td>\n",
       "    </tr>\n",
       "    <tr>\n",
       "      <th>2022-02-18</th>\n",
       "      <td>132.05</td>\n",
       "      <td>78.20</td>\n",
       "      <td>17.87</td>\n",
       "      <td>58.22</td>\n",
       "      <td>218.80</td>\n",
       "      <td>167.30</td>\n",
       "      <td>78.47</td>\n",
       "      <td>81.33</td>\n",
       "      <td>44.99</td>\n",
       "      <td>144.03</td>\n",
       "      <td>...</td>\n",
       "      <td>23.00</td>\n",
       "      <td>19.77</td>\n",
       "      <td>126.96</td>\n",
       "      <td>8.84</td>\n",
       "      <td>47.66</td>\n",
       "      <td>255.22</td>\n",
       "      <td>191.32</td>\n",
       "      <td>43.98</td>\n",
       "      <td>14.62</td>\n",
       "      <td>33.37</td>\n",
       "    </tr>\n",
       "  </tbody>\n",
       "</table>\n",
       "<p>3 rows × 2269 columns</p>\n",
       "</div>"
      ],
      "text/plain": [
       "                 A     AA    AAL   AAON     AAP    AAPL   AAWW   AAXJ     AB  \\\n",
       "Date                                                                           \n",
       "2022-02-16  135.15  77.84  18.82  59.69  222.39  172.55  79.07  82.76  46.46   \n",
       "2022-02-17  130.25  76.47  18.22  58.14  220.41  168.88  77.10  82.01  45.25   \n",
       "2022-02-18  132.05  78.20  17.87  58.22  218.80  167.30  78.47  81.33  44.99   \n",
       "\n",
       "              ABBV  ...  ZIONP    ZIP      ZM  ZNGA   ZNTL      ZS     ZTS  \\\n",
       "Date                ...                                                      \n",
       "2022-02-16  145.87  ...  22.56  21.49  138.51  8.90  51.57  280.87  195.09   \n",
       "2022-02-17  144.97  ...  23.00  20.56  129.38  8.88  49.57  261.94  193.07   \n",
       "2022-02-18  144.03  ...  23.00  19.77  126.96  8.84  47.66  255.22  191.32   \n",
       "\n",
       "             ZUMZ    ZUO    ZWS  \n",
       "Date                             \n",
       "2022-02-16  45.89  16.34  34.69  \n",
       "2022-02-17  43.82  15.22  33.88  \n",
       "2022-02-18  43.98  14.62  33.37  \n",
       "\n",
       "[3 rows x 2269 columns]"
      ]
     },
     "execution_count": 24,
     "metadata": {},
     "output_type": "execute_result"
    }
   ],
   "source": [
    "stonks"
   ]
  },
  {
   "cell_type": "code",
   "execution_count": 26,
   "metadata": {},
   "outputs": [],
   "source": [
    "stonks = stonks.to_numpy()"
   ]
  },
  {
   "cell_type": "code",
   "execution_count": 70,
   "metadata": {},
   "outputs": [],
   "source": [
    "stonks = stonks.T"
   ]
  },
  {
   "cell_type": "code",
   "execution_count": 72,
   "metadata": {},
   "outputs": [
    {
     "data": {
      "text/plain": [
       "array([[135.15, 130.25, 132.05],\n",
       "       [ 77.84,  76.47,  78.2 ],\n",
       "       [ 18.82,  18.22,  17.87],\n",
       "       ...,\n",
       "       [ 45.89,  43.82,  43.98],\n",
       "       [ 16.34,  15.22,  14.62],\n",
       "       [ 34.69,  33.88,  33.37]])"
      ]
     },
     "execution_count": 72,
     "metadata": {},
     "output_type": "execute_result"
    }
   ],
   "source": [
    "stonks"
   ]
  },
  {
   "cell_type": "code",
   "execution_count": 73,
   "metadata": {},
   "outputs": [
    {
     "data": {
      "text/plain": [
       "array([[ 34.69,  33.88,  33.37],\n",
       "       [ 16.34,  15.22,  14.62],\n",
       "       [ 45.89,  43.82,  43.98],\n",
       "       ...,\n",
       "       [ 18.82,  18.22,  17.87],\n",
       "       [ 77.84,  76.47,  78.2 ],\n",
       "       [135.15, 130.25, 132.05]])"
      ]
     },
     "execution_count": 73,
     "metadata": {},
     "output_type": "execute_result"
    }
   ],
   "source": [
    "np.flipud(stonks)"
   ]
  },
  {
   "cell_type": "code",
   "execution_count": 65,
   "metadata": {},
   "outputs": [
    {
     "data": {
      "text/plain": [
       "array([[ 34.69,  33.88,  33.37],\n",
       "       [ 16.34,  15.22,  14.62],\n",
       "       [ 45.89,  43.82,  43.98],\n",
       "       ...,\n",
       "       [ 18.82,  18.22,  17.87],\n",
       "       [ 77.84,  76.47,  78.2 ],\n",
       "       [135.15, 130.25, 132.05]])"
      ]
     },
     "execution_count": 65,
     "metadata": {},
     "output_type": "execute_result"
    }
   ],
   "source": [
    "np.flipud(stonks.T)"
   ]
  },
  {
   "cell_type": "code",
   "execution_count": 79,
   "metadata": {},
   "outputs": [],
   "source": [
    "W = get_residuals(stonks, np.flipud(stonks))"
   ]
  },
  {
   "cell_type": "code",
   "execution_count": 80,
   "metadata": {},
   "outputs": [
    {
     "data": {
      "text/plain": [
       "(2269, 2269)"
      ]
     },
     "execution_count": 80,
     "metadata": {},
     "output_type": "execute_result"
    }
   ],
   "source": [
    "W.shape"
   ]
  },
  {
   "cell_type": "code",
   "execution_count": 77,
   "metadata": {},
   "outputs": [
    {
     "data": {
      "text/plain": [
       "array([[-460746.0820514 , -473761.10586784, -452707.62335391],\n",
       "       [-455331.9259676 , -468277.52087801, -447492.109354  ],\n",
       "       [-456253.5090017 , -469315.08765715, -448501.03163826]])"
      ]
     },
     "execution_count": 77,
     "metadata": {},
     "output_type": "execute_result"
    }
   ],
   "source": [
    "W"
   ]
  },
  {
   "cell_type": "code",
   "execution_count": 83,
   "metadata": {},
   "outputs": [
    {
     "data": {
      "text/plain": [
       "array([[ 34.69,  33.88,  33.37],\n",
       "       [ 16.34,  15.22,  14.62],\n",
       "       [ 45.89,  43.82,  43.98],\n",
       "       ...,\n",
       "       [ 18.82,  18.22,  17.87],\n",
       "       [ 77.84,  76.47,  78.2 ],\n",
       "       [135.15, 130.25, 132.05]])"
      ]
     },
     "execution_count": 83,
     "metadata": {},
     "output_type": "execute_result"
    }
   ],
   "source": [
    "np.flipud(stonks)"
   ]
  },
  {
   "cell_type": "code",
   "execution_count": 50,
   "metadata": {},
   "outputs": [
    {
     "data": {
      "text/plain": [
       "(2269, 2269)"
      ]
     },
     "execution_count": 50,
     "metadata": {},
     "output_type": "execute_result"
    }
   ],
   "source": [
    "W.shape"
   ]
  },
  {
   "cell_type": "code",
   "execution_count": 82,
   "metadata": {},
   "outputs": [],
   "source": [
    "Y_hat = np.dot(W, stonks)"
   ]
  },
  {
   "cell_type": "code",
   "execution_count": 58,
   "metadata": {},
   "outputs": [
    {
     "data": {
      "text/plain": [
       "(2269, 3)"
      ]
     },
     "execution_count": 58,
     "metadata": {},
     "output_type": "execute_result"
    }
   ],
   "source": [
    "Y_hat.shape"
   ]
  },
  {
   "cell_type": "code",
   "execution_count": 85,
   "metadata": {},
   "outputs": [
    {
     "data": {
      "text/plain": [
       "array([[2.42391067e-08, 2.51979415e-08, 2.33458053e-08],\n",
       "       [7.94301513e-09, 8.58918803e-09, 7.98155853e-09],\n",
       "       [2.24150369e-08, 2.02749888e-08, 2.58361013e-08],\n",
       "       ...,\n",
       "       [1.23763968e-08, 1.29252307e-08, 1.20064136e-08],\n",
       "       [4.65374654e-08, 4.11888834e-08, 5.22607451e-08],\n",
       "       [6.88462194e-08, 6.01554007e-08, 8.04257354e-08]])"
      ]
     },
     "execution_count": 85,
     "metadata": {},
     "output_type": "execute_result"
    }
   ],
   "source": [
    "np.flipud(stonks) - Y_hat"
   ]
  },
  {
   "cell_type": "code",
   "execution_count": null,
   "metadata": {},
   "outputs": [],
   "source": []
  }
 ],
 "metadata": {
  "kernelspec": {
   "display_name": "Python 3",
   "language": "python",
   "name": "python3"
  },
  "language_info": {
   "codemirror_mode": {
    "name": "ipython",
    "version": 3
   },
   "file_extension": ".py",
   "mimetype": "text/x-python",
   "name": "python",
   "nbconvert_exporter": "python",
   "pygments_lexer": "ipython3",
   "version": "3.8.5"
  }
 },
 "nbformat": 4,
 "nbformat_minor": 4
}
