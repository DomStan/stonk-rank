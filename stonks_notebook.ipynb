{
 "cells": [
  {
   "cell_type": "markdown",
   "metadata": {},
   "source": [
    "# Imports"
   ]
  },
  {
   "cell_type": "code",
   "execution_count": null,
   "metadata": {},
   "outputs": [],
   "source": [
    "# !pip install yfinance\n",
    "# !pip install pmdarima\n",
    "# !pip install hyperopt\n",
    "# !pip install xgboost\n",
    "# !pip install numpy -U"
   ]
  },
  {
   "cell_type": "code",
   "execution_count": 2,
   "metadata": {},
   "outputs": [],
   "source": [
    "import os\n",
    "from functools import partial\n",
    "from datetime import datetime\n",
    "\n",
    "import typing\n",
    "from typing import Dict\n",
    "from typing import Any\n",
    "from typing import Tuple\n",
    "\n",
    "import numpy as np\n",
    "import pandas as pd\n",
    "import sklearn\n",
    "\n",
    "import utils\n",
    "import pipelines\n",
    "import processing\n",
    "import evaluate\n",
    "import predict\n",
    "import train\n",
    "import preprocessing"
   ]
  },
  {
   "cell_type": "markdown",
   "metadata": {},
   "source": [
    "# Download stock daily prices & indexes"
   ]
  },
  {
   "cell_type": "code",
   "execution_count": 9,
   "metadata": {},
   "outputs": [],
   "source": [
    "### Gets all ticker names (no argument given)\n",
    "market_cap_min_mm = 5000\n",
    "market_cap_max_mm = None\n",
    "\n",
    "ticker_list = utils.get_ticker_names(\n",
    "    market_cap_min_mm=market_cap_min_mm,\n",
    "    market_cap_max_mm=market_cap_max_mm,\n",
    "    remove_industries=[\n",
    "        \"pharmaceuticals_biotechnology_and_life_sciences\",\n",
    "        \"health_care_equipment_and_services\",\n",
    "    ],\n",
    ")"
   ]
  },
  {
   "cell_type": "code",
   "execution_count": 10,
   "metadata": {},
   "outputs": [],
   "source": [
    "### Specific date - 3rd of March 2022 (Y, M, D)\n",
    "# date_to = datetime(2021, 1, 18)\n",
    "### Date of today\n",
    "date_to = datetime.today()\n",
    "### How many years' of data to download (going backwards from date_end). Year can be a floating point number\n",
    "period_years = 8"
   ]
  },
  {
   "cell_type": "code",
   "execution_count": 11,
   "metadata": {},
   "outputs": [
    {
     "name": "stdout",
     "output_type": "stream",
     "text": [
      "[*********************100%***********************]  1063 of 1063 completed\n",
      "\n",
      "41 Failed downloads:\n",
      "- CTXS: No timezone found, symbol may be delisted\n",
      "- NLSN: No timezone found, symbol may be delisted\n",
      "- BIP.PRA: No timezone found, symbol may be delisted\n",
      "- DRE: No timezone found, symbol may be delisted\n",
      "- LFC: No timezone found, symbol may be delisted\n",
      "- Y: No timezone found, symbol may be delisted\n",
      "- HNP: No timezone found, symbol may be delisted\n",
      "- MIME: No timezone found, symbol may be delisted\n",
      "- SNP: No timezone found, symbol may be delisted\n",
      "- FB: No timezone found, symbol may be delisted\n",
      "- VG: No timezone found, symbol may be delisted\n",
      "- DIDI: No timezone found, symbol may be delisted\n",
      "- SAIL: No timezone found, symbol may be delisted\n",
      "- TMX: No timezone found, symbol may be delisted\n",
      "- ZEN: No timezone found, symbol may be delisted\n",
      "- PTR: No timezone found, symbol may be delisted\n",
      "- CLR: No timezone found, symbol may be delisted\n",
      "- SNX.WI: No timezone found, symbol may be delisted\n",
      "- PLAN: No timezone found, symbol may be delisted\n",
      "- MSP: No timezone found, symbol may be delisted\n",
      "- NLOK: No timezone found, symbol may be delisted\n",
      "- T WD: No timezone found, symbol may be delisted\n",
      "- ACC: No timezone found, symbol may be delisted\n",
      "- CDK: No timezone found, symbol may be delisted\n",
      "- SGMS: No timezone found, symbol may be delisted\n",
      "- BLL: No timezone found, symbol may be delisted\n",
      "- MGP: No timezone found, symbol may be delisted\n",
      "- IIVI: No timezone found, symbol may be delisted\n",
      "- CCMP: No timezone found, symbol may be delisted\n",
      "- BIP.PRB: No timezone found, symbol may be delisted\n",
      "- ZNGA: No timezone found, symbol may be delisted\n",
      "- DELL WI: No timezone found, symbol may be delisted\n",
      "- TRQ: No timezone found, symbol may be delisted\n",
      "- POST WI: No timezone found, symbol may be delisted\n",
      "- ENIA: No timezone found, symbol may be delisted\n",
      "- ACH: No timezone found, symbol may be delisted\n",
      "- HTA: No timezone found, symbol may be delisted\n",
      "- FBHS: No timezone found, symbol may be delisted\n",
      "- O.WI: No timezone found, symbol may be delisted\n",
      "- ANAT: No timezone found, symbol may be delisted\n",
      "- AVLR: No timezone found, symbol may be delisted\n",
      "[*********************100%***********************]  1 of 1 completed\n",
      "[*********************100%***********************]  1 of 1 completed\n",
      "[*********************100%***********************]  1 of 1 completed\n",
      "[*********************100%***********************]  1 of 1 completed\n",
      "[*********************100%***********************]  1 of 1 completed\n",
      "[*********************100%***********************]  1 of 1 completed\n"
     ]
    }
   ],
   "source": [
    "_, _ = utils.download_stonk_prices(\n",
    "    ticker_list.index, period_years=period_years, date_to=date_to\n",
    ")\n",
    "_, _ = utils.download_stonk_prices(\n",
    "    [\"^VIX\"], period_years=period_years, date_to=date_to, fname_prefix=\"vix\"\n",
    ")\n",
    "_, _ = utils.download_stonk_prices(\n",
    "    [\"^GSPC\"], period_years=period_years, date_to=date_to, fname_prefix=\"sp500\"\n",
    ")\n",
    "_, _ = utils.download_stonk_prices(\n",
    "    [\"CL=F\"], period_years=period_years, date_to=date_to, fname_prefix=\"oil\"\n",
    ")\n",
    "_, _ = utils.download_stonk_prices(\n",
    "    [\"DX=F\"], period_years=period_years, date_to=date_to, fname_prefix=\"usd\"\n",
    ")\n",
    "_, _ = utils.download_stonk_prices(\n",
    "    [\"^TNX\"], period_years=period_years, date_to=date_to, fname_prefix=\"yield\"\n",
    ")\n",
    "_, _ = utils.download_stonk_prices(\n",
    "    [\"HG=F\"], period_years=period_years, date_to=date_to, fname_prefix=\"copper\"\n",
    ")"
   ]
  },
  {
   "cell_type": "markdown",
   "metadata": {},
   "source": [
    "# Run data pipeline"
   ]
  },
  {
   "cell_type": "code",
   "execution_count": 12,
   "metadata": {},
   "outputs": [],
   "source": [
    "industries = [\n",
    "    # 'health_care_equipment_and_services',\n",
    "    \"software_and_services\",\n",
    "    \"retailing\",\n",
    "    \"telecommunication_services\",\n",
    "    \"capital_goods\",\n",
    "    \"energy\",\n",
    "    # 'pharmaceuticals_biotechnology_and_life_sciences',\n",
    "    \"consumer_staples\",\n",
    "    \"banks\",\n",
    "    \"diversified_financials\",\n",
    "    \"metals_and_mining\",\n",
    "    \"technology_hardware_and_equipment\",\n",
    "    \"utilities\",\n",
    "    \"chemicals\",\n",
    "    \"automobiles_and_components\",\n",
    "    \"semiconductors_and_semiconductor_equipment\",\n",
    "    \"media_and_entertainment\",\n",
    "    \"real_estate\",\n",
    "    \"consumer_services\",\n",
    "    \"consumer_durables_and_apparel\",\n",
    "    \"insurance\",\n",
    "    \"transportation\",\n",
    "    \"commercial_and_professional_services\",\n",
    "    # \"paper_and_forest_products\",\n",
    "    \"containers_and_packaging\",\n",
    "    # \"construction_materials\",\n",
    "]\n",
    "\n",
    "l_reg = 4\n",
    "l_roll = 3\n",
    "dt = 10\n",
    "last_residual_cutoff = 2.5\n",
    "adf_pval_cutoff = 0.1\n",
    "adf_pass_rate_filter = 0.5\n",
    "mean_max_residual_dt = 21\n",
    "arima_forecast_months = 3\n",
    "arima_eval_models = 5\n",
    "\n",
    "market_cap_max_string = \"max\" if market_cap_max_mm is None else str(market_cap_max_mm)\n",
    "pipeline_dir = (\n",
    "    \"pipeline_run_\" + str(market_cap_min_mm) + \"_to_\" + market_cap_max_string + \"_cap\"\n",
    ")\n",
    "output_dir = os.path.join(\"data\", pipeline_dir)\n",
    "\n",
    "# stonk_model = predict.XGBStonkModel()\n",
    "\n",
    "market_indexes = utils.get_market_indexes()"
   ]
  },
  {
   "cell_type": "code",
   "execution_count": 13,
   "metadata": {},
   "outputs": [
    {
     "name": "stdout",
     "output_type": "stream",
     "text": [
      "Industry (1/22): software_and_services\n",
      "Mean max value for software_and_services: 3.5220000743865967\n",
      "Industry (2/22): retailing\n",
      "Mean max value for retailing: 3.053999900817871\n",
      "Industry (3/22): telecommunication_services\n",
      "No trades\n",
      "Industry (4/22): capital_goods\n",
      "Mean max value for capital_goods: 3.8440001010894775\n",
      "Industry (5/22): energy\n",
      "Mean max value for energy: 3.7639999389648438\n",
      "Industry (6/22): consumer_staples\n",
      "Mean max value for consumer_staples: 2.630000114440918\n",
      "Industry (7/22): banks\n",
      "Mean max value for banks: 3.9010000228881836\n",
      "Industry (8/22): diversified_financials\n",
      "Mean max value for diversified_financials: 3.384000062942505\n",
      "Industry (9/22): metals_and_mining\n",
      "Mean max value for metals_and_mining: 3.0\n",
      "Industry (10/22): technology_hardware_and_equipment\n",
      "Mean max value for technology_hardware_and_equipment: 4.349999904632568\n",
      "Industry (11/22): utilities\n",
      "Mean max value for utilities: 3.0810000896453857\n",
      "Industry (12/22): chemicals\n",
      "Mean max value for chemicals: 1.7510000467300415\n",
      "Industry (13/22): automobiles_and_components\n",
      "Mean max value for automobiles_and_components: 2.6480000019073486\n",
      "Industry (14/22): semiconductors_and_semiconductor_equipment\n",
      "Mean max value for semiconductors_and_semiconductor_equipment: 3.2829999923706055\n",
      "Industry (15/22): media_and_entertainment\n",
      "Mean max value for media_and_entertainment: 2.816999912261963\n",
      "Industry (16/22): real_estate\n",
      "Mean max value for real_estate: 2.944999933242798\n",
      "Industry (17/22): consumer_services\n",
      "Mean max value for consumer_services: 2.940000057220459\n",
      "Industry (18/22): consumer_durables_and_apparel\n",
      "Mean max value for consumer_durables_and_apparel: 2.8380000591278076\n",
      "Industry (19/22): insurance\n",
      "Mean max value for insurance: 3.7929999828338623\n",
      "Industry (20/22): transportation\n",
      "Mean max value for transportation: 2.865999937057495\n",
      "Industry (21/22): commercial_and_professional_services\n",
      "No trades\n",
      "Industry (22/22): containers_and_packaging\n",
      "No trades\n",
      "*** All done ***\n"
     ]
    }
   ],
   "source": [
    "datasets = []\n",
    "i = 0\n",
    "total_industries = len(industries)\n",
    "for industry in industries:\n",
    "    i += 1\n",
    "    stonks = utils.get_stonk_data(\n",
    "        market_cap_min_mm,\n",
    "        market_cap_max_mm,\n",
    "        remove_industries=[industry],\n",
    "        filter_industries=True,\n",
    "    )\n",
    "    X, Y = processing.combine_stonk_pairs(stonks)\n",
    "\n",
    "    print(\"Industry ({0}/{1}): {2}\".format(i, total_industries, industry))\n",
    "\n",
    "    features = pipelines.process_features_from_price_data(\n",
    "        X=X,\n",
    "        Y=Y,\n",
    "        market_indexes=market_indexes,\n",
    "        l_reg=l_reg,\n",
    "        l_roll=l_roll,\n",
    "        dt=dt,\n",
    "        last_residual_cutoff=last_residual_cutoff,\n",
    "        adf_pval_cutoff=adf_pval_cutoff,\n",
    "        adf_pass_rate_filter=adf_pass_rate_filter,\n",
    "        mean_max_residual_dt=mean_max_residual_dt,\n",
    "        arima_forecast_months=arima_forecast_months,\n",
    "        arima_eval_models=arima_eval_models,\n",
    "    )\n",
    "\n",
    "    if len(features) == 0:\n",
    "        print(\"No trades\")\n",
    "        continue\n",
    "\n",
    "    print(\n",
    "        \"Mean max value for {0}: {1}\".format(industry, features[\"residuals_max_mean\"])\n",
    "    )\n",
    "#     dataset = utils.build_dataset_from_live_data_by_industry(\n",
    "#         std_residuals=features[\"std_residuals\"],\n",
    "#         adfs=features[\"adfs\"],\n",
    "#         subindustry=industry,\n",
    "#         mean_max_residual=features[\"residuals_max_mean\"],\n",
    "#         residual_quantile=features[\"residuals_quantile\"],\n",
    "#         vix_index=market_indexes[\"vix\"].loc[stonks.columns[-1]],\n",
    "#         betas_stability_rsquared=features[\"beta_stability_rsquared_vals\"],\n",
    "#         arima_forecasts=features[\"arima_forecasts\"],\n",
    "#     )\n",
    "\n",
    "#     predictions, df_processed = stonk_model.predict(dataset)\n",
    "#     datasets.append((dataset, df_processed))\n",
    "#     predictions = pd.DataFrame(predictions)\n",
    "#     predictions.index = features[\"adfs\"].index\n",
    "\n",
    "    features[\"residuals\"].insert(0, \"dates\", features[\"dates_index\"].values)\n",
    "    features[\"betas\"].insert(0, \"dates\", features[\"dates_index\"].values)\n",
    "\n",
    "    features[\"residuals\"].to_csv(\n",
    "        os.path.join(output_dir, industry + \"_residuals.csv\"),\n",
    "        header=False,\n",
    "        index=True,\n",
    "    )\n",
    "    features[\"betas\"].to_csv(\n",
    "        os.path.join(output_dir, industry + \"_betas.csv\"), header=False, index=True\n",
    "    )\n",
    "    features[\"adfs_raw\"].to_csv(\n",
    "        os.path.join(output_dir, industry + \"_adfs_raw.csv\"), header=False, index=True\n",
    "    )\n",
    "    # predictions.to_csv(\n",
    "    #     os.path.join(output_dir, industry + \"_predictions.csv\"),\n",
    "    #     header=False,\n",
    "    #     index=True,\n",
    "    # )\n",
    "    features[\"arima_forecasts\"].to_csv(\n",
    "        os.path.join(output_dir, industry + \"_arima.csv\"),\n",
    "        header=False,\n",
    "        index=True,\n",
    "    )\n",
    "    features[\"beta_stability_rsquared_vals\"].to_csv(\n",
    "        os.path.join(output_dir, industry + \"_rsquared.csv\"),\n",
    "        header=False,\n",
    "        index=True,\n",
    "    )\n",
    "    features[\"market_correlations\"].to_csv(\n",
    "        os.path.join(output_dir, industry + \"_correlations.csv\"),\n",
    "        header=True,\n",
    "        index=True,\n",
    "    )\n",
    "\n",
    "print(\"*** All done ***\")"
   ]
  },
  {
   "cell_type": "markdown",
   "metadata": {},
   "source": [
    "# Data collection"
   ]
  },
  {
   "cell_type": "code",
   "execution_count": 3,
   "metadata": {},
   "outputs": [],
   "source": [
    "stonks = utils.get_stonk_data(disable_filter=True)\n",
    "stonks = stonks.loc[:, :\"2022-09-16\"]"
   ]
  },
  {
   "cell_type": "code",
   "execution_count": null,
   "metadata": {},
   "outputs": [
    {
     "name": "stdout",
     "output_type": "stream",
     "text": [
      "Total data windows: 140\n"
     ]
    }
   ],
   "source": [
    "pipelines.data_collection_rolling_pipeline(\n",
    "    stonk_prices=stonks,\n",
    "    l_reg=3,\n",
    "    l_roll=2,\n",
    "    dt=10,\n",
    "    market_cap_min_mm=1000,\n",
    "    market_cap_max_mm=None,\n",
    "    last_residual_cutoff=2.5,\n",
    "    mean_max_residual_dt=21,\n",
    "    adf_pval_cutoff=0.1,\n",
    "    adf_pass_rate_filter=0.5,\n",
    "    arima_forecast_months=3,\n",
    "    arima_eval_models=5,\n",
    "    trade_length_months=3,\n",
    "    trading_interval_weeks=2,\n",
    "    remove_industries=[\n",
    "        \"pharmaceuticals_biotechnology_and_life_sciences\",\n",
    "        \"health_care_equipment_and_services\",\n",
    "    ],\n",
    "    first_n_windows=140,\n",
    ")"
   ]
  },
  {
   "cell_type": "code",
   "execution_count": 9,
   "metadata": {},
   "outputs": [],
   "source": [
    "dataset = utils.ingest_trade_pipeline_outputs(\n",
    "    data_dir=\"data/data_collection_pipeline/1000_to_max\"\n",
    ")\n",
    "\n",
    "vix = utils.get_stonk_data(fname_prefix=\"vix\", disable_filter=True).iloc[0]\n",
    "dataset[\"vix\"] = dataset[\"trade_date\"].apply(lambda x: vix.loc[x])\n",
    "\n",
    "from utils import map_subindustries_to_industries\n",
    "\n",
    "dataset.loc[:, \"industry\"] = dataset.apply(map_subindustries_to_industries, axis=1)\n",
    "\n",
    "dataset.loc[:, \"arima_forecast_normalized\"] = dataset.apply(\n",
    "    utils.normalize_arima_forecast, axis=1\n",
    ")\n",
    "\n",
    "# new_dataset = []\n",
    "# for date, date_group in dataset.groupby(by=\"trade_date\"):\n",
    "#     for industry, industry_group in date_group.groupby(by=\"subindustry\"):\n",
    "#         residual_quantile = industry_group[\"last_residual\"].abs().quantile(q=0.9)\n",
    "#         industry_group.loc[:, \"residual_quantile\"] = np.full(len(industry_group), residual_quantile)\n",
    "#         new_dataset.append(industry_group)\n",
    "\n",
    "# new_dataset = pd.concat(new_dataset)\n",
    "\n",
    "dataset.to_csv(\"data/dataset_bigcap.csv\", header=True, index=False)"
   ]
  },
  {
   "cell_type": "markdown",
   "metadata": {},
   "source": [
    "# Model development"
   ]
  },
  {
   "cell_type": "code",
   "execution_count": 2,
   "metadata": {},
   "outputs": [],
   "source": [
    "import xgboost as xgb\n",
    "from hyperopt import STATUS_OK, STATUS_FAIL, Trials, fmin, hp, tpe, atpe, rand\n",
    "import pickle"
   ]
  },
  {
   "cell_type": "code",
   "execution_count": 13,
   "metadata": {},
   "outputs": [
    {
     "data": {
      "text/plain": [
       "<module 'train' from '/home/jupyter/stonk-rank/train.py'>"
      ]
     },
     "execution_count": 13,
     "metadata": {},
     "output_type": "execute_result"
    }
   ],
   "source": [
    "import importlib\n",
    "importlib.reload(train)"
   ]
  },
  {
   "cell_type": "code",
   "execution_count": null,
   "metadata": {},
   "outputs": [
    {
     "name": "stdout",
     "output_type": "stream",
     "text": [
      "Total data windows: 33\n",
      "Period 2019-06-17 to 2022-06-03\n",
      "  3%|▎         | 32/1000 [00:07<03:55,  4.11trial/s, best loss: -0.3682821436212146]"
     ]
    },
    {
     "name": "stderr",
     "output_type": "stream",
     "text": [
      "/opt/conda/lib/python3.7/site-packages/sklearn/metrics/_ranking.py:864: RuntimeWarning: invalid value encountered in true_divide\n",
      "  recall = tps / tps[-1]\n",
      "\n"
     ]
    },
    {
     "name": "stdout",
     "output_type": "stream",
     "text": [
      "100%|██████████| 1000/1000 [06:08<00:00,  2.71trial/s, best loss: -0.38095051451406037]\n",
      "Period 2019-05-17 to 2022-05-06\n",
      " 34%|███▎      | 336/1000 [01:31<02:31,  4.39trial/s, best loss: -0.6129285963057904]"
     ]
    },
    {
     "name": "stderr",
     "output_type": "stream",
     "text": [
      "/opt/conda/lib/python3.7/site-packages/sklearn/metrics/_ranking.py:864: RuntimeWarning: invalid value encountered in true_divide\n",
      "  recall = tps / tps[-1]\n",
      "\n"
     ]
    },
    {
     "name": "stdout",
     "output_type": "stream",
     "text": [
      " 39%|███▉      | 393/1000 [01:46<02:17,  4.41trial/s, best loss: -0.6129285963057904]"
     ]
    },
    {
     "name": "stderr",
     "output_type": "stream",
     "text": [
      "/opt/conda/lib/python3.7/site-packages/sklearn/metrics/_ranking.py:864: RuntimeWarning: invalid value encountered in true_divide\n",
      "  recall = tps / tps[-1]\n",
      "\n"
     ]
    },
    {
     "name": "stdout",
     "output_type": "stream",
     "text": [
      " 95%|█████████▌| 954/1000 [04:39<00:13,  3.42trial/s, best loss: -0.6186288922320173]"
     ]
    },
    {
     "name": "stderr",
     "output_type": "stream",
     "text": [
      "/opt/conda/lib/python3.7/site-packages/sklearn/metrics/_ranking.py:864: RuntimeWarning: invalid value encountered in true_divide\n",
      "  recall = tps / tps[-1]\n",
      "\n"
     ]
    },
    {
     "name": "stdout",
     "output_type": "stream",
     "text": [
      "100%|██████████| 1000/1000 [04:53<00:00,  3.40trial/s, best loss: -0.6255996706616136]\n",
      "Period 2019-04-18 to 2022-04-07\n",
      "  6%|▌         | 55/1000 [00:15<03:44,  4.20trial/s, best loss: -0.45602472144089506]"
     ]
    },
    {
     "name": "stderr",
     "output_type": "stream",
     "text": [
      "/opt/conda/lib/python3.7/site-packages/sklearn/metrics/_ranking.py:864: RuntimeWarning: invalid value encountered in true_divide\n",
      "  recall = tps / tps[-1]\n",
      "\n"
     ]
    },
    {
     "name": "stdout",
     "output_type": "stream",
     "text": [
      " 22%|██▏       | 217/1000 [00:48<02:40,  4.89trial/s, best loss: -0.48507146458158784]"
     ]
    },
    {
     "name": "stderr",
     "output_type": "stream",
     "text": [
      "/opt/conda/lib/python3.7/site-packages/sklearn/metrics/_ranking.py:864: RuntimeWarning: invalid value encountered in true_divide\n",
      "  recall = tps / tps[-1]\n",
      "\n"
     ]
    },
    {
     "name": "stdout",
     "output_type": "stream",
     "text": [
      " 51%|█████     | 508/1000 [01:55<01:57,  4.18trial/s, best loss: -0.48507146458158784]"
     ]
    },
    {
     "name": "stderr",
     "output_type": "stream",
     "text": [
      "/opt/conda/lib/python3.7/site-packages/sklearn/metrics/_ranking.py:864: RuntimeWarning: invalid value encountered in true_divide\n",
      "  recall = tps / tps[-1]\n",
      "\n"
     ]
    },
    {
     "name": "stdout",
     "output_type": "stream",
     "text": [
      " 84%|████████▍ | 844/1000 [03:20<00:49,  3.18trial/s, best loss: -0.48507146458158784]"
     ]
    },
    {
     "name": "stderr",
     "output_type": "stream",
     "text": [
      "/opt/conda/lib/python3.7/site-packages/sklearn/metrics/_ranking.py:864: RuntimeWarning: invalid value encountered in true_divide\n",
      "  recall = tps / tps[-1]\n",
      "\n"
     ]
    },
    {
     "name": "stdout",
     "output_type": "stream",
     "text": [
      "100%|██████████| 1000/1000 [04:09<00:00,  4.02trial/s, best loss: -0.48507146458158784]\n",
      "Period 2019-03-21 to 2022-03-10\n",
      "  1%|          | 8/1000 [00:01<03:23,  4.88trial/s, best loss: -0.3803110005248789] "
     ]
    },
    {
     "name": "stderr",
     "output_type": "stream",
     "text": [
      "/opt/conda/lib/python3.7/site-packages/sklearn/metrics/_ranking.py:864: RuntimeWarning: invalid value encountered in true_divide\n",
      "  recall = tps / tps[-1]\n",
      "\n"
     ]
    },
    {
     "name": "stdout",
     "output_type": "stream",
     "text": [
      "  6%|▌         | 58/1000 [00:15<04:00,  3.92trial/s, best loss: -0.4038174046727976]"
     ]
    },
    {
     "name": "stderr",
     "output_type": "stream",
     "text": [
      "/opt/conda/lib/python3.7/site-packages/sklearn/metrics/_ranking.py:864: RuntimeWarning: invalid value encountered in true_divide\n",
      "  recall = tps / tps[-1]\n",
      "\n"
     ]
    },
    {
     "name": "stdout",
     "output_type": "stream",
     "text": [
      "  8%|▊         | 85/1000 [00:20<03:26,  4.42trial/s, best loss: -0.4038174046727976]"
     ]
    },
    {
     "name": "stderr",
     "output_type": "stream",
     "text": [
      "/opt/conda/lib/python3.7/site-packages/sklearn/metrics/_ranking.py:864: RuntimeWarning: invalid value encountered in true_divide\n",
      "  recall = tps / tps[-1]\n",
      "\n"
     ]
    },
    {
     "name": "stdout",
     "output_type": "stream",
     "text": [
      " 26%|██▌       | 256/1000 [01:10<03:49,  3.24trial/s, best loss: -0.4068154886309657]"
     ]
    },
    {
     "name": "stderr",
     "output_type": "stream",
     "text": [
      "/opt/conda/lib/python3.7/site-packages/sklearn/metrics/_ranking.py:864: RuntimeWarning: invalid value encountered in true_divide\n",
      "  recall = tps / tps[-1]\n",
      "\n"
     ]
    },
    {
     "name": "stdout",
     "output_type": "stream",
     "text": [
      " 63%|██████▎   | 630/1000 [03:11<02:04,  2.97trial/s, best loss: -0.41870714500138306]"
     ]
    },
    {
     "name": "stderr",
     "output_type": "stream",
     "text": [
      "/opt/conda/lib/python3.7/site-packages/sklearn/metrics/_ranking.py:864: RuntimeWarning: invalid value encountered in true_divide\n",
      "  recall = tps / tps[-1]\n",
      "\n"
     ]
    },
    {
     "name": "stdout",
     "output_type": "stream",
     "text": [
      "100%|██████████| 1000/1000 [05:24<00:00,  3.08trial/s, best loss: -0.419620746470948] \n",
      "Period 2019-02-21 to 2022-02-09\n",
      " 57%|█████▋    | 574/1000 [02:49<01:55,  3.69trial/s, best loss: -0.3391111237750869] "
     ]
    },
    {
     "name": "stderr",
     "output_type": "stream",
     "text": [
      "/opt/conda/lib/python3.7/site-packages/sklearn/metrics/_ranking.py:864: RuntimeWarning: invalid value encountered in true_divide\n",
      "  recall = tps / tps[-1]\n",
      "\n"
     ]
    },
    {
     "name": "stdout",
     "output_type": "stream",
     "text": [
      "100%|██████████| 1000/1000 [05:18<00:00,  3.14trial/s, best loss: -0.34964394130110366]\n",
      "Period 2019-01-23 to 2022-01-11\n",
      "  9%|▉         | 89/1000 [00:22<03:11,  4.77trial/s, best loss: -0.41648340072831663]"
     ]
    },
    {
     "name": "stderr",
     "output_type": "stream",
     "text": [
      "/opt/conda/lib/python3.7/site-packages/sklearn/metrics/_ranking.py:864: RuntimeWarning: invalid value encountered in true_divide\n",
      "  recall = tps / tps[-1]\n",
      "\n"
     ]
    },
    {
     "name": "stdout",
     "output_type": "stream",
     "text": [
      " 19%|█▉        | 192/1000 [00:45<03:29,  3.86trial/s, best loss: -0.4436657623928054] "
     ]
    },
    {
     "name": "stderr",
     "output_type": "stream",
     "text": [
      "/opt/conda/lib/python3.7/site-packages/sklearn/metrics/_ranking.py:864: RuntimeWarning: invalid value encountered in true_divide\n",
      "  recall = tps / tps[-1]\n",
      "\n"
     ]
    },
    {
     "name": "stdout",
     "output_type": "stream",
     "text": [
      " 26%|██▌       | 255/1000 [01:01<03:42,  3.35trial/s, best loss: -0.4436657623928054]"
     ]
    },
    {
     "name": "stderr",
     "output_type": "stream",
     "text": [
      "/opt/conda/lib/python3.7/site-packages/sklearn/metrics/_ranking.py:864: RuntimeWarning: invalid value encountered in true_divide\n",
      "  recall = tps / tps[-1]\n",
      "\n"
     ]
    },
    {
     "name": "stdout",
     "output_type": "stream",
     "text": [
      " 57%|█████▋    | 572/1000 [02:29<01:50,  3.87trial/s, best loss: -0.4692008970362271] "
     ]
    },
    {
     "name": "stderr",
     "output_type": "stream",
     "text": [
      "/opt/conda/lib/python3.7/site-packages/sklearn/metrics/_ranking.py:864: RuntimeWarning: invalid value encountered in true_divide\n",
      "  recall = tps / tps[-1]\n",
      "\n"
     ]
    },
    {
     "name": "stdout",
     "output_type": "stream",
     "text": [
      " 94%|█████████▍| 944/1000 [04:11<00:16,  3.37trial/s, best loss: -0.47233039188066667]"
     ]
    },
    {
     "name": "stderr",
     "output_type": "stream",
     "text": [
      "IOPub message rate exceeded.\n",
      "The Jupyter server will temporarily stop sending output\n",
      "to the client in order to avoid crashing it.\n",
      "To change this limit, set the config variable\n",
      "`--ServerApp.iopub_msg_rate_limit`.\n",
      "\n",
      "Current values:\n",
      "ServerApp.iopub_msg_rate_limit=1000.0 (msgs/sec)\n",
      "ServerApp.rate_limit_window=3.0 (secs)\n",
      "\n"
     ]
    },
    {
     "name": "stdout",
     "output_type": "stream",
     "text": [
      " 67%|██████▋   | 667/1000 [03:07<02:51,  1.94trial/s, best loss: -0.2790087814067491]"
     ]
    },
    {
     "name": "stderr",
     "output_type": "stream",
     "text": [
      "/opt/conda/lib/python3.7/site-packages/sklearn/metrics/_ranking.py:864: RuntimeWarning: invalid value encountered in true_divide\n",
      "  recall = tps / tps[-1]\n",
      "\n"
     ]
    },
    {
     "name": "stdout",
     "output_type": "stream",
     "text": [
      " 68%|██████▊   | 678/1000 [03:10<01:42,  3.15trial/s, best loss: -0.2790087814067491]"
     ]
    },
    {
     "name": "stderr",
     "output_type": "stream",
     "text": [
      "/opt/conda/lib/python3.7/site-packages/sklearn/metrics/_ranking.py:864: RuntimeWarning: invalid value encountered in true_divide\n",
      "  recall = tps / tps[-1]\n",
      "\n"
     ]
    },
    {
     "name": "stdout",
     "output_type": "stream",
     "text": [
      " 69%|██████▉   | 693/1000 [03:16<01:41,  3.04trial/s, best loss: -0.2790087814067491]"
     ]
    },
    {
     "name": "stderr",
     "output_type": "stream",
     "text": [
      "/opt/conda/lib/python3.7/site-packages/sklearn/metrics/_ranking.py:864: RuntimeWarning: invalid value encountered in true_divide\n",
      "  recall = tps / tps[-1]\n",
      "\n"
     ]
    },
    {
     "name": "stdout",
     "output_type": "stream",
     "text": [
      " 72%|███████▏  | 720/1000 [03:24<01:19,  3.50trial/s, best loss: -0.294284557983736] "
     ]
    },
    {
     "name": "stderr",
     "output_type": "stream",
     "text": [
      "/opt/conda/lib/python3.7/site-packages/sklearn/metrics/_ranking.py:864: RuntimeWarning: invalid value encountered in true_divide\n",
      "  recall = tps / tps[-1]\n",
      "\n"
     ]
    },
    {
     "name": "stdout",
     "output_type": "stream",
     "text": [
      " 79%|███████▉  | 794/1000 [03:50<01:22,  2.51trial/s, best loss: -0.294284557983736]"
     ]
    },
    {
     "name": "stderr",
     "output_type": "stream",
     "text": [
      "/opt/conda/lib/python3.7/site-packages/sklearn/metrics/_ranking.py:864: RuntimeWarning: invalid value encountered in true_divide\n",
      "  recall = tps / tps[-1]\n",
      "\n"
     ]
    },
    {
     "name": "stdout",
     "output_type": "stream",
     "text": [
      " 81%|████████▏ | 813/1000 [03:56<01:02,  2.99trial/s, best loss: -0.294284557983736]"
     ]
    },
    {
     "name": "stderr",
     "output_type": "stream",
     "text": [
      "/opt/conda/lib/python3.7/site-packages/sklearn/metrics/_ranking.py:864: RuntimeWarning: invalid value encountered in true_divide\n",
      "  recall = tps / tps[-1]\n",
      "\n"
     ]
    },
    {
     "name": "stdout",
     "output_type": "stream",
     "text": [
      " 82%|████████▏ | 817/1000 [03:57<01:00,  3.01trial/s, best loss: -0.294284557983736]"
     ]
    },
    {
     "name": "stderr",
     "output_type": "stream",
     "text": [
      "/opt/conda/lib/python3.7/site-packages/sklearn/metrics/_ranking.py:864: RuntimeWarning: invalid value encountered in true_divide\n",
      "  recall = tps / tps[-1]\n",
      "\n"
     ]
    },
    {
     "name": "stdout",
     "output_type": "stream",
     "text": [
      " 84%|████████▍ | 841/1000 [04:05<00:52,  3.01trial/s, best loss: -0.294284557983736]"
     ]
    },
    {
     "name": "stderr",
     "output_type": "stream",
     "text": [
      "/opt/conda/lib/python3.7/site-packages/sklearn/metrics/_ranking.py:864: RuntimeWarning: invalid value encountered in true_divide\n",
      "  recall = tps / tps[-1]\n",
      "\n"
     ]
    },
    {
     "name": "stdout",
     "output_type": "stream",
     "text": [
      " 85%|████████▌ | 851/1000 [04:08<00:47,  3.12trial/s, best loss: -0.294284557983736]"
     ]
    },
    {
     "name": "stderr",
     "output_type": "stream",
     "text": [
      "/opt/conda/lib/python3.7/site-packages/sklearn/metrics/_ranking.py:864: RuntimeWarning: invalid value encountered in true_divide\n",
      "  recall = tps / tps[-1]\n",
      "\n"
     ]
    },
    {
     "name": "stdout",
     "output_type": "stream",
     "text": [
      " 86%|████████▌ | 862/1000 [04:12<00:45,  3.06trial/s, best loss: -0.294284557983736]"
     ]
    },
    {
     "name": "stderr",
     "output_type": "stream",
     "text": [
      "/opt/conda/lib/python3.7/site-packages/sklearn/metrics/_ranking.py:864: RuntimeWarning: invalid value encountered in true_divide\n",
      "  recall = tps / tps[-1]\n",
      "\n"
     ]
    },
    {
     "name": "stdout",
     "output_type": "stream",
     "text": [
      " 87%|████████▋ | 874/1000 [04:16<00:44,  2.86trial/s, best loss: -0.294284557983736]"
     ]
    },
    {
     "name": "stderr",
     "output_type": "stream",
     "text": [
      "/opt/conda/lib/python3.7/site-packages/sklearn/metrics/_ranking.py:864: RuntimeWarning: invalid value encountered in true_divide\n",
      "  recall = tps / tps[-1]\n",
      "\n"
     ]
    },
    {
     "name": "stdout",
     "output_type": "stream",
     "text": [
      " 94%|█████████▍| 939/1000 [04:40<00:41,  1.46trial/s, best loss: -0.294284557983736]"
     ]
    },
    {
     "name": "stderr",
     "output_type": "stream",
     "text": [
      "/opt/conda/lib/python3.7/site-packages/sklearn/metrics/_ranking.py:864: RuntimeWarning: invalid value encountered in true_divide\n",
      "  recall = tps / tps[-1]\n",
      "\n"
     ]
    },
    {
     "name": "stdout",
     "output_type": "stream",
     "text": [
      " 94%|█████████▍| 942/1000 [04:42<00:30,  1.91trial/s, best loss: -0.294284557983736]"
     ]
    },
    {
     "name": "stderr",
     "output_type": "stream",
     "text": [
      "/opt/conda/lib/python3.7/site-packages/sklearn/metrics/_ranking.py:864: RuntimeWarning: invalid value encountered in true_divide\n",
      "  recall = tps / tps[-1]\n",
      "\n"
     ]
    },
    {
     "name": "stdout",
     "output_type": "stream",
     "text": [
      " 97%|█████████▋| 973/1000 [04:52<00:09,  2.95trial/s, best loss: -0.294284557983736]"
     ]
    },
    {
     "name": "stderr",
     "output_type": "stream",
     "text": [
      "/opt/conda/lib/python3.7/site-packages/sklearn/metrics/_ranking.py:864: RuntimeWarning: invalid value encountered in true_divide\n",
      "  recall = tps / tps[-1]\n",
      "\n"
     ]
    },
    {
     "name": "stdout",
     "output_type": "stream",
     "text": [
      " 98%|█████████▊| 981/1000 [04:55<00:06,  2.93trial/s, best loss: -0.294284557983736]"
     ]
    },
    {
     "name": "stderr",
     "output_type": "stream",
     "text": [
      "/opt/conda/lib/python3.7/site-packages/sklearn/metrics/_ranking.py:864: RuntimeWarning: invalid value encountered in true_divide\n",
      "  recall = tps / tps[-1]\n",
      "\n"
     ]
    },
    {
     "name": "stdout",
     "output_type": "stream",
     "text": [
      " 99%|█████████▉| 989/1000 [04:58<00:03,  2.92trial/s, best loss: -0.294284557983736]"
     ]
    },
    {
     "name": "stderr",
     "output_type": "stream",
     "text": [
      "/opt/conda/lib/python3.7/site-packages/sklearn/metrics/_ranking.py:864: RuntimeWarning: invalid value encountered in true_divide\n",
      "  recall = tps / tps[-1]\n",
      "\n"
     ]
    },
    {
     "name": "stdout",
     "output_type": "stream",
     "text": [
      "100%|██████████| 1000/1000 [05:02<00:00,  3.31trial/s, best loss: -0.294284557983736]\n"
     ]
    },
    {
     "name": "stderr",
     "output_type": "stream",
     "text": [
      "/opt/conda/lib/python3.7/site-packages/sklearn/metrics/_ranking.py:864: RuntimeWarning: invalid value encountered in true_divide\n",
      "  recall = tps / tps[-1]\n",
      "/opt/conda/lib/python3.7/site-packages/sklearn/metrics/_ranking.py:864: RuntimeWarning: invalid value encountered in true_divide\n",
      "  recall = tps / tps[-1]\n",
      "/opt/conda/lib/python3.7/site-packages/sklearn/metrics/_ranking.py:864: RuntimeWarning: invalid value encountered in true_divide\n",
      "  recall = tps / tps[-1]\n"
     ]
    },
    {
     "name": "stdout",
     "output_type": "stream",
     "text": [
      "Period 2018-10-29 to 2021-10-15\n",
      " 31%|███       | 312/1000 [01:22<02:54,  3.95trial/s, best loss: -0.32084164708088264]"
     ]
    },
    {
     "name": "stderr",
     "output_type": "stream",
     "text": [
      "/opt/conda/lib/python3.7/site-packages/sklearn/metrics/_ranking.py:864: RuntimeWarning: invalid value encountered in true_divide\n",
      "  recall = tps / tps[-1]\n",
      "\n"
     ]
    },
    {
     "name": "stdout",
     "output_type": "stream",
     "text": [
      " 32%|███▏      | 317/1000 [01:23<03:06,  3.67trial/s, best loss: -0.32084164708088264]"
     ]
    },
    {
     "name": "stderr",
     "output_type": "stream",
     "text": [
      "/opt/conda/lib/python3.7/site-packages/sklearn/metrics/_ranking.py:864: RuntimeWarning: invalid value encountered in true_divide\n",
      "  recall = tps / tps[-1]\n",
      "\n"
     ]
    },
    {
     "name": "stdout",
     "output_type": "stream",
     "text": [
      " 47%|████▋     | 471/1000 [02:03<02:00,  4.37trial/s, best loss: -0.32084164708088264]"
     ]
    },
    {
     "name": "stderr",
     "output_type": "stream",
     "text": [
      "/opt/conda/lib/python3.7/site-packages/sklearn/metrics/_ranking.py:864: RuntimeWarning: invalid value encountered in true_divide\n",
      "  recall = tps / tps[-1]\n",
      "\n"
     ]
    },
    {
     "name": "stdout",
     "output_type": "stream",
     "text": [
      " 56%|█████▌    | 559/1000 [02:26<01:48,  4.07trial/s, best loss: -0.32084164708088264]"
     ]
    },
    {
     "name": "stderr",
     "output_type": "stream",
     "text": [
      "/opt/conda/lib/python3.7/site-packages/sklearn/metrics/_ranking.py:864: RuntimeWarning: invalid value encountered in true_divide\n",
      "  recall = tps / tps[-1]\n",
      "\n"
     ]
    },
    {
     "name": "stdout",
     "output_type": "stream",
     "text": [
      " 76%|███████▋  | 763/1000 [03:21<01:09,  3.40trial/s, best loss: -0.3304684046457087] "
     ]
    },
    {
     "name": "stderr",
     "output_type": "stream",
     "text": [
      "/opt/conda/lib/python3.7/site-packages/sklearn/metrics/_ranking.py:864: RuntimeWarning: invalid value encountered in true_divide\n",
      "  recall = tps / tps[-1]\n",
      "\n"
     ]
    },
    {
     "name": "stdout",
     "output_type": "stream",
     "text": [
      " 87%|████████▋ | 869/1000 [03:53<00:38,  3.37trial/s, best loss: -0.3304684046457087]"
     ]
    },
    {
     "name": "stderr",
     "output_type": "stream",
     "text": [
      "/opt/conda/lib/python3.7/site-packages/sklearn/metrics/_ranking.py:864: RuntimeWarning: invalid value encountered in true_divide\n",
      "  recall = tps / tps[-1]\n",
      "\n"
     ]
    },
    {
     "name": "stdout",
     "output_type": "stream",
     "text": [
      " 89%|████████▉ | 889/1000 [04:00<00:35,  3.10trial/s, best loss: -0.3304684046457087]"
     ]
    },
    {
     "name": "stderr",
     "output_type": "stream",
     "text": [
      "/opt/conda/lib/python3.7/site-packages/sklearn/metrics/_ranking.py:864: RuntimeWarning: invalid value encountered in true_divide\n",
      "  recall = tps / tps[-1]\n",
      "\n"
     ]
    },
    {
     "name": "stdout",
     "output_type": "stream",
     "text": [
      " 96%|█████████▋| 963/1000 [04:24<00:11,  3.26trial/s, best loss: -0.3304684046457087]"
     ]
    },
    {
     "name": "stderr",
     "output_type": "stream",
     "text": [
      "/opt/conda/lib/python3.7/site-packages/sklearn/metrics/_ranking.py:864: RuntimeWarning: invalid value encountered in true_divide\n",
      "  recall = tps / tps[-1]\n",
      "\n"
     ]
    },
    {
     "name": "stdout",
     "output_type": "stream",
     "text": [
      " 98%|█████████▊| 977/1000 [04:29<00:07,  3.23trial/s, best loss: -0.3304684046457087]"
     ]
    },
    {
     "name": "stderr",
     "output_type": "stream",
     "text": [
      "/opt/conda/lib/python3.7/site-packages/sklearn/metrics/_ranking.py:864: RuntimeWarning: invalid value encountered in true_divide\n",
      "  recall = tps / tps[-1]\n",
      "\n"
     ]
    },
    {
     "name": "stdout",
     "output_type": "stream",
     "text": [
      "100%|██████████| 1000/1000 [04:39<00:00,  3.58trial/s, best loss: -0.3304684046457087]\n",
      "Period 2018-10-01 to 2021-09-17\n",
      "  3%|▎         | 26/1000 [00:06<04:29,  3.61trial/s, best loss: -0.25734291876692134]"
     ]
    },
    {
     "name": "stderr",
     "output_type": "stream",
     "text": [
      "/opt/conda/lib/python3.7/site-packages/sklearn/metrics/_ranking.py:864: RuntimeWarning: invalid value encountered in true_divide\n",
      "  recall = tps / tps[-1]\n",
      "\n"
     ]
    },
    {
     "name": "stdout",
     "output_type": "stream",
     "text": [
      " 14%|█▍        | 139/1000 [00:34<03:29,  4.12trial/s, best loss: -0.3116002801524065]"
     ]
    },
    {
     "name": "stderr",
     "output_type": "stream",
     "text": [
      "/opt/conda/lib/python3.7/site-packages/sklearn/metrics/_ranking.py:864: RuntimeWarning: invalid value encountered in true_divide\n",
      "  recall = tps / tps[-1]\n",
      "\n"
     ]
    },
    {
     "name": "stdout",
     "output_type": "stream",
     "text": [
      " 18%|█▊        | 181/1000 [00:45<03:56,  3.46trial/s, best loss: -0.34201038311664944]"
     ]
    },
    {
     "name": "stderr",
     "output_type": "stream",
     "text": [
      "/opt/conda/lib/python3.7/site-packages/sklearn/metrics/_ranking.py:864: RuntimeWarning: invalid value encountered in true_divide\n",
      "  recall = tps / tps[-1]\n",
      "\n"
     ]
    },
    {
     "name": "stdout",
     "output_type": "stream",
     "text": [
      " 32%|███▏      | 318/1000 [01:21<03:38,  3.12trial/s, best loss: -0.34201038311664944]"
     ]
    },
    {
     "name": "stderr",
     "output_type": "stream",
     "text": [
      "/opt/conda/lib/python3.7/site-packages/sklearn/metrics/_ranking.py:864: RuntimeWarning: invalid value encountered in true_divide\n",
      "  recall = tps / tps[-1]\n",
      "\n"
     ]
    },
    {
     "name": "stdout",
     "output_type": "stream",
     "text": [
      " 33%|███▎      | 332/1000 [01:25<03:12,  3.47trial/s, best loss: -0.34201038311664944]"
     ]
    },
    {
     "name": "stderr",
     "output_type": "stream",
     "text": [
      "/opt/conda/lib/python3.7/site-packages/sklearn/metrics/_ranking.py:864: RuntimeWarning: invalid value encountered in true_divide\n",
      "  recall = tps / tps[-1]\n",
      "\n"
     ]
    },
    {
     "name": "stdout",
     "output_type": "stream",
     "text": [
      " 37%|███▋      | 366/1000 [01:35<02:54,  3.64trial/s, best loss: -0.34201038311664944]"
     ]
    },
    {
     "name": "stderr",
     "output_type": "stream",
     "text": [
      "/opt/conda/lib/python3.7/site-packages/sklearn/metrics/_ranking.py:864: RuntimeWarning: invalid value encountered in true_divide\n",
      "  recall = tps / tps[-1]\n",
      "\n"
     ]
    },
    {
     "name": "stdout",
     "output_type": "stream",
     "text": [
      " 56%|█████▌    | 555/1000 [02:29<01:53,  3.92trial/s, best loss: -0.34821350545823054]"
     ]
    },
    {
     "name": "stderr",
     "output_type": "stream",
     "text": [
      "/opt/conda/lib/python3.7/site-packages/sklearn/metrics/_ranking.py:864: RuntimeWarning: invalid value encountered in true_divide\n",
      "  recall = tps / tps[-1]\n",
      "\n"
     ]
    },
    {
     "name": "stdout",
     "output_type": "stream",
     "text": [
      " 69%|██████▉   | 694/1000 [03:11<01:28,  3.44trial/s, best loss: -0.35766618127707706]"
     ]
    },
    {
     "name": "stderr",
     "output_type": "stream",
     "text": [
      "/opt/conda/lib/python3.7/site-packages/sklearn/metrics/_ranking.py:864: RuntimeWarning: invalid value encountered in true_divide\n",
      "  recall = tps / tps[-1]\n",
      "\n"
     ]
    },
    {
     "name": "stdout",
     "output_type": "stream",
     "text": [
      " 78%|███████▊  | 777/1000 [03:36<00:57,  3.89trial/s, best loss: -0.35766618127707706]"
     ]
    },
    {
     "name": "stderr",
     "output_type": "stream",
     "text": [
      "/opt/conda/lib/python3.7/site-packages/sklearn/metrics/_ranking.py:864: RuntimeWarning: invalid value encountered in true_divide\n",
      "  recall = tps / tps[-1]\n",
      "\n"
     ]
    },
    {
     "name": "stdout",
     "output_type": "stream",
     "text": [
      " 92%|█████████▏| 917/1000 [04:22<00:27,  3.07trial/s, best loss: -0.35839712897359366]"
     ]
    },
    {
     "name": "stderr",
     "output_type": "stream",
     "text": [
      "/opt/conda/lib/python3.7/site-packages/sklearn/metrics/_ranking.py:864: RuntimeWarning: invalid value encountered in true_divide\n",
      "  recall = tps / tps[-1]\n",
      "\n"
     ]
    },
    {
     "name": "stdout",
     "output_type": "stream",
     "text": [
      " 98%|█████████▊| 979/1000 [04:42<00:06,  3.19trial/s, best loss: -0.35839712897359366]"
     ]
    },
    {
     "name": "stderr",
     "output_type": "stream",
     "text": [
      "/opt/conda/lib/python3.7/site-packages/sklearn/metrics/_ranking.py:864: RuntimeWarning: invalid value encountered in true_divide\n",
      "  recall = tps / tps[-1]\n",
      "\n"
     ]
    },
    {
     "name": "stdout",
     "output_type": "stream",
     "text": [
      "100%|██████████| 1000/1000 [04:49<00:00,  3.45trial/s, best loss: -0.35839712897359366]\n",
      "Period 2018-08-31 to 2021-08-19\n",
      " 13%|█▎        | 134/1000 [00:30<02:55,  4.92trial/s, best loss: -0.19935697053296073]"
     ]
    },
    {
     "name": "stderr",
     "output_type": "stream",
     "text": [
      "/opt/conda/lib/python3.7/site-packages/sklearn/metrics/_ranking.py:864: RuntimeWarning: invalid value encountered in true_divide\n",
      "  recall = tps / tps[-1]\n",
      "\n"
     ]
    },
    {
     "name": "stdout",
     "output_type": "stream",
     "text": [
      " 15%|█▌        | 152/1000 [00:33<02:48,  5.02trial/s, best loss: -0.23417367923305016]"
     ]
    },
    {
     "name": "stderr",
     "output_type": "stream",
     "text": [
      "/opt/conda/lib/python3.7/site-packages/sklearn/metrics/_ranking.py:864: RuntimeWarning: invalid value encountered in true_divide\n",
      "  recall = tps / tps[-1]\n",
      "\n"
     ]
    },
    {
     "name": "stdout",
     "output_type": "stream",
     "text": [
      " 19%|█▉        | 189/1000 [00:43<03:26,  3.92trial/s, best loss: -0.23417367923305016]"
     ]
    },
    {
     "name": "stderr",
     "output_type": "stream",
     "text": [
      "/opt/conda/lib/python3.7/site-packages/sklearn/metrics/_ranking.py:864: RuntimeWarning: invalid value encountered in true_divide\n",
      "  recall = tps / tps[-1]\n",
      "\n"
     ]
    },
    {
     "name": "stdout",
     "output_type": "stream",
     "text": [
      " 30%|██▉       | 299/1000 [01:11<02:42,  4.32trial/s, best loss: -0.2346985676454938] "
     ]
    },
    {
     "name": "stderr",
     "output_type": "stream",
     "text": [
      "/opt/conda/lib/python3.7/site-packages/sklearn/metrics/_ranking.py:864: RuntimeWarning: invalid value encountered in true_divide\n",
      "  recall = tps / tps[-1]\n",
      "\n"
     ]
    },
    {
     "name": "stdout",
     "output_type": "stream",
     "text": [
      " 37%|███▋      | 371/1000 [01:30<02:20,  4.49trial/s, best loss: -0.2346985676454938]"
     ]
    },
    {
     "name": "stderr",
     "output_type": "stream",
     "text": [
      "/opt/conda/lib/python3.7/site-packages/sklearn/metrics/_ranking.py:864: RuntimeWarning: invalid value encountered in true_divide\n",
      "  recall = tps / tps[-1]\n",
      "\n"
     ]
    },
    {
     "name": "stdout",
     "output_type": "stream",
     "text": [
      " 38%|███▊      | 378/1000 [01:31<02:17,  4.53trial/s, best loss: -0.2346985676454938]"
     ]
    },
    {
     "name": "stderr",
     "output_type": "stream",
     "text": [
      "/opt/conda/lib/python3.7/site-packages/sklearn/metrics/_ranking.py:864: RuntimeWarning: invalid value encountered in true_divide\n",
      "  recall = tps / tps[-1]\n",
      "\n"
     ]
    },
    {
     "name": "stdout",
     "output_type": "stream",
     "text": [
      " 43%|████▎     | 433/1000 [01:44<02:15,  4.17trial/s, best loss: -0.2346985676454938]"
     ]
    },
    {
     "name": "stderr",
     "output_type": "stream",
     "text": [
      "/opt/conda/lib/python3.7/site-packages/sklearn/metrics/_ranking.py:864: RuntimeWarning: invalid value encountered in true_divide\n",
      "  recall = tps / tps[-1]\n",
      "\n"
     ]
    },
    {
     "name": "stdout",
     "output_type": "stream",
     "text": [
      " 44%|████▎     | 435/1000 [01:44<02:13,  4.24trial/s, best loss: -0.2346985676454938]"
     ]
    },
    {
     "name": "stderr",
     "output_type": "stream",
     "text": [
      "/opt/conda/lib/python3.7/site-packages/sklearn/metrics/_ranking.py:864: RuntimeWarning: invalid value encountered in true_divide\n",
      "  recall = tps / tps[-1]\n",
      "\n"
     ]
    },
    {
     "name": "stdout",
     "output_type": "stream",
     "text": [
      " 46%|████▌     | 459/1000 [01:50<02:03,  4.40trial/s, best loss: -0.2346985676454938]"
     ]
    },
    {
     "name": "stderr",
     "output_type": "stream",
     "text": [
      "/opt/conda/lib/python3.7/site-packages/sklearn/metrics/_ranking.py:864: RuntimeWarning: invalid value encountered in true_divide\n",
      "  recall = tps / tps[-1]\n",
      "\n"
     ]
    },
    {
     "name": "stdout",
     "output_type": "stream",
     "text": [
      " 47%|████▋     | 469/1000 [01:52<02:03,  4.29trial/s, best loss: -0.2346985676454938]"
     ]
    },
    {
     "name": "stderr",
     "output_type": "stream",
     "text": [
      "/opt/conda/lib/python3.7/site-packages/sklearn/metrics/_ranking.py:864: RuntimeWarning: invalid value encountered in true_divide\n",
      "  recall = tps / tps[-1]\n",
      "\n"
     ]
    },
    {
     "name": "stdout",
     "output_type": "stream",
     "text": [
      " 52%|█████▏    | 522/1000 [02:06<02:49,  2.82trial/s, best loss: -0.26726035780828555]"
     ]
    },
    {
     "name": "stderr",
     "output_type": "stream",
     "text": [
      "/opt/conda/lib/python3.7/site-packages/sklearn/metrics/_ranking.py:864: RuntimeWarning: invalid value encountered in true_divide\n",
      "  recall = tps / tps[-1]\n",
      "\n"
     ]
    },
    {
     "name": "stdout",
     "output_type": "stream",
     "text": [
      " 54%|█████▍    | 544/1000 [02:11<01:42,  4.46trial/s, best loss: -0.26726035780828555]"
     ]
    },
    {
     "name": "stderr",
     "output_type": "stream",
     "text": [
      "/opt/conda/lib/python3.7/site-packages/sklearn/metrics/_ranking.py:864: RuntimeWarning: invalid value encountered in true_divide\n",
      "  recall = tps / tps[-1]\n",
      "\n"
     ]
    },
    {
     "name": "stdout",
     "output_type": "stream",
     "text": [
      " 55%|█████▌    | 551/1000 [02:13<01:54,  3.91trial/s, best loss: -0.26726035780828555]"
     ]
    },
    {
     "name": "stderr",
     "output_type": "stream",
     "text": [
      "/opt/conda/lib/python3.7/site-packages/sklearn/metrics/_ranking.py:864: RuntimeWarning: invalid value encountered in true_divide\n",
      "  recall = tps / tps[-1]\n",
      "\n"
     ]
    },
    {
     "name": "stdout",
     "output_type": "stream",
     "text": [
      " 58%|█████▊    | 580/1000 [02:21<02:09,  3.24trial/s, best loss: -0.26726035780828555]"
     ]
    },
    {
     "name": "stderr",
     "output_type": "stream",
     "text": [
      "/opt/conda/lib/python3.7/site-packages/sklearn/metrics/_ranking.py:864: RuntimeWarning: invalid value encountered in true_divide\n",
      "  recall = tps / tps[-1]\n",
      "\n"
     ]
    },
    {
     "name": "stdout",
     "output_type": "stream",
     "text": [
      " 58%|█████▊    | 585/1000 [02:22<02:03,  3.36trial/s, best loss: -0.26726035780828555]"
     ]
    },
    {
     "name": "stderr",
     "output_type": "stream",
     "text": [
      "/opt/conda/lib/python3.7/site-packages/sklearn/metrics/_ranking.py:864: RuntimeWarning: invalid value encountered in true_divide\n",
      "  recall = tps / tps[-1]\n",
      "\n"
     ]
    },
    {
     "name": "stdout",
     "output_type": "stream",
     "text": [
      " 60%|█████▉    | 595/1000 [02:25<02:03,  3.29trial/s, best loss: -0.26726035780828555]"
     ]
    },
    {
     "name": "stderr",
     "output_type": "stream",
     "text": [
      "/opt/conda/lib/python3.7/site-packages/sklearn/metrics/_ranking.py:864: RuntimeWarning: invalid value encountered in true_divide\n",
      "  recall = tps / tps[-1]\n",
      "\n"
     ]
    },
    {
     "name": "stdout",
     "output_type": "stream",
     "text": [
      " 61%|██████    | 609/1000 [02:30<01:53,  3.44trial/s, best loss: -0.26726035780828555]"
     ]
    },
    {
     "name": "stderr",
     "output_type": "stream",
     "text": [
      "/opt/conda/lib/python3.7/site-packages/sklearn/metrics/_ranking.py:864: RuntimeWarning: invalid value encountered in true_divide\n",
      "  recall = tps / tps[-1]\n",
      "\n"
     ]
    },
    {
     "name": "stdout",
     "output_type": "stream",
     "text": [
      " 62%|██████▏   | 618/1000 [02:32<01:53,  3.36trial/s, best loss: -0.26726035780828555]"
     ]
    },
    {
     "name": "stderr",
     "output_type": "stream",
     "text": [
      "/opt/conda/lib/python3.7/site-packages/sklearn/metrics/_ranking.py:864: RuntimeWarning: invalid value encountered in true_divide\n",
      "  recall = tps / tps[-1]\n",
      "\n"
     ]
    },
    {
     "name": "stdout",
     "output_type": "stream",
     "text": [
      " 63%|██████▎   | 628/1000 [02:35<01:34,  3.93trial/s, best loss: -0.26726035780828555]"
     ]
    },
    {
     "name": "stderr",
     "output_type": "stream",
     "text": [
      "/opt/conda/lib/python3.7/site-packages/sklearn/metrics/_ranking.py:864: RuntimeWarning: invalid value encountered in true_divide\n",
      "  recall = tps / tps[-1]\n",
      "\n"
     ]
    },
    {
     "name": "stdout",
     "output_type": "stream",
     "text": [
      " 63%|██████▎   | 634/1000 [02:37<01:42,  3.56trial/s, best loss: -0.26726035780828555]"
     ]
    },
    {
     "name": "stderr",
     "output_type": "stream",
     "text": [
      "/opt/conda/lib/python3.7/site-packages/sklearn/metrics/_ranking.py:864: RuntimeWarning: invalid value encountered in true_divide\n",
      "  recall = tps / tps[-1]\n",
      "\n"
     ]
    },
    {
     "name": "stdout",
     "output_type": "stream",
     "text": [
      " 66%|██████▌   | 659/1000 [02:46<01:57,  2.89trial/s, best loss: -0.26726035780828555]"
     ]
    },
    {
     "name": "stderr",
     "output_type": "stream",
     "text": [
      "/opt/conda/lib/python3.7/site-packages/sklearn/metrics/_ranking.py:864: RuntimeWarning: invalid value encountered in true_divide\n",
      "  recall = tps / tps[-1]\n",
      "\n"
     ]
    },
    {
     "name": "stdout",
     "output_type": "stream",
     "text": [
      " 68%|██████▊   | 676/1000 [02:51<01:41,  3.19trial/s, best loss: -0.26726035780828555]"
     ]
    },
    {
     "name": "stderr",
     "output_type": "stream",
     "text": [
      "/opt/conda/lib/python3.7/site-packages/sklearn/metrics/_ranking.py:864: RuntimeWarning: invalid value encountered in true_divide\n",
      "  recall = tps / tps[-1]\n",
      "\n"
     ]
    },
    {
     "name": "stdout",
     "output_type": "stream",
     "text": [
      " 71%|███████▏  | 714/1000 [03:01<01:14,  3.82trial/s, best loss: -0.26726035780828555]"
     ]
    },
    {
     "name": "stderr",
     "output_type": "stream",
     "text": [
      "/opt/conda/lib/python3.7/site-packages/sklearn/metrics/_ranking.py:864: RuntimeWarning: invalid value encountered in true_divide\n",
      "  recall = tps / tps[-1]\n",
      "\n"
     ]
    },
    {
     "name": "stdout",
     "output_type": "stream",
     "text": [
      " 77%|███████▋  | 774/1000 [03:19<00:59,  3.79trial/s, best loss: -0.26726035780828555]"
     ]
    },
    {
     "name": "stderr",
     "output_type": "stream",
     "text": [
      "/opt/conda/lib/python3.7/site-packages/sklearn/metrics/_ranking.py:864: RuntimeWarning: invalid value encountered in true_divide\n",
      "  recall = tps / tps[-1]\n",
      "\n"
     ]
    },
    {
     "name": "stdout",
     "output_type": "stream",
     "text": [
      " 78%|███████▊  | 780/1000 [03:21<00:57,  3.86trial/s, best loss: -0.26726035780828555]"
     ]
    },
    {
     "name": "stderr",
     "output_type": "stream",
     "text": [
      "/opt/conda/lib/python3.7/site-packages/sklearn/metrics/_ranking.py:864: RuntimeWarning: invalid value encountered in true_divide\n",
      "  recall = tps / tps[-1]\n",
      "\n"
     ]
    },
    {
     "name": "stdout",
     "output_type": "stream",
     "text": [
      " 80%|███████▉  | 797/1000 [03:25<00:57,  3.56trial/s, best loss: -0.26726035780828555]"
     ]
    },
    {
     "name": "stderr",
     "output_type": "stream",
     "text": [
      "/opt/conda/lib/python3.7/site-packages/sklearn/metrics/_ranking.py:864: RuntimeWarning: invalid value encountered in true_divide\n",
      "  recall = tps / tps[-1]\n",
      "\n"
     ]
    },
    {
     "name": "stdout",
     "output_type": "stream",
     "text": [
      " 82%|████████▏ | 822/1000 [03:32<00:48,  3.71trial/s, best loss: -0.26726035780828555]"
     ]
    },
    {
     "name": "stderr",
     "output_type": "stream",
     "text": [
      "/opt/conda/lib/python3.7/site-packages/sklearn/metrics/_ranking.py:864: RuntimeWarning: invalid value encountered in true_divide\n",
      "  recall = tps / tps[-1]\n",
      "\n"
     ]
    },
    {
     "name": "stdout",
     "output_type": "stream",
     "text": [
      " 86%|████████▌ | 859/1000 [03:43<00:39,  3.56trial/s, best loss: -0.26726035780828555]"
     ]
    },
    {
     "name": "stderr",
     "output_type": "stream",
     "text": [
      "/opt/conda/lib/python3.7/site-packages/sklearn/metrics/_ranking.py:864: RuntimeWarning: invalid value encountered in true_divide\n",
      "  recall = tps / tps[-1]\n",
      "\n"
     ]
    },
    {
     "name": "stdout",
     "output_type": "stream",
     "text": [
      " 87%|████████▋ | 870/1000 [03:46<00:34,  3.72trial/s, best loss: -0.26726035780828555]"
     ]
    },
    {
     "name": "stderr",
     "output_type": "stream",
     "text": [
      "/opt/conda/lib/python3.7/site-packages/sklearn/metrics/_ranking.py:864: RuntimeWarning: invalid value encountered in true_divide\n",
      "  recall = tps / tps[-1]\n",
      "\n"
     ]
    },
    {
     "name": "stdout",
     "output_type": "stream",
     "text": [
      " 87%|████████▋ | 872/1000 [03:47<00:37,  3.44trial/s, best loss: -0.26726035780828555]"
     ]
    },
    {
     "name": "stderr",
     "output_type": "stream",
     "text": [
      "/opt/conda/lib/python3.7/site-packages/sklearn/metrics/_ranking.py:864: RuntimeWarning: invalid value encountered in true_divide\n",
      "  recall = tps / tps[-1]\n",
      "\n"
     ]
    },
    {
     "name": "stdout",
     "output_type": "stream",
     "text": [
      " 88%|████████▊ | 882/1000 [03:50<00:37,  3.12trial/s, best loss: -0.26726035780828555]"
     ]
    },
    {
     "name": "stderr",
     "output_type": "stream",
     "text": [
      "/opt/conda/lib/python3.7/site-packages/sklearn/metrics/_ranking.py:864: RuntimeWarning: invalid value encountered in true_divide\n",
      "  recall = tps / tps[-1]\n",
      "\n"
     ]
    },
    {
     "name": "stdout",
     "output_type": "stream",
     "text": [
      " 90%|█████████ | 904/1000 [03:57<00:28,  3.36trial/s, best loss: -0.26726035780828555]"
     ]
    },
    {
     "name": "stderr",
     "output_type": "stream",
     "text": [
      "/opt/conda/lib/python3.7/site-packages/sklearn/metrics/_ranking.py:864: RuntimeWarning: invalid value encountered in true_divide\n",
      "  recall = tps / tps[-1]\n",
      "\n"
     ]
    },
    {
     "name": "stdout",
     "output_type": "stream",
     "text": [
      " 91%|█████████ | 908/1000 [03:58<00:25,  3.65trial/s, best loss: -0.26726035780828555]"
     ]
    },
    {
     "name": "stderr",
     "output_type": "stream",
     "text": [
      "/opt/conda/lib/python3.7/site-packages/sklearn/metrics/_ranking.py:864: RuntimeWarning: invalid value encountered in true_divide\n",
      "  recall = tps / tps[-1]\n",
      "\n"
     ]
    },
    {
     "name": "stdout",
     "output_type": "stream",
     "text": [
      " 92%|█████████▏| 915/1000 [04:00<00:23,  3.67trial/s, best loss: -0.26726035780828555]"
     ]
    },
    {
     "name": "stderr",
     "output_type": "stream",
     "text": [
      "/opt/conda/lib/python3.7/site-packages/sklearn/metrics/_ranking.py:864: RuntimeWarning: invalid value encountered in true_divide\n",
      "  recall = tps / tps[-1]\n",
      "\n"
     ]
    },
    {
     "name": "stdout",
     "output_type": "stream",
     "text": [
      " 92%|█████████▏| 922/1000 [04:02<00:21,  3.63trial/s, best loss: -0.26726035780828555]"
     ]
    },
    {
     "name": "stderr",
     "output_type": "stream",
     "text": [
      "/opt/conda/lib/python3.7/site-packages/sklearn/metrics/_ranking.py:864: RuntimeWarning: invalid value encountered in true_divide\n",
      "  recall = tps / tps[-1]\n",
      "\n"
     ]
    },
    {
     "name": "stdout",
     "output_type": "stream",
     "text": [
      " 94%|█████████▍| 943/1000 [04:11<00:20,  2.73trial/s, best loss: -0.26726035780828555]"
     ]
    },
    {
     "name": "stderr",
     "output_type": "stream",
     "text": [
      "/opt/conda/lib/python3.7/site-packages/sklearn/metrics/_ranking.py:864: RuntimeWarning: invalid value encountered in true_divide\n",
      "  recall = tps / tps[-1]\n",
      "\n"
     ]
    },
    {
     "name": "stdout",
     "output_type": "stream",
     "text": [
      " 94%|█████████▍| 944/1000 [04:11<00:20,  2.69trial/s, best loss: -0.26726035780828555]"
     ]
    },
    {
     "name": "stderr",
     "output_type": "stream",
     "text": [
      "/opt/conda/lib/python3.7/site-packages/sklearn/metrics/_ranking.py:864: RuntimeWarning: invalid value encountered in true_divide\n",
      "  recall = tps / tps[-1]\n",
      "\n"
     ]
    },
    {
     "name": "stdout",
     "output_type": "stream",
     "text": [
      " 99%|█████████▉| 989/1000 [04:24<00:02,  3.75trial/s, best loss: -0.26726035780828555]"
     ]
    },
    {
     "name": "stderr",
     "output_type": "stream",
     "text": [
      "/opt/conda/lib/python3.7/site-packages/sklearn/metrics/_ranking.py:864: RuntimeWarning: invalid value encountered in true_divide\n",
      "  recall = tps / tps[-1]\n",
      "\n"
     ]
    },
    {
     "name": "stdout",
     "output_type": "stream",
     "text": [
      " 99%|█████████▉| 993/1000 [04:25<00:01,  3.82trial/s, best loss: -0.26726035780828555]"
     ]
    },
    {
     "name": "stderr",
     "output_type": "stream",
     "text": [
      "/opt/conda/lib/python3.7/site-packages/sklearn/metrics/_ranking.py:864: RuntimeWarning: invalid value encountered in true_divide\n",
      "  recall = tps / tps[-1]\n",
      "\n"
     ]
    },
    {
     "name": "stdout",
     "output_type": "stream",
     "text": [
      "100%|██████████| 1000/1000 [04:27<00:00,  3.74trial/s, best loss: -0.26726035780828555]\n",
      "Period 2018-08-03 to 2021-07-22\n",
      " 56%|█████▌    | 555/1000 [03:32<02:34,  2.88trial/s, best loss: -0.3197648490776086]"
     ]
    },
    {
     "name": "stderr",
     "output_type": "stream",
     "text": [
      "/opt/conda/lib/python3.7/site-packages/sklearn/metrics/_ranking.py:864: RuntimeWarning: invalid value encountered in true_divide\n",
      "  recall = tps / tps[-1]\n",
      "\n"
     ]
    },
    {
     "name": "stdout",
     "output_type": "stream",
     "text": [
      "100%|██████████| 1000/1000 [06:36<00:00,  2.52trial/s, best loss: -0.3197648490776086]\n",
      "Period 2018-07-06 to 2021-06-23\n",
      "100%|██████████| 1000/1000 [05:16<00:00,  3.16trial/s, best loss: -0.38044688890447864]"
     ]
    },
    {
     "name": "stderr",
     "output_type": "stream",
     "text": [
      "/opt/conda/lib/python3.7/site-packages/sklearn/metrics/_ranking.py:864: RuntimeWarning: invalid value encountered in true_divide\n",
      "  recall = tps / tps[-1]\n",
      "\n"
     ]
    },
    {
     "name": "stdout",
     "output_type": "stream",
     "text": [
      "\n",
      "Period 2018-06-07 to 2021-05-25\n",
      "  1%|▏         | 14/1000 [00:03<03:42,  4.42trial/s, best loss: -0.22417317244033588]"
     ]
    },
    {
     "name": "stderr",
     "output_type": "stream",
     "text": [
      "/opt/conda/lib/python3.7/site-packages/sklearn/metrics/_ranking.py:864: RuntimeWarning: invalid value encountered in true_divide\n",
      "  recall = tps / tps[-1]\n",
      "\n"
     ]
    },
    {
     "name": "stdout",
     "output_type": "stream",
     "text": [
      "  7%|▋         | 72/1000 [00:18<04:11,  3.69trial/s, best loss: -0.22417317244033588]"
     ]
    },
    {
     "name": "stderr",
     "output_type": "stream",
     "text": [
      "/opt/conda/lib/python3.7/site-packages/sklearn/metrics/_ranking.py:864: RuntimeWarning: invalid value encountered in true_divide\n",
      "  recall = tps / tps[-1]\n",
      "\n"
     ]
    },
    {
     "name": "stdout",
     "output_type": "stream",
     "text": [
      " 12%|█▏        | 123/1000 [00:32<03:22,  4.32trial/s, best loss: -0.23384913060198834]"
     ]
    },
    {
     "name": "stderr",
     "output_type": "stream",
     "text": [
      "/opt/conda/lib/python3.7/site-packages/sklearn/metrics/_ranking.py:864: RuntimeWarning: invalid value encountered in true_divide\n",
      "  recall = tps / tps[-1]\n",
      "\n"
     ]
    },
    {
     "name": "stdout",
     "output_type": "stream",
     "text": [
      " 25%|██▍       | 247/1000 [01:11<03:51,  3.25trial/s, best loss: -0.23384913060198834]"
     ]
    },
    {
     "name": "stderr",
     "output_type": "stream",
     "text": [
      "/opt/conda/lib/python3.7/site-packages/sklearn/metrics/_ranking.py:864: RuntimeWarning: invalid value encountered in true_divide\n",
      "  recall = tps / tps[-1]\n",
      "\n"
     ]
    },
    {
     "name": "stdout",
     "output_type": "stream",
     "text": [
      " 25%|██▌       | 251/1000 [01:12<03:36,  3.45trial/s, best loss: -0.24430225501594194]"
     ]
    },
    {
     "name": "stderr",
     "output_type": "stream",
     "text": [
      "/opt/conda/lib/python3.7/site-packages/sklearn/metrics/_ranking.py:864: RuntimeWarning: invalid value encountered in true_divide\n",
      "  recall = tps / tps[-1]\n",
      "\n"
     ]
    },
    {
     "name": "stdout",
     "output_type": "stream",
     "text": [
      " 25%|██▌       | 253/1000 [01:13<03:27,  3.60trial/s, best loss: -0.24430225501594194]"
     ]
    },
    {
     "name": "stderr",
     "output_type": "stream",
     "text": [
      "/opt/conda/lib/python3.7/site-packages/sklearn/metrics/_ranking.py:864: RuntimeWarning: invalid value encountered in true_divide\n",
      "  recall = tps / tps[-1]\n",
      "\n"
     ]
    },
    {
     "name": "stdout",
     "output_type": "stream",
     "text": [
      " 29%|██▉       | 292/1000 [01:24<03:31,  3.35trial/s, best loss: -0.24430225501594194]"
     ]
    },
    {
     "name": "stderr",
     "output_type": "stream",
     "text": [
      "/opt/conda/lib/python3.7/site-packages/sklearn/metrics/_ranking.py:864: RuntimeWarning: invalid value encountered in true_divide\n",
      "  recall = tps / tps[-1]\n",
      "\n"
     ]
    },
    {
     "name": "stdout",
     "output_type": "stream",
     "text": [
      " 34%|███▍      | 341/1000 [01:41<07:59,  1.37trial/s, best loss: -0.24430225501594194]"
     ]
    },
    {
     "name": "stderr",
     "output_type": "stream",
     "text": [
      "/opt/conda/lib/python3.7/site-packages/sklearn/metrics/_ranking.py:864: RuntimeWarning: invalid value encountered in true_divide\n",
      "  recall = tps / tps[-1]\n",
      "\n"
     ]
    },
    {
     "name": "stdout",
     "output_type": "stream",
     "text": [
      " 42%|████▏     | 423/1000 [02:08<03:14,  2.97trial/s, best loss: -0.24430225501594194]"
     ]
    },
    {
     "name": "stderr",
     "output_type": "stream",
     "text": [
      "/opt/conda/lib/python3.7/site-packages/sklearn/metrics/_ranking.py:864: RuntimeWarning: invalid value encountered in true_divide\n",
      "  recall = tps / tps[-1]\n",
      "\n"
     ]
    },
    {
     "name": "stdout",
     "output_type": "stream",
     "text": [
      " 49%|████▉     | 494/1000 [02:32<03:17,  2.57trial/s, best loss: -0.24430225501594194]"
     ]
    },
    {
     "name": "stderr",
     "output_type": "stream",
     "text": [
      "/opt/conda/lib/python3.7/site-packages/sklearn/metrics/_ranking.py:864: RuntimeWarning: invalid value encountered in true_divide\n",
      "  recall = tps / tps[-1]\n",
      "\n"
     ]
    },
    {
     "name": "stdout",
     "output_type": "stream",
     "text": [
      " 54%|█████▍    | 541/1000 [02:49<02:38,  2.89trial/s, best loss: -0.24430225501594194]"
     ]
    },
    {
     "name": "stderr",
     "output_type": "stream",
     "text": [
      "/opt/conda/lib/python3.7/site-packages/sklearn/metrics/_ranking.py:864: RuntimeWarning: invalid value encountered in true_divide\n",
      "  recall = tps / tps[-1]\n",
      "\n"
     ]
    },
    {
     "name": "stdout",
     "output_type": "stream",
     "text": [
      " 54%|█████▍    | 544/1000 [02:50<02:08,  3.56trial/s, best loss: -0.24430225501594194]"
     ]
    },
    {
     "name": "stderr",
     "output_type": "stream",
     "text": [
      "/opt/conda/lib/python3.7/site-packages/sklearn/metrics/_ranking.py:864: RuntimeWarning: invalid value encountered in true_divide\n",
      "  recall = tps / tps[-1]\n",
      "\n"
     ]
    },
    {
     "name": "stdout",
     "output_type": "stream",
     "text": [
      " 55%|█████▍    | 546/1000 [02:51<02:14,  3.38trial/s, best loss: -0.24430225501594194]"
     ]
    },
    {
     "name": "stderr",
     "output_type": "stream",
     "text": [
      "/opt/conda/lib/python3.7/site-packages/sklearn/metrics/_ranking.py:864: RuntimeWarning: invalid value encountered in true_divide\n",
      "  recall = tps / tps[-1]\n",
      "\n"
     ]
    },
    {
     "name": "stdout",
     "output_type": "stream",
     "text": [
      " 57%|█████▊    | 575/1000 [03:00<02:11,  3.23trial/s, best loss: -0.24430225501594194]"
     ]
    },
    {
     "name": "stderr",
     "output_type": "stream",
     "text": [
      "/opt/conda/lib/python3.7/site-packages/sklearn/metrics/_ranking.py:864: RuntimeWarning: invalid value encountered in true_divide\n",
      "  recall = tps / tps[-1]\n",
      "\n"
     ]
    },
    {
     "name": "stdout",
     "output_type": "stream",
     "text": [
      " 61%|██████▏   | 613/1000 [03:11<01:33,  4.12trial/s, best loss: -0.24430225501594194]"
     ]
    },
    {
     "name": "stderr",
     "output_type": "stream",
     "text": [
      "/opt/conda/lib/python3.7/site-packages/sklearn/metrics/_ranking.py:864: RuntimeWarning: invalid value encountered in true_divide\n",
      "  recall = tps / tps[-1]\n",
      "\n"
     ]
    },
    {
     "name": "stdout",
     "output_type": "stream",
     "text": [
      " 66%|██████▋   | 664/1000 [03:27<01:36,  3.47trial/s, best loss: -0.24430225501594194]"
     ]
    },
    {
     "name": "stderr",
     "output_type": "stream",
     "text": [
      "/opt/conda/lib/python3.7/site-packages/sklearn/metrics/_ranking.py:864: RuntimeWarning: invalid value encountered in true_divide\n",
      "  recall = tps / tps[-1]\n",
      "\n"
     ]
    },
    {
     "name": "stdout",
     "output_type": "stream",
     "text": [
      " 71%|███████   | 710/1000 [03:44<01:45,  2.75trial/s, best loss: -0.24430225501594194]"
     ]
    },
    {
     "name": "stderr",
     "output_type": "stream",
     "text": [
      "/opt/conda/lib/python3.7/site-packages/sklearn/metrics/_ranking.py:864: RuntimeWarning: invalid value encountered in true_divide\n",
      "  recall = tps / tps[-1]\n",
      "\n"
     ]
    },
    {
     "name": "stdout",
     "output_type": "stream",
     "text": [
      " 75%|███████▌  | 752/1000 [03:59<01:30,  2.75trial/s, best loss: -0.24430225501594194]"
     ]
    },
    {
     "name": "stderr",
     "output_type": "stream",
     "text": [
      "/opt/conda/lib/python3.7/site-packages/sklearn/metrics/_ranking.py:864: RuntimeWarning: invalid value encountered in true_divide\n",
      "  recall = tps / tps[-1]\n",
      "\n"
     ]
    },
    {
     "name": "stdout",
     "output_type": "stream",
     "text": [
      " 86%|████████▌ | 860/1000 [04:37<01:01,  2.28trial/s, best loss: -0.24430225501594194]"
     ]
    },
    {
     "name": "stderr",
     "output_type": "stream",
     "text": [
      "/opt/conda/lib/python3.7/site-packages/sklearn/metrics/_ranking.py:864: RuntimeWarning: invalid value encountered in true_divide\n",
      "  recall = tps / tps[-1]\n",
      "\n"
     ]
    },
    {
     "name": "stdout",
     "output_type": "stream",
     "text": [
      "100%|██████████| 1000/1000 [05:30<00:00,  3.03trial/s, best loss: -0.24430225501594194]\n",
      "Period 2018-05-09 to 2021-04-27\n",
      "  5%|▍         | 49/1000 [00:14<03:57,  4.01trial/s, best loss: -0.2281541340319459] "
     ]
    },
    {
     "name": "stderr",
     "output_type": "stream",
     "text": [
      "/opt/conda/lib/python3.7/site-packages/sklearn/metrics/_ranking.py:864: RuntimeWarning: invalid value encountered in true_divide\n",
      "  recall = tps / tps[-1]\n",
      "\n"
     ]
    },
    {
     "name": "stdout",
     "output_type": "stream",
     "text": [
      "  6%|▌         | 59/1000 [00:16<03:13,  4.86trial/s, best loss: -0.24216501041663313]"
     ]
    },
    {
     "name": "stderr",
     "output_type": "stream",
     "text": [
      "/opt/conda/lib/python3.7/site-packages/sklearn/metrics/_ranking.py:864: RuntimeWarning: invalid value encountered in true_divide\n",
      "  recall = tps / tps[-1]\n",
      "\n"
     ]
    },
    {
     "name": "stdout",
     "output_type": "stream",
     "text": [
      "  9%|▉         | 91/1000 [00:24<03:32,  4.27trial/s, best loss: -0.30217282165747555]"
     ]
    },
    {
     "name": "stderr",
     "output_type": "stream",
     "text": [
      "/opt/conda/lib/python3.7/site-packages/sklearn/metrics/_ranking.py:864: RuntimeWarning: invalid value encountered in true_divide\n",
      "  recall = tps / tps[-1]\n",
      "\n"
     ]
    },
    {
     "name": "stdout",
     "output_type": "stream",
     "text": [
      " 10%|▉         | 96/1000 [00:25<03:25,  4.40trial/s, best loss: -0.30217282165747555]"
     ]
    },
    {
     "name": "stderr",
     "output_type": "stream",
     "text": [
      "/opt/conda/lib/python3.7/site-packages/sklearn/metrics/_ranking.py:864: RuntimeWarning: invalid value encountered in true_divide\n",
      "  recall = tps / tps[-1]\n",
      "\n"
     ]
    },
    {
     "name": "stdout",
     "output_type": "stream",
     "text": [
      " 10%|█         | 102/1000 [00:27<03:58,  3.77trial/s, best loss: -0.30217282165747555]"
     ]
    },
    {
     "name": "stderr",
     "output_type": "stream",
     "text": [
      "/opt/conda/lib/python3.7/site-packages/sklearn/metrics/_ranking.py:864: RuntimeWarning: invalid value encountered in true_divide\n",
      "  recall = tps / tps[-1]\n",
      "\n"
     ]
    },
    {
     "name": "stdout",
     "output_type": "stream",
     "text": [
      " 12%|█▏        | 119/1000 [00:32<03:45,  3.90trial/s, best loss: -0.30217282165747555]"
     ]
    },
    {
     "name": "stderr",
     "output_type": "stream",
     "text": [
      "/opt/conda/lib/python3.7/site-packages/sklearn/metrics/_ranking.py:864: RuntimeWarning: invalid value encountered in true_divide\n",
      "  recall = tps / tps[-1]\n",
      "\n"
     ]
    },
    {
     "name": "stdout",
     "output_type": "stream",
     "text": [
      " 13%|█▎        | 128/1000 [00:34<03:29,  4.16trial/s, best loss: -0.30217282165747555]"
     ]
    },
    {
     "name": "stderr",
     "output_type": "stream",
     "text": [
      "/opt/conda/lib/python3.7/site-packages/sklearn/metrics/_ranking.py:864: RuntimeWarning: invalid value encountered in true_divide\n",
      "  recall = tps / tps[-1]\n",
      "\n"
     ]
    },
    {
     "name": "stdout",
     "output_type": "stream",
     "text": [
      " 14%|█▍        | 140/1000 [00:37<03:59,  3.59trial/s, best loss: -0.30217282165747555]"
     ]
    },
    {
     "name": "stderr",
     "output_type": "stream",
     "text": [
      "/opt/conda/lib/python3.7/site-packages/sklearn/metrics/_ranking.py:864: RuntimeWarning: invalid value encountered in true_divide\n",
      "  recall = tps / tps[-1]\n",
      "\n"
     ]
    },
    {
     "name": "stdout",
     "output_type": "stream",
     "text": [
      " 18%|█▊        | 178/1000 [00:48<04:21,  3.14trial/s, best loss: -0.30217282165747555]"
     ]
    },
    {
     "name": "stderr",
     "output_type": "stream",
     "text": [
      "/opt/conda/lib/python3.7/site-packages/sklearn/metrics/_ranking.py:864: RuntimeWarning: invalid value encountered in true_divide\n",
      "  recall = tps / tps[-1]\n",
      "\n"
     ]
    },
    {
     "name": "stdout",
     "output_type": "stream",
     "text": [
      " 18%|█▊        | 182/1000 [00:49<04:20,  3.15trial/s, best loss: -0.30217282165747555]"
     ]
    },
    {
     "name": "stderr",
     "output_type": "stream",
     "text": [
      "/opt/conda/lib/python3.7/site-packages/sklearn/metrics/_ranking.py:864: RuntimeWarning: invalid value encountered in true_divide\n",
      "  recall = tps / tps[-1]\n",
      "\n"
     ]
    },
    {
     "name": "stdout",
     "output_type": "stream",
     "text": [
      " 28%|██▊       | 275/1000 [01:19<02:47,  4.33trial/s, best loss: -0.30217282165747555]"
     ]
    },
    {
     "name": "stderr",
     "output_type": "stream",
     "text": [
      "/opt/conda/lib/python3.7/site-packages/sklearn/metrics/_ranking.py:864: RuntimeWarning: invalid value encountered in true_divide\n",
      "  recall = tps / tps[-1]\n",
      "\n"
     ]
    },
    {
     "name": "stdout",
     "output_type": "stream",
     "text": [
      " 30%|██▉       | 295/1000 [01:24<02:52,  4.10trial/s, best loss: -0.30217282165747555]"
     ]
    },
    {
     "name": "stderr",
     "output_type": "stream",
     "text": [
      "/opt/conda/lib/python3.7/site-packages/sklearn/metrics/_ranking.py:864: RuntimeWarning: invalid value encountered in true_divide\n",
      "  recall = tps / tps[-1]\n",
      "\n"
     ]
    },
    {
     "name": "stdout",
     "output_type": "stream",
     "text": [
      " 33%|███▎      | 328/1000 [01:32<02:41,  4.17trial/s, best loss: -0.30217282165747555]"
     ]
    },
    {
     "name": "stderr",
     "output_type": "stream",
     "text": [
      "/opt/conda/lib/python3.7/site-packages/sklearn/metrics/_ranking.py:864: RuntimeWarning: invalid value encountered in true_divide\n",
      "  recall = tps / tps[-1]\n",
      "\n"
     ]
    },
    {
     "name": "stdout",
     "output_type": "stream",
     "text": [
      " 34%|███▍      | 338/1000 [01:35<02:45,  4.00trial/s, best loss: -0.30217282165747555]"
     ]
    },
    {
     "name": "stderr",
     "output_type": "stream",
     "text": [
      "/opt/conda/lib/python3.7/site-packages/sklearn/metrics/_ranking.py:864: RuntimeWarning: invalid value encountered in true_divide\n",
      "  recall = tps / tps[-1]\n",
      "\n"
     ]
    },
    {
     "name": "stdout",
     "output_type": "stream",
     "text": [
      " 37%|███▋      | 374/1000 [01:44<02:32,  4.10trial/s, best loss: -0.30217282165747555]"
     ]
    },
    {
     "name": "stderr",
     "output_type": "stream",
     "text": [
      "/opt/conda/lib/python3.7/site-packages/sklearn/metrics/_ranking.py:864: RuntimeWarning: invalid value encountered in true_divide\n",
      "  recall = tps / tps[-1]\n",
      "\n"
     ]
    },
    {
     "name": "stdout",
     "output_type": "stream",
     "text": [
      " 43%|████▎     | 432/1000 [02:01<02:44,  3.45trial/s, best loss: -0.30217282165747555]"
     ]
    },
    {
     "name": "stderr",
     "output_type": "stream",
     "text": [
      "/opt/conda/lib/python3.7/site-packages/sklearn/metrics/_ranking.py:864: RuntimeWarning: invalid value encountered in true_divide\n",
      "  recall = tps / tps[-1]\n",
      "\n"
     ]
    },
    {
     "name": "stdout",
     "output_type": "stream",
     "text": [
      " 44%|████▍     | 445/1000 [02:05<02:39,  3.48trial/s, best loss: -0.30217282165747555]"
     ]
    },
    {
     "name": "stderr",
     "output_type": "stream",
     "text": [
      "/opt/conda/lib/python3.7/site-packages/sklearn/metrics/_ranking.py:864: RuntimeWarning: invalid value encountered in true_divide\n",
      "  recall = tps / tps[-1]\n",
      "\n"
     ]
    },
    {
     "name": "stdout",
     "output_type": "stream",
     "text": [
      " 46%|████▌     | 461/1000 [02:11<03:20,  2.69trial/s, best loss: -0.30217282165747555]"
     ]
    },
    {
     "name": "stderr",
     "output_type": "stream",
     "text": [
      "/opt/conda/lib/python3.7/site-packages/sklearn/metrics/_ranking.py:864: RuntimeWarning: invalid value encountered in true_divide\n",
      "  recall = tps / tps[-1]\n",
      "\n"
     ]
    },
    {
     "name": "stdout",
     "output_type": "stream",
     "text": [
      " 53%|█████▎    | 527/1000 [02:32<02:22,  3.31trial/s, best loss: -0.30217282165747555]"
     ]
    },
    {
     "name": "stderr",
     "output_type": "stream",
     "text": [
      "/opt/conda/lib/python3.7/site-packages/sklearn/metrics/_ranking.py:864: RuntimeWarning: invalid value encountered in true_divide\n",
      "  recall = tps / tps[-1]\n",
      "\n"
     ]
    },
    {
     "name": "stdout",
     "output_type": "stream",
     "text": [
      " 54%|█████▎    | 535/1000 [02:35<02:20,  3.32trial/s, best loss: -0.30217282165747555]"
     ]
    },
    {
     "name": "stderr",
     "output_type": "stream",
     "text": [
      "/opt/conda/lib/python3.7/site-packages/sklearn/metrics/_ranking.py:864: RuntimeWarning: invalid value encountered in true_divide\n",
      "  recall = tps / tps[-1]\n",
      "\n"
     ]
    },
    {
     "name": "stdout",
     "output_type": "stream",
     "text": [
      " 60%|██████    | 600/1000 [02:54<02:06,  3.17trial/s, best loss: -0.30217282165747555]"
     ]
    }
   ],
   "source": [
    "validation_results = pipelines.model_validation_pipeline(\n",
    "    dataset=df,\n",
    "    filename_prefix=\"old_dataset_new_ticker_list_fixed_window\",\n",
    "    fixed_train_window_size=True,\n",
    "    data_window_max_train_size=60,\n",
    "    data_window_test_size=2,\n",
    "    data_window_gap_size=6,\n",
    "    hp_model_evals=1000,\n",
    "    top_n_best_trades=5,\n",
    "    min_industry_confidence=0.4,\n",
    "    random_noise=0.005,\n",
    "    hp_nth_best_model=1,\n",
    "    verbose=False,\n",
    ")"
   ]
  },
  {
   "cell_type": "code",
   "execution_count": 4,
   "metadata": {},
   "outputs": [],
   "source": [
    "df = pd.read_csv(\"data/dataset_bigcap_old.csv\")\n",
    "df = df[df.beta > 0]\n",
    "df = df[df.last_residual.abs() >= 2.5]\n",
    "df = preprocessing.assign_labels(df)"
   ]
  },
  {
   "cell_type": "code",
   "execution_count": 5,
   "metadata": {},
   "outputs": [],
   "source": [
    "updated_ticker_list = utils.get_ticker_names(\n",
    "    1000,\n",
    "    None,\n",
    "    remove_industries=[\n",
    "        \"health_care_equipment_and_services\",\n",
    "        \"pharmaceuticals_biotechnology_and_life_sciences\",\n",
    "    ],\n",
    ")\n",
    "df = df[df.ticker_x.isin(updated_ticker_list.index)]\n",
    "df = df[df.ticker_y.isin(updated_ticker_list.index)]"
   ]
  },
  {
   "cell_type": "markdown",
   "metadata": {},
   "source": [
    "## Production model training"
   ]
  },
  {
   "cell_type": "code",
   "execution_count": 55,
   "metadata": {},
   "outputs": [
    {
     "name": "stdout",
     "output_type": "stream",
     "text": [
      "32795\n",
      "0    26803\n",
      "1     5992\n",
      "Name: label, dtype: int64\n"
     ]
    }
   ],
   "source": [
    "train_size = 60\n",
    "selected_dates = np.sort(df[\"trade_date\"].unique())[-train_size:]\n",
    "df_prod = df[df.trade_date.isin(selected_dates)].sample(frac=1)\n",
    "print(len(df_prod))\n",
    "print(df_prod[\"label\"].value_counts())"
   ]
  },
  {
   "cell_type": "code",
   "execution_count": 56,
   "metadata": {},
   "outputs": [
    {
     "name": "stdout",
     "output_type": "stream",
     "text": [
      "[0]\tvalidation_0-logloss:0.68395\n",
      "[1]\tvalidation_0-logloss:0.67694\n",
      "[2]\tvalidation_0-logloss:0.67018\n",
      "[3]\tvalidation_0-logloss:0.66405\n",
      "[4]\tvalidation_0-logloss:0.65914\n",
      "[5]\tvalidation_0-logloss:0.65330\n",
      "[6]\tvalidation_0-logloss:0.64846\n",
      "[7]\tvalidation_0-logloss:0.64427\n",
      "[8]\tvalidation_0-logloss:0.64039\n",
      "[9]\tvalidation_0-logloss:0.63648\n",
      "[10]\tvalidation_0-logloss:0.63311\n",
      "[11]\tvalidation_0-logloss:0.63030\n",
      "[12]\tvalidation_0-logloss:0.62709\n",
      "[13]\tvalidation_0-logloss:0.62282\n",
      "[14]\tvalidation_0-logloss:0.61889\n",
      "[15]\tvalidation_0-logloss:0.61645\n",
      "[16]\tvalidation_0-logloss:0.61446\n",
      "[17]\tvalidation_0-logloss:0.61144\n",
      "[18]\tvalidation_0-logloss:0.60957\n",
      "[19]\tvalidation_0-logloss:0.60610\n",
      "[20]\tvalidation_0-logloss:0.60447\n",
      "[21]\tvalidation_0-logloss:0.60213\n",
      "[22]\tvalidation_0-logloss:0.60041\n",
      "[23]\tvalidation_0-logloss:0.59746\n",
      "[24]\tvalidation_0-logloss:0.59531\n",
      "[25]\tvalidation_0-logloss:0.59361\n",
      "[26]\tvalidation_0-logloss:0.59198\n",
      "[27]\tvalidation_0-logloss:0.58907\n",
      "[28]\tvalidation_0-logloss:0.58756\n",
      "[29]\tvalidation_0-logloss:0.58611\n",
      "[30]\tvalidation_0-logloss:0.58526\n",
      "[31]\tvalidation_0-logloss:0.58437\n",
      "[32]\tvalidation_0-logloss:0.58298\n",
      "[33]\tvalidation_0-logloss:0.58158\n",
      "[34]\tvalidation_0-logloss:0.57783\n",
      "[35]\tvalidation_0-logloss:0.57646\n",
      "[36]\tvalidation_0-logloss:0.57558\n",
      "[37]\tvalidation_0-logloss:0.57449\n",
      "[38]\tvalidation_0-logloss:0.57381\n",
      "[39]\tvalidation_0-logloss:0.57283\n",
      "[40]\tvalidation_0-logloss:0.57187\n",
      "[41]\tvalidation_0-logloss:0.57031\n",
      "[42]\tvalidation_0-logloss:0.56957\n",
      "[43]\tvalidation_0-logloss:0.56678\n",
      "[44]\tvalidation_0-logloss:0.56534\n",
      "[45]\tvalidation_0-logloss:0.56425\n",
      "[46]\tvalidation_0-logloss:0.56165\n",
      "[47]\tvalidation_0-logloss:0.55927\n"
     ]
    }
   ],
   "source": [
    "clf_prod, scalers_prod = train.train_production_xgb(df_prod, params, noise_level=0.005)"
   ]
  },
  {
   "cell_type": "markdown",
   "metadata": {},
   "source": [
    "## Model training experiments"
   ]
  },
  {
   "cell_type": "code",
   "execution_count": 50,
   "metadata": {},
   "outputs": [
    {
     "data": {
      "text/plain": [
       "<module 'preprocessing' from '/home/jupyter/stonk-rank/preprocessing.py'>"
      ]
     },
     "execution_count": 50,
     "metadata": {},
     "output_type": "execute_result"
    }
   ],
   "source": [
    "import importlib\n",
    "importlib.reload(preprocessing)"
   ]
  },
  {
   "cell_type": "code",
   "execution_count": 51,
   "metadata": {},
   "outputs": [
    {
     "name": "stdout",
     "output_type": "stream",
     "text": [
      "30621\n",
      "964\n",
      "0    24749\n",
      "1     5872\n",
      "Name: label, dtype: int64\n",
      "0    781\n",
      "1    183\n",
      "Name: label, dtype: int64\n"
     ]
    }
   ],
   "source": [
    "splits = preprocessing.split_data(\n",
    "    df, date_count_train=60, date_count_valid=2, date_count_gap=6, random_state=3303544\n",
    ")\n",
    "print(len(splits[\"train\"]))\n",
    "print(len(splits[\"validation\"]))\n",
    "print(splits[\"train\"][\"label\"].value_counts())\n",
    "print(splits[\"validation\"][\"label\"].value_counts())"
   ]
  },
  {
   "cell_type": "code",
   "execution_count": 52,
   "metadata": {},
   "outputs": [],
   "source": [
    "X_train, scalers = preprocessing.transform_features(splits[\"train\"], noise_level=0.005)\n",
    "\n",
    "X_valid, _ = preprocessing.transform_features(\n",
    "    splits[\"validation\"], scalers=scalers, noise_level=0\n",
    ")\n",
    "\n",
    "y_train = splits[\"train\"][\"label\"]\n",
    "y_valid = splits[\"validation\"][\"label\"]"
   ]
  },
  {
   "cell_type": "code",
   "execution_count": 44,
   "metadata": {},
   "outputs": [
    {
     "name": "stdout",
     "output_type": "stream",
     "text": [
      " 72%|███████▎  | 725/1000 [03:32<02:28,  1.85trial/s, best loss: -0.48678320681977716]"
     ]
    },
    {
     "name": "stderr",
     "output_type": "stream",
     "text": [
      "/opt/conda/lib/python3.7/site-packages/sklearn/metrics/_ranking.py:864: RuntimeWarning: invalid value encountered in true_divide\n",
      "  recall = tps / tps[-1]\n",
      "\n"
     ]
    },
    {
     "name": "stdout",
     "output_type": "stream",
     "text": [
      "100%|██████████| 1000/1000 [05:14<00:00,  3.18trial/s, best loss: -0.48678320681977716]\n"
     ]
    }
   ],
   "source": [
    "df_trial_results = train.model_hp_search(\n",
    "    df,\n",
    "    n_evals=1000,\n",
    "    fixed_train_window_size=False,\n",
    "    max_train_window_size=68,\n",
    "    trial_name=\"new_pipeline#3\",\n",
    "    additive_random_noise=0.005,\n",
    "    train_window_min_size=60,\n",
    "    train_window_stride=2,\n",
    "    write_csv=True,\n",
    "    random_state=420,\n",
    "    data_dir=\"data\",\n",
    "    output_dir=\"experiments\",\n",
    ")"
   ]
  },
  {
   "cell_type": "code",
   "execution_count": 46,
   "metadata": {},
   "outputs": [
    {
     "data": {
      "text/html": [
       "<div>\n",
       "<style scoped>\n",
       "    .dataframe tbody tr th:only-of-type {\n",
       "        vertical-align: middle;\n",
       "    }\n",
       "\n",
       "    .dataframe tbody tr th {\n",
       "        vertical-align: top;\n",
       "    }\n",
       "\n",
       "    .dataframe thead th {\n",
       "        text-align: right;\n",
       "    }\n",
       "</style>\n",
       "<table border=\"1\" class=\"dataframe\">\n",
       "  <thead>\n",
       "    <tr style=\"text-align: right;\">\n",
       "      <th></th>\n",
       "      <th>gamma</th>\n",
       "      <th>max_delta_step</th>\n",
       "      <th>max_depth</th>\n",
       "      <th>min_child_weight</th>\n",
       "      <th>n_estimators</th>\n",
       "      <th>scale_pos_weight</th>\n",
       "      <th>f1_score</th>\n",
       "      <th>precision</th>\n",
       "      <th>ap</th>\n",
       "      <th>auc</th>\n",
       "      <th>pos_preds</th>\n",
       "    </tr>\n",
       "  </thead>\n",
       "  <tbody>\n",
       "    <tr>\n",
       "      <th>0</th>\n",
       "      <td>4.098422</td>\n",
       "      <td>1.0</td>\n",
       "      <td>7.0</td>\n",
       "      <td>5.0</td>\n",
       "      <td>48.0</td>\n",
       "      <td>4.578455</td>\n",
       "      <td>0.285714</td>\n",
       "      <td>0.267943</td>\n",
       "      <td>0.536598</td>\n",
       "      <td>0.590195</td>\n",
       "      <td>209</td>\n",
       "    </tr>\n",
       "    <tr>\n",
       "      <th>1</th>\n",
       "      <td>2.408549</td>\n",
       "      <td>1.0</td>\n",
       "      <td>7.0</td>\n",
       "      <td>4.0</td>\n",
       "      <td>61.0</td>\n",
       "      <td>4.484318</td>\n",
       "      <td>0.285714</td>\n",
       "      <td>0.281915</td>\n",
       "      <td>0.530729</td>\n",
       "      <td>0.613488</td>\n",
       "      <td>188</td>\n",
       "    </tr>\n",
       "    <tr>\n",
       "      <th>2</th>\n",
       "      <td>2.777800</td>\n",
       "      <td>1.0</td>\n",
       "      <td>7.0</td>\n",
       "      <td>4.0</td>\n",
       "      <td>54.0</td>\n",
       "      <td>4.441888</td>\n",
       "      <td>0.276215</td>\n",
       "      <td>0.259615</td>\n",
       "      <td>0.529038</td>\n",
       "      <td>0.611931</td>\n",
       "      <td>208</td>\n",
       "    </tr>\n",
       "    <tr>\n",
       "      <th>3</th>\n",
       "      <td>2.124206</td>\n",
       "      <td>1.0</td>\n",
       "      <td>7.0</td>\n",
       "      <td>3.0</td>\n",
       "      <td>50.0</td>\n",
       "      <td>4.366102</td>\n",
       "      <td>0.335106</td>\n",
       "      <td>0.326425</td>\n",
       "      <td>0.527842</td>\n",
       "      <td>0.623108</td>\n",
       "      <td>193</td>\n",
       "    </tr>\n",
       "    <tr>\n",
       "      <th>4</th>\n",
       "      <td>3.066145</td>\n",
       "      <td>1.0</td>\n",
       "      <td>7.0</td>\n",
       "      <td>4.0</td>\n",
       "      <td>43.0</td>\n",
       "      <td>4.489866</td>\n",
       "      <td>0.318627</td>\n",
       "      <td>0.288889</td>\n",
       "      <td>0.510161</td>\n",
       "      <td>0.607079</td>\n",
       "      <td>225</td>\n",
       "    </tr>\n",
       "    <tr>\n",
       "      <th>5</th>\n",
       "      <td>2.818312</td>\n",
       "      <td>1.0</td>\n",
       "      <td>7.0</td>\n",
       "      <td>4.0</td>\n",
       "      <td>53.0</td>\n",
       "      <td>4.281667</td>\n",
       "      <td>0.293478</td>\n",
       "      <td>0.291892</td>\n",
       "      <td>0.500951</td>\n",
       "      <td>0.620694</td>\n",
       "      <td>185</td>\n",
       "    </tr>\n",
       "    <tr>\n",
       "      <th>6</th>\n",
       "      <td>3.905680</td>\n",
       "      <td>1.0</td>\n",
       "      <td>7.0</td>\n",
       "      <td>5.0</td>\n",
       "      <td>48.0</td>\n",
       "      <td>4.451125</td>\n",
       "      <td>0.303665</td>\n",
       "      <td>0.291457</td>\n",
       "      <td>0.498930</td>\n",
       "      <td>0.616279</td>\n",
       "      <td>199</td>\n",
       "    </tr>\n",
       "    <tr>\n",
       "      <th>7</th>\n",
       "      <td>2.498228</td>\n",
       "      <td>1.0</td>\n",
       "      <td>7.0</td>\n",
       "      <td>3.0</td>\n",
       "      <td>43.0</td>\n",
       "      <td>4.363691</td>\n",
       "      <td>0.277333</td>\n",
       "      <td>0.270833</td>\n",
       "      <td>0.491842</td>\n",
       "      <td>0.598182</td>\n",
       "      <td>192</td>\n",
       "    </tr>\n",
       "    <tr>\n",
       "      <th>8</th>\n",
       "      <td>2.400389</td>\n",
       "      <td>1.0</td>\n",
       "      <td>7.0</td>\n",
       "      <td>3.0</td>\n",
       "      <td>59.0</td>\n",
       "      <td>4.811645</td>\n",
       "      <td>0.304545</td>\n",
       "      <td>0.260700</td>\n",
       "      <td>0.489170</td>\n",
       "      <td>0.609905</td>\n",
       "      <td>257</td>\n",
       "    </tr>\n",
       "    <tr>\n",
       "      <th>9</th>\n",
       "      <td>4.990467</td>\n",
       "      <td>1.0</td>\n",
       "      <td>7.0</td>\n",
       "      <td>4.0</td>\n",
       "      <td>59.0</td>\n",
       "      <td>4.448196</td>\n",
       "      <td>0.297650</td>\n",
       "      <td>0.285000</td>\n",
       "      <td>0.486946</td>\n",
       "      <td>0.619634</td>\n",
       "      <td>200</td>\n",
       "    </tr>\n",
       "  </tbody>\n",
       "</table>\n",
       "</div>"
      ],
      "text/plain": [
       "      gamma  max_delta_step  max_depth  min_child_weight  n_estimators  \\\n",
       "0  4.098422             1.0        7.0               5.0          48.0   \n",
       "1  2.408549             1.0        7.0               4.0          61.0   \n",
       "2  2.777800             1.0        7.0               4.0          54.0   \n",
       "3  2.124206             1.0        7.0               3.0          50.0   \n",
       "4  3.066145             1.0        7.0               4.0          43.0   \n",
       "5  2.818312             1.0        7.0               4.0          53.0   \n",
       "6  3.905680             1.0        7.0               5.0          48.0   \n",
       "7  2.498228             1.0        7.0               3.0          43.0   \n",
       "8  2.400389             1.0        7.0               3.0          59.0   \n",
       "9  4.990467             1.0        7.0               4.0          59.0   \n",
       "\n",
       "   scale_pos_weight  f1_score  precision        ap       auc  pos_preds  \n",
       "0          4.578455  0.285714   0.267943  0.536598  0.590195        209  \n",
       "1          4.484318  0.285714   0.281915  0.530729  0.613488        188  \n",
       "2          4.441888  0.276215   0.259615  0.529038  0.611931        208  \n",
       "3          4.366102  0.335106   0.326425  0.527842  0.623108        193  \n",
       "4          4.489866  0.318627   0.288889  0.510161  0.607079        225  \n",
       "5          4.281667  0.293478   0.291892  0.500951  0.620694        185  \n",
       "6          4.451125  0.303665   0.291457  0.498930  0.616279        199  \n",
       "7          4.363691  0.277333   0.270833  0.491842  0.598182        192  \n",
       "8          4.811645  0.304545   0.260700  0.489170  0.609905        257  \n",
       "9          4.448196  0.297650   0.285000  0.486946  0.619634        200  "
      ]
     },
     "execution_count": 46,
     "metadata": {},
     "output_type": "execute_result"
    }
   ],
   "source": [
    "df_trials = pd.read_csv(\"data/experiments/new_pipeline#1.csv\").sort_values(\n",
    "    by=\"ap\", ascending=False\n",
    ")\n",
    "df_trials.head(10)"
   ]
  },
  {
   "cell_type": "code",
   "execution_count": 30,
   "metadata": {},
   "outputs": [
    {
     "data": {
      "text/html": [
       "<div>\n",
       "<style scoped>\n",
       "    .dataframe tbody tr th:only-of-type {\n",
       "        vertical-align: middle;\n",
       "    }\n",
       "\n",
       "    .dataframe tbody tr th {\n",
       "        vertical-align: top;\n",
       "    }\n",
       "\n",
       "    .dataframe thead th {\n",
       "        text-align: right;\n",
       "    }\n",
       "</style>\n",
       "<table border=\"1\" class=\"dataframe\">\n",
       "  <thead>\n",
       "    <tr style=\"text-align: right;\">\n",
       "      <th></th>\n",
       "      <th>gamma</th>\n",
       "      <th>max_delta_step</th>\n",
       "      <th>max_depth</th>\n",
       "      <th>min_child_weight</th>\n",
       "      <th>n_estimators</th>\n",
       "      <th>scale_pos_weight</th>\n",
       "      <th>train_window_size</th>\n",
       "      <th>f1_score</th>\n",
       "      <th>precision</th>\n",
       "      <th>ap</th>\n",
       "      <th>auc</th>\n",
       "      <th>pos_preds</th>\n",
       "    </tr>\n",
       "  </thead>\n",
       "  <tbody>\n",
       "    <tr>\n",
       "      <th>0</th>\n",
       "      <td>1.802354</td>\n",
       "      <td>3.0</td>\n",
       "      <td>4.0</td>\n",
       "      <td>7.0</td>\n",
       "      <td>64.0</td>\n",
       "      <td>4.104953</td>\n",
       "      <td>64.0</td>\n",
       "      <td>0.276423</td>\n",
       "      <td>0.274194</td>\n",
       "      <td>0.466065</td>\n",
       "      <td>0.615832</td>\n",
       "      <td>186</td>\n",
       "    </tr>\n",
       "    <tr>\n",
       "      <th>1</th>\n",
       "      <td>1.708711</td>\n",
       "      <td>3.0</td>\n",
       "      <td>4.0</td>\n",
       "      <td>8.0</td>\n",
       "      <td>63.0</td>\n",
       "      <td>4.365494</td>\n",
       "      <td>64.0</td>\n",
       "      <td>0.298201</td>\n",
       "      <td>0.281553</td>\n",
       "      <td>0.454368</td>\n",
       "      <td>0.628979</td>\n",
       "      <td>206</td>\n",
       "    </tr>\n",
       "    <tr>\n",
       "      <th>2</th>\n",
       "      <td>2.033617</td>\n",
       "      <td>3.0</td>\n",
       "      <td>4.0</td>\n",
       "      <td>8.0</td>\n",
       "      <td>62.0</td>\n",
       "      <td>4.208674</td>\n",
       "      <td>64.0</td>\n",
       "      <td>0.293333</td>\n",
       "      <td>0.286458</td>\n",
       "      <td>0.453274</td>\n",
       "      <td>0.628314</td>\n",
       "      <td>192</td>\n",
       "    </tr>\n",
       "    <tr>\n",
       "      <th>3</th>\n",
       "      <td>1.160542</td>\n",
       "      <td>3.0</td>\n",
       "      <td>4.0</td>\n",
       "      <td>8.0</td>\n",
       "      <td>69.0</td>\n",
       "      <td>4.151177</td>\n",
       "      <td>56.0</td>\n",
       "      <td>0.275676</td>\n",
       "      <td>0.272727</td>\n",
       "      <td>0.445790</td>\n",
       "      <td>0.615212</td>\n",
       "      <td>187</td>\n",
       "    </tr>\n",
       "    <tr>\n",
       "      <th>4</th>\n",
       "      <td>1.291625</td>\n",
       "      <td>3.0</td>\n",
       "      <td>4.0</td>\n",
       "      <td>8.0</td>\n",
       "      <td>65.0</td>\n",
       "      <td>4.340644</td>\n",
       "      <td>64.0</td>\n",
       "      <td>0.305085</td>\n",
       "      <td>0.273913</td>\n",
       "      <td>0.443988</td>\n",
       "      <td>0.637553</td>\n",
       "      <td>230</td>\n",
       "    </tr>\n",
       "    <tr>\n",
       "      <th>5</th>\n",
       "      <td>2.506153</td>\n",
       "      <td>3.0</td>\n",
       "      <td>5.0</td>\n",
       "      <td>8.0</td>\n",
       "      <td>70.0</td>\n",
       "      <td>4.382457</td>\n",
       "      <td>64.0</td>\n",
       "      <td>0.323529</td>\n",
       "      <td>0.293333</td>\n",
       "      <td>0.439193</td>\n",
       "      <td>0.639323</td>\n",
       "      <td>225</td>\n",
       "    </tr>\n",
       "    <tr>\n",
       "      <th>6</th>\n",
       "      <td>0.846906</td>\n",
       "      <td>3.0</td>\n",
       "      <td>5.0</td>\n",
       "      <td>8.0</td>\n",
       "      <td>30.0</td>\n",
       "      <td>4.048634</td>\n",
       "      <td>64.0</td>\n",
       "      <td>0.295337</td>\n",
       "      <td>0.280788</td>\n",
       "      <td>0.432918</td>\n",
       "      <td>0.624504</td>\n",
       "      <td>203</td>\n",
       "    </tr>\n",
       "    <tr>\n",
       "      <th>7</th>\n",
       "      <td>2.397897</td>\n",
       "      <td>3.0</td>\n",
       "      <td>4.0</td>\n",
       "      <td>8.0</td>\n",
       "      <td>41.0</td>\n",
       "      <td>4.015005</td>\n",
       "      <td>64.0</td>\n",
       "      <td>0.317073</td>\n",
       "      <td>0.286344</td>\n",
       "      <td>0.429513</td>\n",
       "      <td>0.620754</td>\n",
       "      <td>227</td>\n",
       "    </tr>\n",
       "    <tr>\n",
       "      <th>8</th>\n",
       "      <td>2.164158</td>\n",
       "      <td>3.0</td>\n",
       "      <td>5.0</td>\n",
       "      <td>8.0</td>\n",
       "      <td>46.0</td>\n",
       "      <td>3.958084</td>\n",
       "      <td>64.0</td>\n",
       "      <td>0.293963</td>\n",
       "      <td>0.282828</td>\n",
       "      <td>0.428214</td>\n",
       "      <td>0.637969</td>\n",
       "      <td>198</td>\n",
       "    </tr>\n",
       "    <tr>\n",
       "      <th>9</th>\n",
       "      <td>1.959557</td>\n",
       "      <td>3.0</td>\n",
       "      <td>4.0</td>\n",
       "      <td>8.0</td>\n",
       "      <td>74.0</td>\n",
       "      <td>4.835569</td>\n",
       "      <td>64.0</td>\n",
       "      <td>0.298901</td>\n",
       "      <td>0.250000</td>\n",
       "      <td>0.425112</td>\n",
       "      <td>0.618994</td>\n",
       "      <td>272</td>\n",
       "    </tr>\n",
       "  </tbody>\n",
       "</table>\n",
       "</div>"
      ],
      "text/plain": [
       "      gamma  max_delta_step  max_depth  min_child_weight  n_estimators  \\\n",
       "0  1.802354             3.0        4.0               7.0          64.0   \n",
       "1  1.708711             3.0        4.0               8.0          63.0   \n",
       "2  2.033617             3.0        4.0               8.0          62.0   \n",
       "3  1.160542             3.0        4.0               8.0          69.0   \n",
       "4  1.291625             3.0        4.0               8.0          65.0   \n",
       "5  2.506153             3.0        5.0               8.0          70.0   \n",
       "6  0.846906             3.0        5.0               8.0          30.0   \n",
       "7  2.397897             3.0        4.0               8.0          41.0   \n",
       "8  2.164158             3.0        5.0               8.0          46.0   \n",
       "9  1.959557             3.0        4.0               8.0          74.0   \n",
       "\n",
       "   scale_pos_weight  train_window_size  f1_score  precision        ap  \\\n",
       "0          4.104953               64.0  0.276423   0.274194  0.466065   \n",
       "1          4.365494               64.0  0.298201   0.281553  0.454368   \n",
       "2          4.208674               64.0  0.293333   0.286458  0.453274   \n",
       "3          4.151177               56.0  0.275676   0.272727  0.445790   \n",
       "4          4.340644               64.0  0.305085   0.273913  0.443988   \n",
       "5          4.382457               64.0  0.323529   0.293333  0.439193   \n",
       "6          4.048634               64.0  0.295337   0.280788  0.432918   \n",
       "7          4.015005               64.0  0.317073   0.286344  0.429513   \n",
       "8          3.958084               64.0  0.293963   0.282828  0.428214   \n",
       "9          4.835569               64.0  0.298901   0.250000  0.425112   \n",
       "\n",
       "        auc  pos_preds  \n",
       "0  0.615832        186  \n",
       "1  0.628979        206  \n",
       "2  0.628314        192  \n",
       "3  0.615212        187  \n",
       "4  0.637553        230  \n",
       "5  0.639323        225  \n",
       "6  0.624504        203  \n",
       "7  0.620754        227  \n",
       "8  0.637969        198  \n",
       "9  0.618994        272  "
      ]
     },
     "execution_count": 30,
     "metadata": {},
     "output_type": "execute_result"
    }
   ],
   "source": [
    "df_trials = pd.read_csv(\"data/experiments/adf_upgrade_yes-adf-recent#1.csv\").sort_values(\n",
    "    by=\"ap\", ascending=False\n",
    ")\n",
    "df_trials.head(10)"
   ]
  },
  {
   "cell_type": "code",
   "execution_count": 53,
   "metadata": {},
   "outputs": [
    {
     "name": "stdout",
     "output_type": "stream",
     "text": [
      "[0]\tvalidation_0-logloss:0.68759\tvalidation_1-logloss:0.68290\n",
      "[1]\tvalidation_0-logloss:0.68288\tvalidation_1-logloss:0.67338\n",
      "[2]\tvalidation_0-logloss:0.67600\tvalidation_1-logloss:0.66452\n",
      "[3]\tvalidation_0-logloss:0.67208\tvalidation_1-logloss:0.65670\n",
      "[4]\tvalidation_0-logloss:0.66720\tvalidation_1-logloss:0.65007\n",
      "[5]\tvalidation_0-logloss:0.66452\tvalidation_1-logloss:0.64404\n",
      "[6]\tvalidation_0-logloss:0.65591\tvalidation_1-logloss:0.63785\n",
      "[7]\tvalidation_0-logloss:0.65363\tvalidation_1-logloss:0.63217\n",
      "[8]\tvalidation_0-logloss:0.65215\tvalidation_1-logloss:0.62744\n",
      "[9]\tvalidation_0-logloss:0.64749\tvalidation_1-logloss:0.62293\n",
      "[10]\tvalidation_0-logloss:0.64431\tvalidation_1-logloss:0.61923\n",
      "[11]\tvalidation_0-logloss:0.64278\tvalidation_1-logloss:0.61585\n",
      "[12]\tvalidation_0-logloss:0.64060\tvalidation_1-logloss:0.61290\n",
      "[13]\tvalidation_0-logloss:0.63685\tvalidation_1-logloss:0.60929\n",
      "[14]\tvalidation_0-logloss:0.63028\tvalidation_1-logloss:0.60535\n",
      "[15]\tvalidation_0-logloss:0.62329\tvalidation_1-logloss:0.60211\n",
      "[16]\tvalidation_0-logloss:0.61881\tvalidation_1-logloss:0.59976\n",
      "[17]\tvalidation_0-logloss:0.61845\tvalidation_1-logloss:0.59775\n",
      "[18]\tvalidation_0-logloss:0.61332\tvalidation_1-logloss:0.59513\n",
      "[19]\tvalidation_0-logloss:0.61182\tvalidation_1-logloss:0.59306\n",
      "[20]\tvalidation_0-logloss:0.61081\tvalidation_1-logloss:0.59089\n",
      "[21]\tvalidation_0-logloss:0.60899\tvalidation_1-logloss:0.58865\n",
      "[22]\tvalidation_0-logloss:0.60395\tvalidation_1-logloss:0.58624\n",
      "[23]\tvalidation_0-logloss:0.60273\tvalidation_1-logloss:0.58447\n",
      "[24]\tvalidation_0-logloss:0.60278\tvalidation_1-logloss:0.58293\n",
      "[25]\tvalidation_0-logloss:0.60239\tvalidation_1-logloss:0.58034\n",
      "[26]\tvalidation_0-logloss:0.60168\tvalidation_1-logloss:0.57869\n",
      "[27]\tvalidation_0-logloss:0.60105\tvalidation_1-logloss:0.57662\n",
      "[28]\tvalidation_0-logloss:0.59815\tvalidation_1-logloss:0.57430\n",
      "[29]\tvalidation_0-logloss:0.59786\tvalidation_1-logloss:0.57282\n",
      "[30]\tvalidation_0-logloss:0.59673\tvalidation_1-logloss:0.57112\n",
      "[31]\tvalidation_0-logloss:0.59769\tvalidation_1-logloss:0.56984\n",
      "[32]\tvalidation_0-logloss:0.59939\tvalidation_1-logloss:0.56796\n",
      "[33]\tvalidation_0-logloss:0.59612\tvalidation_1-logloss:0.56564\n",
      "[34]\tvalidation_0-logloss:0.59615\tvalidation_1-logloss:0.56402\n",
      "[35]\tvalidation_0-logloss:0.59638\tvalidation_1-logloss:0.56274\n",
      "[36]\tvalidation_0-logloss:0.59672\tvalidation_1-logloss:0.56119\n",
      "[37]\tvalidation_0-logloss:0.59609\tvalidation_1-logloss:0.55991\n",
      "[38]\tvalidation_0-logloss:0.59577\tvalidation_1-logloss:0.55928\n",
      "[39]\tvalidation_0-logloss:0.59551\tvalidation_1-logloss:0.55750\n",
      "[40]\tvalidation_0-logloss:0.59510\tvalidation_1-logloss:0.55664\n",
      "[41]\tvalidation_0-logloss:0.59495\tvalidation_1-logloss:0.55600\n",
      "[42]\tvalidation_0-logloss:0.59129\tvalidation_1-logloss:0.55487\n",
      "[43]\tvalidation_0-logloss:0.59097\tvalidation_1-logloss:0.55326\n",
      "[44]\tvalidation_0-logloss:0.58933\tvalidation_1-logloss:0.55194\n",
      "[45]\tvalidation_0-logloss:0.58928\tvalidation_1-logloss:0.55121\n",
      "[46]\tvalidation_0-logloss:0.58971\tvalidation_1-logloss:0.55000\n",
      "[47]\tvalidation_0-logloss:0.58910\tvalidation_1-logloss:0.54923\n"
     ]
    }
   ],
   "source": [
    "params = {\n",
    "    \"gamma\": 4.098422,\n",
    "    \"scale_pos_weight\": 4.578455,\n",
    "    \"max_depth\": 7,\n",
    "    \"min_child_weight\": 5,\n",
    "    \"max_delta_step\": 1,\n",
    "    \"colsample_bylevel\": 1,\n",
    "    \"n_estimators\": 48,\n",
    "    \"learning_rate\": 0.1,\n",
    "    \"subsample\": 1,\n",
    "    \"tree_method\": \"hist\",\n",
    "    \"enable_categorical\": True,\n",
    "    \"max_cat_to_onehot\": 1,\n",
    "    \"eval_metric\": [\"logloss\"],\n",
    "    \"random_state\": np.random.randint(999929),\n",
    "}\n",
    "\n",
    "clf = xgb.XGBClassifier(**params)\n",
    "clf = clf.fit(X_train, y_train, eval_set=[(X_valid, y_valid), (X_train, y_train)])"
   ]
  },
  {
   "cell_type": "code",
   "execution_count": 54,
   "metadata": {},
   "outputs": [
    {
     "name": "stdout",
     "output_type": "stream",
     "text": [
      "**Validation**\n",
      "Precision: 0.245136186770428\n",
      "PR-AUC/AP score: 0.38282887033811264\n",
      "ROC-AUC score: 0.5980283089495743\n",
      "Total positive predictions: 257\n",
      "Total positive labels: 183\n",
      "\n",
      "Totals:\n",
      "        prediction\n",
      "result            \n",
      "FN             120\n",
      "FP             194\n",
      "TN             587\n",
      "TP              63\n",
      "\n",
      "Means:\n",
      "        return_one_month  return_two_month  return_three_month\n",
      "result                                                        \n",
      "FN              0.075925          0.093075            0.080333\n",
      "FP              0.006701         -0.009912           -0.009582\n",
      "TN              0.004467         -0.019247           -0.029538\n",
      "TP              0.066444          0.117079            0.109556\n",
      "\n",
      "Std:\n",
      "        return_one_month  return_two_month  return_three_month\n",
      "result                                                        \n",
      "FN              0.070681          0.062062            0.076462\n",
      "FP              0.039699          0.060385            0.071674\n",
      "TN              0.048008          0.065300            0.069027\n",
      "TP              0.071327          0.079584            0.075323\n",
      "\n",
      "Positive predictions:\n",
      "\n",
      "Means:\n",
      "return_one_month      0.021346\n",
      "return_two_month      0.021218\n",
      "return_three_month    0.019623\n",
      "dtype: float64\n",
      "\n",
      "Std:\n",
      "return_one_month      0.055528\n",
      "return_two_month      0.085316\n",
      "return_three_month    0.088791\n",
      "dtype: float64\n"
     ]
    }
   ],
   "source": [
    "print(\"**Validation**\")\n",
    "y_score = clf.predict_proba(X_valid)[:, 1]\n",
    "thres = 0.5\n",
    "y_preds = y_score > thres\n",
    "\n",
    "df_results_valid = splits[\"validation\"].copy()\n",
    "df_results_valid[\"score\"] = y_score\n",
    "df_results_valid[\"prediction\"] = y_preds\n",
    "\n",
    "_ = evaluate.performance_summary(\n",
    "    y_score=y_score, y_preds=y_preds, y_true=y_valid, auc_cutoff=0.5, verbose=True\n",
    ")\n",
    "\n",
    "_ = evaluate.returns_on_predictions(df_results_valid, verbose=True)\n",
    "\n",
    "# _ = evaluate.performance_on_slice(df_results_valid, \"subindustry\")"
   ]
  },
  {
   "cell_type": "code",
   "execution_count": 46,
   "metadata": {},
   "outputs": [],
   "source": [
    "# pd.set_option(\"display.max_rows\", 200)\n",
    "# evaluate.performance_on_trading_use_case(\n",
    "#         df_results_valid, top_n_trades=5, min_industry_score=0.4\n",
    "#     )"
   ]
  },
  {
   "cell_type": "code",
   "execution_count": 31,
   "metadata": {},
   "outputs": [
    {
     "name": "stdout",
     "output_type": "stream",
     "text": [
      "adf_pass_rate 0.029732222\n",
      "last_residual 0.08531821\n",
      "residual_mean_max 0.0812026\n",
      "industry 0.118948996\n",
      "vix 0.26275504\n",
      "betas_rsquared 0.14753708\n",
      "arima_forecast_normalized 0.21244633\n",
      "residual_inter 0.062059514\n"
     ]
    }
   ],
   "source": [
    "for name, importance in zip(clf.feature_names_in_, clf.feature_importances_):\n",
    "    print(name, importance)"
   ]
  },
  {
   "cell_type": "code",
   "execution_count": 44,
   "metadata": {},
   "outputs": [],
   "source": [
    "pd.set_option(\"display.max_rows\", 200)"
   ]
  },
  {
   "cell_type": "code",
   "execution_count": null,
   "metadata": {},
   "outputs": [],
   "source": [
    "df_results_valid[df_results_valid.result == \"FP\"].iloc[:].drop(\n",
    "    columns=[\"beta\", \"intercept\", \"data_window_start\", \"label\", \"prediction\"]\n",
    ").iloc[:100]"
   ]
  },
  {
   "cell_type": "code",
   "execution_count": null,
   "metadata": {},
   "outputs": [],
   "source": [
    "# df_results_valid[df_results_valid.return_three_month < -0.2]"
   ]
  },
  {
   "cell_type": "code",
   "execution_count": null,
   "metadata": {},
   "outputs": [],
   "source": [
    "# df_results_valid[df_results_valid.subindustry == 'consumer_services'].iloc[0:100]"
   ]
  },
  {
   "cell_type": "code",
   "execution_count": 3,
   "metadata": {},
   "outputs": [
    {
     "data": {
      "text/html": [
       "<div>\n",
       "<style scoped>\n",
       "    .dataframe tbody tr th:only-of-type {\n",
       "        vertical-align: middle;\n",
       "    }\n",
       "\n",
       "    .dataframe tbody tr th {\n",
       "        vertical-align: top;\n",
       "    }\n",
       "\n",
       "    .dataframe thead th {\n",
       "        text-align: right;\n",
       "    }\n",
       "</style>\n",
       "<table border=\"1\" class=\"dataframe\">\n",
       "  <thead>\n",
       "    <tr style=\"text-align: right;\">\n",
       "      <th></th>\n",
       "      <th>_pos_pred_ret_3mo</th>\n",
       "      <th>_fp_ret_3mo</th>\n",
       "      <th>_ap</th>\n",
       "      <th>banksbanks_top5_ret_3mo</th>\n",
       "      <th>capitgoods_top5_ret_3mo</th>\n",
       "      <th>chemiicals_top5_ret_3mo</th>\n",
       "      <th>divercials_top5_ret_3mo</th>\n",
       "      <th>energnergy_top5_ret_3mo</th>\n",
       "      <th>semicpment_top5_ret_3mo</th>\n",
       "      <th>softwvices_top5_ret_3mo</th>\n",
       "      <th>technpment_top5_ret_3mo</th>\n",
       "      <th>transation_top5_ret_3mo</th>\n",
       "      <th>utiliities_top5_ret_3mo</th>\n",
       "    </tr>\n",
       "  </thead>\n",
       "  <tbody>\n",
       "    <tr>\n",
       "      <th>mean</th>\n",
       "      <td>-0.000545</td>\n",
       "      <td>-0.041131</td>\n",
       "      <td>0.324907</td>\n",
       "      <td>0.010408</td>\n",
       "      <td>-0.012968</td>\n",
       "      <td>0.021529</td>\n",
       "      <td>-0.026084</td>\n",
       "      <td>0.014053</td>\n",
       "      <td>0.000707</td>\n",
       "      <td>-0.006556</td>\n",
       "      <td>0.021094</td>\n",
       "      <td>-0.004161</td>\n",
       "      <td>0.009587</td>\n",
       "    </tr>\n",
       "    <tr>\n",
       "      <th>min</th>\n",
       "      <td>-0.112000</td>\n",
       "      <td>-0.134000</td>\n",
       "      <td>0.044000</td>\n",
       "      <td>-0.132000</td>\n",
       "      <td>-0.228000</td>\n",
       "      <td>-0.262000</td>\n",
       "      <td>-0.308000</td>\n",
       "      <td>-0.255000</td>\n",
       "      <td>-0.293000</td>\n",
       "      <td>-0.136000</td>\n",
       "      <td>-0.181000</td>\n",
       "      <td>-0.201000</td>\n",
       "      <td>-0.089000</td>\n",
       "    </tr>\n",
       "    <tr>\n",
       "      <th>25%</th>\n",
       "      <td>-0.024500</td>\n",
       "      <td>-0.056000</td>\n",
       "      <td>0.205000</td>\n",
       "      <td>-0.012750</td>\n",
       "      <td>-0.056000</td>\n",
       "      <td>-0.040000</td>\n",
       "      <td>-0.063500</td>\n",
       "      <td>-0.027000</td>\n",
       "      <td>-0.049500</td>\n",
       "      <td>-0.034000</td>\n",
       "      <td>-0.023500</td>\n",
       "      <td>-0.042500</td>\n",
       "      <td>-0.019250</td>\n",
       "    </tr>\n",
       "    <tr>\n",
       "      <th>50%</th>\n",
       "      <td>0.002000</td>\n",
       "      <td>-0.032000</td>\n",
       "      <td>0.274000</td>\n",
       "      <td>0.006000</td>\n",
       "      <td>-0.004000</td>\n",
       "      <td>0.020000</td>\n",
       "      <td>-0.017000</td>\n",
       "      <td>0.012000</td>\n",
       "      <td>0.015000</td>\n",
       "      <td>-0.009000</td>\n",
       "      <td>0.010000</td>\n",
       "      <td>0.002000</td>\n",
       "      <td>0.005000</td>\n",
       "    </tr>\n",
       "    <tr>\n",
       "      <th>75%</th>\n",
       "      <td>0.016000</td>\n",
       "      <td>-0.021500</td>\n",
       "      <td>0.397000</td>\n",
       "      <td>0.029500</td>\n",
       "      <td>0.024750</td>\n",
       "      <td>0.054000</td>\n",
       "      <td>0.017000</td>\n",
       "      <td>0.042000</td>\n",
       "      <td>0.045500</td>\n",
       "      <td>0.019500</td>\n",
       "      <td>0.036250</td>\n",
       "      <td>0.041500</td>\n",
       "      <td>0.042000</td>\n",
       "    </tr>\n",
       "    <tr>\n",
       "      <th>max</th>\n",
       "      <td>0.164000</td>\n",
       "      <td>0.038000</td>\n",
       "      <td>1.000000</td>\n",
       "      <td>0.176000</td>\n",
       "      <td>0.203000</td>\n",
       "      <td>0.376000</td>\n",
       "      <td>0.146000</td>\n",
       "      <td>0.229000</td>\n",
       "      <td>0.180000</td>\n",
       "      <td>0.138000</td>\n",
       "      <td>0.359000</td>\n",
       "      <td>0.126000</td>\n",
       "      <td>0.104000</td>\n",
       "    </tr>\n",
       "  </tbody>\n",
       "</table>\n",
       "</div>"
      ],
      "text/plain": [
       "      _pos_pred_ret_3mo  _fp_ret_3mo       _ap  banksbanks_top5_ret_3mo  \\\n",
       "mean          -0.000545    -0.041131  0.324907                 0.010408   \n",
       "min           -0.112000    -0.134000  0.044000                -0.132000   \n",
       "25%           -0.024500    -0.056000  0.205000                -0.012750   \n",
       "50%            0.002000    -0.032000  0.274000                 0.006000   \n",
       "75%            0.016000    -0.021500  0.397000                 0.029500   \n",
       "max            0.164000     0.038000  1.000000                 0.176000   \n",
       "\n",
       "      capitgoods_top5_ret_3mo  chemiicals_top5_ret_3mo  \\\n",
       "mean                -0.012968                 0.021529   \n",
       "min                 -0.228000                -0.262000   \n",
       "25%                 -0.056000                -0.040000   \n",
       "50%                 -0.004000                 0.020000   \n",
       "75%                  0.024750                 0.054000   \n",
       "max                  0.203000                 0.376000   \n",
       "\n",
       "      divercials_top5_ret_3mo  energnergy_top5_ret_3mo  \\\n",
       "mean                -0.026084                 0.014053   \n",
       "min                 -0.308000                -0.255000   \n",
       "25%                 -0.063500                -0.027000   \n",
       "50%                 -0.017000                 0.012000   \n",
       "75%                  0.017000                 0.042000   \n",
       "max                  0.146000                 0.229000   \n",
       "\n",
       "      semicpment_top5_ret_3mo  softwvices_top5_ret_3mo  \\\n",
       "mean                 0.000707                -0.006556   \n",
       "min                 -0.293000                -0.136000   \n",
       "25%                 -0.049500                -0.034000   \n",
       "50%                  0.015000                -0.009000   \n",
       "75%                  0.045500                 0.019500   \n",
       "max                  0.180000                 0.138000   \n",
       "\n",
       "      technpment_top5_ret_3mo  transation_top5_ret_3mo  \\\n",
       "mean                 0.021094                -0.004161   \n",
       "min                 -0.181000                -0.201000   \n",
       "25%                 -0.023500                -0.042500   \n",
       "50%                  0.010000                 0.002000   \n",
       "75%                  0.036250                 0.041500   \n",
       "max                  0.359000                 0.126000   \n",
       "\n",
       "      utiliities_top5_ret_3mo  \n",
       "mean                 0.009587  \n",
       "min                 -0.089000  \n",
       "25%                 -0.019250  \n",
       "50%                  0.005000  \n",
       "75%                  0.042000  \n",
       "max                  0.104000  "
      ]
     },
     "execution_count": 3,
     "metadata": {},
     "output_type": "execute_result"
    }
   ],
   "source": [
    "vld = pd.read_csv(\n",
    "    \"data/experiments/validation/final_one_validation_pipeline_60_True_2_6_1000_5_0.4_0.005_1.csv\"\n",
    ")\n",
    "vld[\n",
    "    [\n",
    "        \"_pos_pred_ret_3mo\",\n",
    "        \"_fp_ret_3mo\",\n",
    "        \"_ap\",\n",
    "        \"banksbanks_top5_ret_3mo\",\n",
    "        \"capitgoods_top5_ret_3mo\",\n",
    "        \"chemiicals_top5_ret_3mo\",\n",
    "        \"divercials_top5_ret_3mo\",\n",
    "        \"energnergy_top5_ret_3mo\",\n",
    "        \"semicpment_top5_ret_3mo\",\n",
    "        \"softwvices_top5_ret_3mo\",\n",
    "        \"technpment_top5_ret_3mo\",\n",
    "        \"transation_top5_ret_3mo\",\n",
    "        \"utiliities_top5_ret_3mo\",\n",
    "    ]\n",
    "].describe().drop(index=[\"std\", \"count\"])"
   ]
  },
  {
   "cell_type": "code",
   "execution_count": 37,
   "metadata": {},
   "outputs": [
    {
     "data": {
      "text/html": [
       "<div>\n",
       "<style scoped>\n",
       "    .dataframe tbody tr th:only-of-type {\n",
       "        vertical-align: middle;\n",
       "    }\n",
       "\n",
       "    .dataframe tbody tr th {\n",
       "        vertical-align: top;\n",
       "    }\n",
       "\n",
       "    .dataframe thead th {\n",
       "        text-align: right;\n",
       "    }\n",
       "</style>\n",
       "<table border=\"1\" class=\"dataframe\">\n",
       "  <thead>\n",
       "    <tr style=\"text-align: right;\">\n",
       "      <th></th>\n",
       "      <th>_pos_pred_ret_3mo</th>\n",
       "      <th>_fp_ret_3mo</th>\n",
       "      <th>_ap</th>\n",
       "      <th>banksbanks_top5_ret_3mo</th>\n",
       "      <th>capitgoods_top5_ret_3mo</th>\n",
       "      <th>chemiicals_top5_ret_3mo</th>\n",
       "      <th>divercials_top5_ret_3mo</th>\n",
       "      <th>energnergy_top5_ret_3mo</th>\n",
       "      <th>semicpment_top5_ret_3mo</th>\n",
       "      <th>softwvices_top5_ret_3mo</th>\n",
       "      <th>technpment_top5_ret_3mo</th>\n",
       "      <th>transation_top5_ret_3mo</th>\n",
       "      <th>utiliities_top5_ret_3mo</th>\n",
       "    </tr>\n",
       "  </thead>\n",
       "  <tbody>\n",
       "    <tr>\n",
       "      <th>mean</th>\n",
       "      <td>-0.009548</td>\n",
       "      <td>-0.046613</td>\n",
       "      <td>0.319315</td>\n",
       "      <td>-0.002054</td>\n",
       "      <td>-0.01575</td>\n",
       "      <td>0.017282</td>\n",
       "      <td>-0.030595</td>\n",
       "      <td>0.031155</td>\n",
       "      <td>0.004512</td>\n",
       "      <td>-0.010848</td>\n",
       "      <td>0.031333</td>\n",
       "      <td>-0.012696</td>\n",
       "      <td>0.010837</td>\n",
       "    </tr>\n",
       "    <tr>\n",
       "      <th>min</th>\n",
       "      <td>-0.485000</td>\n",
       "      <td>-0.597000</td>\n",
       "      <td>0.062000</td>\n",
       "      <td>-0.095000</td>\n",
       "      <td>-0.21300</td>\n",
       "      <td>-0.166000</td>\n",
       "      <td>-0.273000</td>\n",
       "      <td>-0.217000</td>\n",
       "      <td>-0.305000</td>\n",
       "      <td>-0.112000</td>\n",
       "      <td>-0.181000</td>\n",
       "      <td>-0.188000</td>\n",
       "      <td>-0.093000</td>\n",
       "    </tr>\n",
       "    <tr>\n",
       "      <th>25%</th>\n",
       "      <td>-0.030000</td>\n",
       "      <td>-0.052000</td>\n",
       "      <td>0.209000</td>\n",
       "      <td>-0.024000</td>\n",
       "      <td>-0.04975</td>\n",
       "      <td>-0.030000</td>\n",
       "      <td>-0.057000</td>\n",
       "      <td>-0.024750</td>\n",
       "      <td>-0.024250</td>\n",
       "      <td>-0.044000</td>\n",
       "      <td>-0.024500</td>\n",
       "      <td>-0.048500</td>\n",
       "      <td>-0.016750</td>\n",
       "    </tr>\n",
       "    <tr>\n",
       "      <th>50%</th>\n",
       "      <td>0.000000</td>\n",
       "      <td>-0.036000</td>\n",
       "      <td>0.292000</td>\n",
       "      <td>-0.004000</td>\n",
       "      <td>-0.00200</td>\n",
       "      <td>0.023000</td>\n",
       "      <td>-0.023000</td>\n",
       "      <td>0.026500</td>\n",
       "      <td>0.010000</td>\n",
       "      <td>-0.011000</td>\n",
       "      <td>0.010000</td>\n",
       "      <td>-0.014000</td>\n",
       "      <td>-0.000500</td>\n",
       "    </tr>\n",
       "    <tr>\n",
       "      <th>75%</th>\n",
       "      <td>0.016000</td>\n",
       "      <td>-0.020000</td>\n",
       "      <td>0.391000</td>\n",
       "      <td>0.021000</td>\n",
       "      <td>0.03000</td>\n",
       "      <td>0.055000</td>\n",
       "      <td>0.010250</td>\n",
       "      <td>0.071250</td>\n",
       "      <td>0.054500</td>\n",
       "      <td>0.016500</td>\n",
       "      <td>0.048500</td>\n",
       "      <td>0.047000</td>\n",
       "      <td>0.038250</td>\n",
       "    </tr>\n",
       "    <tr>\n",
       "      <th>max</th>\n",
       "      <td>0.112000</td>\n",
       "      <td>0.020000</td>\n",
       "      <td>0.773000</td>\n",
       "      <td>0.102000</td>\n",
       "      <td>0.17600</td>\n",
       "      <td>0.194000</td>\n",
       "      <td>0.065000</td>\n",
       "      <td>0.330000</td>\n",
       "      <td>0.139000</td>\n",
       "      <td>0.177000</td>\n",
       "      <td>1.178000</td>\n",
       "      <td>0.114000</td>\n",
       "      <td>0.151000</td>\n",
       "    </tr>\n",
       "  </tbody>\n",
       "</table>\n",
       "</div>"
      ],
      "text/plain": [
       "      _pos_pred_ret_3mo  _fp_ret_3mo       _ap  banksbanks_top5_ret_3mo  \\\n",
       "mean          -0.009548    -0.046613  0.319315                -0.002054   \n",
       "min           -0.485000    -0.597000  0.062000                -0.095000   \n",
       "25%           -0.030000    -0.052000  0.209000                -0.024000   \n",
       "50%            0.000000    -0.036000  0.292000                -0.004000   \n",
       "75%            0.016000    -0.020000  0.391000                 0.021000   \n",
       "max            0.112000     0.020000  0.773000                 0.102000   \n",
       "\n",
       "      capitgoods_top5_ret_3mo  chemiicals_top5_ret_3mo  \\\n",
       "mean                 -0.01575                 0.017282   \n",
       "min                  -0.21300                -0.166000   \n",
       "25%                  -0.04975                -0.030000   \n",
       "50%                  -0.00200                 0.023000   \n",
       "75%                   0.03000                 0.055000   \n",
       "max                   0.17600                 0.194000   \n",
       "\n",
       "      divercials_top5_ret_3mo  energnergy_top5_ret_3mo  \\\n",
       "mean                -0.030595                 0.031155   \n",
       "min                 -0.273000                -0.217000   \n",
       "25%                 -0.057000                -0.024750   \n",
       "50%                 -0.023000                 0.026500   \n",
       "75%                  0.010250                 0.071250   \n",
       "max                  0.065000                 0.330000   \n",
       "\n",
       "      semicpment_top5_ret_3mo  softwvices_top5_ret_3mo  \\\n",
       "mean                 0.004512                -0.010848   \n",
       "min                 -0.305000                -0.112000   \n",
       "25%                 -0.024250                -0.044000   \n",
       "50%                  0.010000                -0.011000   \n",
       "75%                  0.054500                 0.016500   \n",
       "max                  0.139000                 0.177000   \n",
       "\n",
       "      technpment_top5_ret_3mo  transation_top5_ret_3mo  \\\n",
       "mean                 0.031333                -0.012696   \n",
       "min                 -0.181000                -0.188000   \n",
       "25%                 -0.024500                -0.048500   \n",
       "50%                  0.010000                -0.014000   \n",
       "75%                  0.048500                 0.047000   \n",
       "max                  1.178000                 0.114000   \n",
       "\n",
       "      utiliities_top5_ret_3mo  \n",
       "mean                 0.010837  \n",
       "min                 -0.093000  \n",
       "25%                 -0.016750  \n",
       "50%                 -0.000500  \n",
       "75%                  0.038250  \n",
       "max                  0.151000  "
      ]
     },
     "execution_count": 37,
     "metadata": {},
     "output_type": "execute_result"
    }
   ],
   "source": [
    "vld = pd.read_csv(\n",
    "    \"data/experiments/validation/new_adf_recent_adf_included_validation_pipeline_64_False_2_6_1000_5_0.4_0.005_1.csv\"\n",
    ")\n",
    "vld[\n",
    "    [\n",
    "        \"_pos_pred_ret_3mo\",\n",
    "        \"_fp_ret_3mo\",\n",
    "        \"_ap\",\n",
    "        \"banksbanks_top5_ret_3mo\",\n",
    "        \"capitgoods_top5_ret_3mo\",\n",
    "        \"chemiicals_top5_ret_3mo\",\n",
    "        \"divercials_top5_ret_3mo\",\n",
    "        \"energnergy_top5_ret_3mo\",\n",
    "        \"semicpment_top5_ret_3mo\",\n",
    "        \"softwvices_top5_ret_3mo\",\n",
    "        \"technpment_top5_ret_3mo\",\n",
    "        \"transation_top5_ret_3mo\",\n",
    "        \"utiliities_top5_ret_3mo\",\n",
    "    ]\n",
    "].describe().drop(index=[\"std\", \"count\"])"
   ]
  },
  {
   "cell_type": "code",
   "execution_count": 36,
   "metadata": {},
   "outputs": [
    {
     "data": {
      "text/html": [
       "<div>\n",
       "<style scoped>\n",
       "    .dataframe tbody tr th:only-of-type {\n",
       "        vertical-align: middle;\n",
       "    }\n",
       "\n",
       "    .dataframe tbody tr th {\n",
       "        vertical-align: top;\n",
       "    }\n",
       "\n",
       "    .dataframe thead th {\n",
       "        text-align: right;\n",
       "    }\n",
       "</style>\n",
       "<table border=\"1\" class=\"dataframe\">\n",
       "  <thead>\n",
       "    <tr style=\"text-align: right;\">\n",
       "      <th></th>\n",
       "      <th>_pos_pred_ret_3mo</th>\n",
       "      <th>_fp_ret_3mo</th>\n",
       "      <th>_ap</th>\n",
       "      <th>banksbanks_top5_ret_3mo</th>\n",
       "      <th>capitgoods_top5_ret_3mo</th>\n",
       "      <th>chemiicals_top5_ret_3mo</th>\n",
       "      <th>divercials_top5_ret_3mo</th>\n",
       "      <th>energnergy_top5_ret_3mo</th>\n",
       "      <th>semicpment_top5_ret_3mo</th>\n",
       "      <th>softwvices_top5_ret_3mo</th>\n",
       "      <th>technpment_top5_ret_3mo</th>\n",
       "      <th>transation_top5_ret_3mo</th>\n",
       "      <th>utiliities_top5_ret_3mo</th>\n",
       "    </tr>\n",
       "  </thead>\n",
       "  <tbody>\n",
       "    <tr>\n",
       "      <th>mean</th>\n",
       "      <td>0.047659</td>\n",
       "      <td>-0.027708</td>\n",
       "      <td>0.35029</td>\n",
       "      <td>0.004711</td>\n",
       "      <td>-0.002697</td>\n",
       "      <td>0.010904</td>\n",
       "      <td>-0.004976</td>\n",
       "      <td>0.02812</td>\n",
       "      <td>-0.002802</td>\n",
       "      <td>0.000348</td>\n",
       "      <td>0.019851</td>\n",
       "      <td>0.006367</td>\n",
       "      <td>0.006594</td>\n",
       "    </tr>\n",
       "    <tr>\n",
       "      <th>min</th>\n",
       "      <td>-0.094000</td>\n",
       "      <td>-0.101000</td>\n",
       "      <td>0.00000</td>\n",
       "      <td>-0.104000</td>\n",
       "      <td>-0.190000</td>\n",
       "      <td>-0.106000</td>\n",
       "      <td>-0.146000</td>\n",
       "      <td>-0.19000</td>\n",
       "      <td>-0.226000</td>\n",
       "      <td>-0.271000</td>\n",
       "      <td>-0.675000</td>\n",
       "      <td>-0.218000</td>\n",
       "      <td>-0.064000</td>\n",
       "    </tr>\n",
       "    <tr>\n",
       "      <th>25%</th>\n",
       "      <td>-0.020250</td>\n",
       "      <td>-0.046250</td>\n",
       "      <td>0.16700</td>\n",
       "      <td>-0.026750</td>\n",
       "      <td>-0.048000</td>\n",
       "      <td>-0.028000</td>\n",
       "      <td>-0.043250</td>\n",
       "      <td>-0.04200</td>\n",
       "      <td>-0.030000</td>\n",
       "      <td>-0.032000</td>\n",
       "      <td>-0.027500</td>\n",
       "      <td>-0.034000</td>\n",
       "      <td>-0.020000</td>\n",
       "    </tr>\n",
       "    <tr>\n",
       "      <th>50%</th>\n",
       "      <td>0.015500</td>\n",
       "      <td>-0.021000</td>\n",
       "      <td>0.32100</td>\n",
       "      <td>-0.002500</td>\n",
       "      <td>-0.002000</td>\n",
       "      <td>0.001000</td>\n",
       "      <td>-0.002500</td>\n",
       "      <td>0.00300</td>\n",
       "      <td>0.000000</td>\n",
       "      <td>0.003000</td>\n",
       "      <td>0.032000</td>\n",
       "      <td>0.011500</td>\n",
       "      <td>0.005000</td>\n",
       "    </tr>\n",
       "    <tr>\n",
       "      <th>75%</th>\n",
       "      <td>0.044250</td>\n",
       "      <td>-0.003000</td>\n",
       "      <td>0.47300</td>\n",
       "      <td>0.030500</td>\n",
       "      <td>0.035000</td>\n",
       "      <td>0.047000</td>\n",
       "      <td>0.033000</td>\n",
       "      <td>0.06750</td>\n",
       "      <td>0.048000</td>\n",
       "      <td>0.053000</td>\n",
       "      <td>0.077000</td>\n",
       "      <td>0.040500</td>\n",
       "      <td>0.020000</td>\n",
       "    </tr>\n",
       "    <tr>\n",
       "      <th>max</th>\n",
       "      <td>1.309000</td>\n",
       "      <td>0.036000</td>\n",
       "      <td>1.00000</td>\n",
       "      <td>0.153000</td>\n",
       "      <td>0.261000</td>\n",
       "      <td>0.162000</td>\n",
       "      <td>0.136000</td>\n",
       "      <td>0.55800</td>\n",
       "      <td>0.138000</td>\n",
       "      <td>0.164000</td>\n",
       "      <td>0.824000</td>\n",
       "      <td>0.228000</td>\n",
       "      <td>0.088000</td>\n",
       "    </tr>\n",
       "  </tbody>\n",
       "</table>\n",
       "</div>"
      ],
      "text/plain": [
       "      _pos_pred_ret_3mo  _fp_ret_3mo      _ap  banksbanks_top5_ret_3mo  \\\n",
       "mean           0.047659    -0.027708  0.35029                 0.004711   \n",
       "min           -0.094000    -0.101000  0.00000                -0.104000   \n",
       "25%           -0.020250    -0.046250  0.16700                -0.026750   \n",
       "50%            0.015500    -0.021000  0.32100                -0.002500   \n",
       "75%            0.044250    -0.003000  0.47300                 0.030500   \n",
       "max            1.309000     0.036000  1.00000                 0.153000   \n",
       "\n",
       "      capitgoods_top5_ret_3mo  chemiicals_top5_ret_3mo  \\\n",
       "mean                -0.002697                 0.010904   \n",
       "min                 -0.190000                -0.106000   \n",
       "25%                 -0.048000                -0.028000   \n",
       "50%                 -0.002000                 0.001000   \n",
       "75%                  0.035000                 0.047000   \n",
       "max                  0.261000                 0.162000   \n",
       "\n",
       "      divercials_top5_ret_3mo  energnergy_top5_ret_3mo  \\\n",
       "mean                -0.004976                  0.02812   \n",
       "min                 -0.146000                 -0.19000   \n",
       "25%                 -0.043250                 -0.04200   \n",
       "50%                 -0.002500                  0.00300   \n",
       "75%                  0.033000                  0.06750   \n",
       "max                  0.136000                  0.55800   \n",
       "\n",
       "      semicpment_top5_ret_3mo  softwvices_top5_ret_3mo  \\\n",
       "mean                -0.002802                 0.000348   \n",
       "min                 -0.226000                -0.271000   \n",
       "25%                 -0.030000                -0.032000   \n",
       "50%                  0.000000                 0.003000   \n",
       "75%                  0.048000                 0.053000   \n",
       "max                  0.138000                 0.164000   \n",
       "\n",
       "      technpment_top5_ret_3mo  transation_top5_ret_3mo  \\\n",
       "mean                 0.019851                 0.006367   \n",
       "min                 -0.675000                -0.218000   \n",
       "25%                 -0.027500                -0.034000   \n",
       "50%                  0.032000                 0.011500   \n",
       "75%                  0.077000                 0.040500   \n",
       "max                  0.824000                 0.228000   \n",
       "\n",
       "      utiliities_top5_ret_3mo  \n",
       "mean                 0.006594  \n",
       "min                 -0.064000  \n",
       "25%                 -0.020000  \n",
       "50%                  0.005000  \n",
       "75%                  0.020000  \n",
       "max                  0.088000  "
      ]
     },
     "execution_count": 36,
     "metadata": {},
     "output_type": "execute_result"
    }
   ],
   "source": [
    "vld = pd.read_csv(\"data/experiments/validation/dynamic-train-window-sparse_validation_pipeline_62_False_2_6_1000_5_0.4_0.005_1.csv\")\n",
    "vld[[\"_pos_pred_ret_3mo\", \"_fp_ret_3mo\", \"_ap\", \"banksbanks_top5_ret_3mo\", \"capitgoods_top5_ret_3mo\", \"chemiicals_top5_ret_3mo\", \"divercials_top5_ret_3mo\", \"energnergy_top5_ret_3mo\", \"semicpment_top5_ret_3mo\", \"softwvices_top5_ret_3mo\", \"technpment_top5_ret_3mo\", \"transation_top5_ret_3mo\", \"utiliities_top5_ret_3mo\"]].describe().drop(index=[\"std\", \"count\"])"
   ]
  },
  {
   "cell_type": "code",
   "execution_count": null,
   "metadata": {},
   "outputs": [],
   "source": []
  }
 ],
 "metadata": {
  "environment": {
   "kernel": "python3",
   "name": "common-cpu.m103",
   "type": "gcloud",
   "uri": "gcr.io/deeplearning-platform-release/base-cpu:m103"
  },
  "kernelspec": {
   "display_name": "Python 3",
   "language": "python",
   "name": "python3"
  },
  "language_info": {
   "codemirror_mode": {
    "name": "ipython",
    "version": 3
   },
   "file_extension": ".py",
   "mimetype": "text/x-python",
   "name": "python",
   "nbconvert_exporter": "python",
   "pygments_lexer": "ipython3",
   "version": "3.7.12"
  }
 },
 "nbformat": 4,
 "nbformat_minor": 4
}
